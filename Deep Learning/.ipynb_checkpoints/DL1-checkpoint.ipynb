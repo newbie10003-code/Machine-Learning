{
 "cells": [
  {
   "cell_type": "markdown",
   "id": "9d0f137f",
   "metadata": {},
   "source": [
    "# Importing tensorflow"
   ]
  },
  {
   "cell_type": "code",
   "execution_count": 1,
   "id": "63945011",
   "metadata": {},
   "outputs": [
    {
     "name": "stderr",
     "output_type": "stream",
     "text": [
      "2023-05-22 20:25:24.553457: I tensorflow/tsl/cuda/cudart_stub.cc:28] Could not find cuda drivers on your machine, GPU will not be used.\n",
      "2023-05-22 20:25:24.677458: I tensorflow/tsl/cuda/cudart_stub.cc:28] Could not find cuda drivers on your machine, GPU will not be used.\n",
      "2023-05-22 20:25:24.679381: I tensorflow/core/platform/cpu_feature_guard.cc:182] This TensorFlow binary is optimized to use available CPU instructions in performance-critical operations.\n",
      "To enable the following instructions: AVX2 FMA, in other operations, rebuild TensorFlow with the appropriate compiler flags.\n",
      "2023-05-22 20:25:26.231575: W tensorflow/compiler/tf2tensorrt/utils/py_utils.cc:38] TF-TRT Warning: Could not find TensorRT\n"
     ]
    }
   ],
   "source": [
    "import tensorflow as tf\n",
    "import numpy as np\n",
    "# from tensorflow.python.ops.numpy_ops import np_config\n",
    "# np_config.enable_numpy_behavior()"
   ]
  },
  {
   "cell_type": "code",
   "execution_count": 2,
   "id": "572b6146",
   "metadata": {},
   "outputs": [
    {
     "name": "stdout",
     "output_type": "stream",
     "text": [
      "<module 'tensorflow._api.v2.version' from '/home/newbie/anaconda3/lib/python3.10/site-packages/tensorflow/_api/v2/version/__init__.py'>\n"
     ]
    }
   ],
   "source": [
    "print(tf.version)"
   ]
  },
  {
   "cell_type": "markdown",
   "id": "aea8afcb",
   "metadata": {},
   "source": [
    "# Creating a tensor"
   ]
  },
  {
   "cell_type": "code",
   "execution_count": 3,
   "id": "9c951a7d",
   "metadata": {},
   "outputs": [
    {
     "name": "stdout",
     "output_type": "stream",
     "text": [
      "tf.Tensor(4.0, shape=(), dtype=float32)\n"
     ]
    },
    {
     "name": "stderr",
     "output_type": "stream",
     "text": [
      "2023-05-22 20:25:28.241315: E tensorflow/compiler/xla/stream_executor/cuda/cuda_driver.cc:266] failed call to cuInit: CUDA_ERROR_NO_DEVICE: no CUDA-capable device is detected\n"
     ]
    }
   ],
   "source": [
    "rank_0_tensor = tf.constant(4.0)\n",
    "print(rank_0_tensor)"
   ]
  },
  {
   "cell_type": "code",
   "execution_count": 4,
   "id": "f341d638",
   "metadata": {},
   "outputs": [],
   "source": [
    "text = tf.Variable(\"Hi my name is Newbie Bunny\", tf.string)"
   ]
  },
  {
   "cell_type": "code",
   "execution_count": 5,
   "id": "769d509e",
   "metadata": {},
   "outputs": [
    {
     "name": "stdout",
     "output_type": "stream",
     "text": [
      "<tf.Variable 'Variable:0' shape=() dtype=string, numpy=b'Hi my name is Newbie Bunny'>\n"
     ]
    }
   ],
   "source": [
    "print(text)"
   ]
  },
  {
   "cell_type": "code",
   "execution_count": 6,
   "id": "4bf0cc7b",
   "metadata": {},
   "outputs": [
    {
     "data": {
      "text/plain": [
       "TensorShape([])"
      ]
     },
     "execution_count": 6,
     "metadata": {},
     "output_type": "execute_result"
    }
   ],
   "source": [
    "text.get_shape()"
   ]
  },
  {
   "cell_type": "code",
   "execution_count": 7,
   "id": "2813f755",
   "metadata": {},
   "outputs": [
    {
     "data": {
      "text/plain": [
       "tf.string"
      ]
     },
     "execution_count": 7,
     "metadata": {},
     "output_type": "execute_result"
    }
   ],
   "source": [
    "text.dtype"
   ]
  },
  {
   "cell_type": "code",
   "execution_count": 8,
   "id": "c5fd0a0c",
   "metadata": {},
   "outputs": [
    {
     "name": "stdout",
     "output_type": "stream",
     "text": [
      "tf.Tensor(0, shape=(), dtype=int32)\n"
     ]
    }
   ],
   "source": [
    "print(tf.rank(text))"
   ]
  },
  {
   "cell_type": "markdown",
   "id": "7cff7735",
   "metadata": {},
   "source": [
    "# Rank of a tensor\n",
    "##### Rank of a tensor is also known as degree of a tensor. The rank of a tensor means the number of dimensions involved in the tensor."
   ]
  },
  {
   "cell_type": "code",
   "execution_count": 9,
   "id": "c5792b64",
   "metadata": {},
   "outputs": [
    {
     "name": "stdout",
     "output_type": "stream",
     "text": [
      "tf.Tensor(1, shape=(), dtype=int32)\n"
     ]
    }
   ],
   "source": [
    "rank1_tensor = tf.Variable([\"hello\"], tf.string)\n",
    "print(tf.rank(rank1_tensor))"
   ]
  },
  {
   "cell_type": "code",
   "execution_count": 10,
   "id": "345ded31",
   "metadata": {},
   "outputs": [
    {
     "name": "stdout",
     "output_type": "stream",
     "text": [
      "tf.Tensor(2, shape=(), dtype=int32)\n"
     ]
    }
   ],
   "source": [
    "rank2_tensor = tf.Variable([['Hello'], ['Hi']], tf.string)\n",
    "print(tf.rank(rank2_tensor))"
   ]
  },
  {
   "cell_type": "code",
   "execution_count": 11,
   "id": "3f1c7a25",
   "metadata": {},
   "outputs": [
    {
     "data": {
      "text/plain": [
       "<tf.Variable 'Variable:0' shape=(2, 1) dtype=string, numpy=\n",
       "array([[b'Hello'],\n",
       "       [b'Hi']], dtype=object)>"
      ]
     },
     "execution_count": 11,
     "metadata": {},
     "output_type": "execute_result"
    }
   ],
   "source": [
    "rank2_tensor"
   ]
  },
  {
   "cell_type": "code",
   "execution_count": 12,
   "id": "c68ac668",
   "metadata": {},
   "outputs": [
    {
     "name": "stdout",
     "output_type": "stream",
     "text": [
      "tf.Tensor([b'Hello'], shape=(1,), dtype=string)\n"
     ]
    }
   ],
   "source": [
    "print(rank2_tensor[0])"
   ]
  },
  {
   "cell_type": "markdown",
   "id": "10650320",
   "metadata": {},
   "source": [
    "# Shape of a tensor"
   ]
  },
  {
   "cell_type": "markdown",
   "id": "6afb0f70",
   "metadata": {},
   "source": [
    "##### Shape of a tensor is basically the amount of elements that exist in each dimension"
   ]
  },
  {
   "cell_type": "code",
   "execution_count": 13,
   "id": "cb6e9dae",
   "metadata": {},
   "outputs": [
    {
     "name": "stdout",
     "output_type": "stream",
     "text": [
      "()\n"
     ]
    }
   ],
   "source": [
    "print(rank_0_tensor.shape)"
   ]
  },
  {
   "cell_type": "code",
   "execution_count": 14,
   "id": "0ed4f95e",
   "metadata": {},
   "outputs": [
    {
     "name": "stdout",
     "output_type": "stream",
     "text": [
      "(1,)\n"
     ]
    }
   ],
   "source": [
    "print(rank1_tensor.shape)"
   ]
  },
  {
   "cell_type": "code",
   "execution_count": 15,
   "id": "d1018407",
   "metadata": {},
   "outputs": [
    {
     "name": "stdout",
     "output_type": "stream",
     "text": [
      "(2, 1)\n"
     ]
    }
   ],
   "source": [
    "print(rank2_tensor.shape)"
   ]
  },
  {
   "cell_type": "markdown",
   "id": "1595c8b4",
   "metadata": {},
   "source": [
    "# Reshaping tensors"
   ]
  },
  {
   "cell_type": "code",
   "execution_count": 16,
   "id": "1b74d5a8",
   "metadata": {},
   "outputs": [],
   "source": [
    "t1 = tf.ones([1, 2, 3])\n",
    "t2 = tf.reshape(t1, [2, 3, 1])\n",
    "t3 = tf.reshape(t2, [3, -1])    # -1 infers itself what the next parametermust be to incorporate all the elements\n"
   ]
  },
  {
   "cell_type": "code",
   "execution_count": 17,
   "id": "0ac178fd",
   "metadata": {},
   "outputs": [
    {
     "name": "stdout",
     "output_type": "stream",
     "text": [
      "tf.Tensor(\n",
      "[[[1. 1. 1.]\n",
      "  [1. 1. 1.]]], shape=(1, 2, 3), dtype=float32)\n"
     ]
    }
   ],
   "source": [
    "print(t1)"
   ]
  },
  {
   "cell_type": "code",
   "execution_count": 18,
   "id": "1d38403a",
   "metadata": {},
   "outputs": [
    {
     "name": "stdout",
     "output_type": "stream",
     "text": [
      "tf.Tensor(\n",
      "[[[1.]\n",
      "  [1.]\n",
      "  [1.]]\n",
      "\n",
      " [[1.]\n",
      "  [1.]\n",
      "  [1.]]], shape=(2, 3, 1), dtype=float32)\n"
     ]
    }
   ],
   "source": [
    "print(t2)"
   ]
  },
  {
   "cell_type": "code",
   "execution_count": 19,
   "id": "5b690802",
   "metadata": {},
   "outputs": [
    {
     "name": "stdout",
     "output_type": "stream",
     "text": [
      "tf.Tensor(\n",
      "[[1. 1.]\n",
      " [1. 1.]\n",
      " [1. 1.]], shape=(3, 2), dtype=float32)\n"
     ]
    }
   ],
   "source": [
    "print(t3)"
   ]
  },
  {
   "cell_type": "markdown",
   "id": "ad4d15e4",
   "metadata": {},
   "source": [
    "# Types of tensors"
   ]
  },
  {
   "cell_type": "markdown",
   "id": "bd48cd19",
   "metadata": {},
   "source": [
    "##### Variables, Constants, Placeholder and SparseTensor"
   ]
  },
  {
   "cell_type": "markdown",
   "id": "4ee47e15",
   "metadata": {},
   "source": [
    "##### Other than variables, all the tensors are immutable"
   ]
  },
  {
   "cell_type": "markdown",
   "id": "9105554d",
   "metadata": {},
   "source": [
    "# Slicing tensors"
   ]
  },
  {
   "cell_type": "code",
   "execution_count": 23,
   "id": "fdc31686",
   "metadata": {},
   "outputs": [
    {
     "name": "stdout",
     "output_type": "stream",
     "text": [
      "tf.Tensor(2, shape=(), dtype=int32)\n",
      "(4, 5)\n"
     ]
    }
   ],
   "source": [
    "# Creating a 2D tensor\n",
    "matrix = [[1,2,3,4,5],\n",
    "          [6,7,8,9,10],\n",
    "          [11,12,13,14,15],\n",
    "          [16,17,18,19,20]]\n",
    "\n",
    "tensor = tf.Variable(matrix, dtype=tf.int32) \n",
    "print(tf.rank(tensor))\n",
    "print(tensor.shape)"
   ]
  },
  {
   "cell_type": "code",
   "execution_count": 24,
   "id": "6a9192df",
   "metadata": {},
   "outputs": [
    {
     "name": "stdout",
     "output_type": "stream",
     "text": [
      "tf.Tensor(3, shape=(), dtype=int32)\n",
      "tf.Tensor([1 2 3 4 5], shape=(5,), dtype=int32)\n",
      "tf.Tensor([ 1  6 11 16], shape=(4,), dtype=int32)\n",
      "tf.Tensor(\n",
      "[[ 6  7  8  9 10]\n",
      " [16 17 18 19 20]], shape=(2, 5), dtype=int32)\n",
      "tf.Tensor([ 6 11], shape=(2,), dtype=int32)\n"
     ]
    }
   ],
   "source": [
    "# Now lets select some different rows and columns from our tensor\n",
    "\n",
    "three = tensor[0,2]  # selects the 3rd element from the 1st row\n",
    "print(three)  # -> 3\n",
    "\n",
    "row1 = tensor[0]  # selects the first row\n",
    "print(row1)\n",
    "\n",
    "column1 = tensor[:, 0]  # selects the first column\n",
    "print(column1)\n",
    "\n",
    "row_2_and_4 = tensor[1::2]  # selects second and fourth row\n",
    "print(row_2_and_4)\n",
    "\n",
    "column_1_in_row_2_and_3 = tensor[1:3, 0]\n",
    "print(column_1_in_row_2_and_3)\n"
   ]
  },
  {
   "cell_type": "code",
   "execution_count": null,
   "id": "4e0ce092",
   "metadata": {},
   "outputs": [],
   "source": []
  }
 ],
 "metadata": {
  "kernelspec": {
   "display_name": "Python 3 (ipykernel)",
   "language": "python",
   "name": "python3"
  },
  "language_info": {
   "codemirror_mode": {
    "name": "ipython",
    "version": 3
   },
   "file_extension": ".py",
   "mimetype": "text/x-python",
   "name": "python",
   "nbconvert_exporter": "python",
   "pygments_lexer": "ipython3",
   "version": "3.10.9"
  }
 },
 "nbformat": 4,
 "nbformat_minor": 5
}
