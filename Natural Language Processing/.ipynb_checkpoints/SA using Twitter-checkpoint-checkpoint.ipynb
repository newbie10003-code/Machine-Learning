{
 "cells": [
  {
   "cell_type": "markdown",
   "id": "14775bfd",
   "metadata": {},
   "source": [
    "# Imports"
   ]
  },
  {
   "cell_type": "code",
   "execution_count": 1,
   "id": "25799ab0",
   "metadata": {},
   "outputs": [],
   "source": [
    "import nltk\n",
    "import pandas as pd\n",
    "import numpy as np\n",
    "import seaborn as sns\n",
    "import matplotlib.pyplot as plt\n",
    "import re\n",
    "import pickle\n",
    "from wordcloud import wordcloud\n",
    "import string\n",
    "from sklearn.model_selection import train_test_split\n",
    "from sklearn.feature_extraction.text import TfidfVectorizer\n",
    "from lightgbm import LGBMClassifier\n",
    "from sklearn.metrics import classification_report, confusion_matrix\n",
    "from sklearn.linear_model import LogisticRegression"
   ]
  },
  {
   "cell_type": "markdown",
   "id": "a3ff0f9a",
   "metadata": {},
   "source": [
    "# Loading the dataset"
   ]
  },
  {
   "cell_type": "code",
   "execution_count": 2,
   "id": "303e57b5",
   "metadata": {},
   "outputs": [],
   "source": [
    "data = pd.read_csv('training.1600000.processed.noemoticon.csv', encoding='ISO-8859-1', names = 'Sentiment IDs Date Flag User Text'.split())"
   ]
  },
  {
   "cell_type": "code",
   "execution_count": 3,
   "id": "fe213205",
   "metadata": {},
   "outputs": [
    {
     "data": {
      "text/html": [
       "<div>\n",
       "<style scoped>\n",
       "    .dataframe tbody tr th:only-of-type {\n",
       "        vertical-align: middle;\n",
       "    }\n",
       "\n",
       "    .dataframe tbody tr th {\n",
       "        vertical-align: top;\n",
       "    }\n",
       "\n",
       "    .dataframe thead th {\n",
       "        text-align: right;\n",
       "    }\n",
       "</style>\n",
       "<table border=\"1\" class=\"dataframe\">\n",
       "  <thead>\n",
       "    <tr style=\"text-align: right;\">\n",
       "      <th></th>\n",
       "      <th>Sentiment</th>\n",
       "      <th>IDs</th>\n",
       "      <th>Date</th>\n",
       "      <th>Flag</th>\n",
       "      <th>User</th>\n",
       "      <th>Text</th>\n",
       "    </tr>\n",
       "  </thead>\n",
       "  <tbody>\n",
       "    <tr>\n",
       "      <th>0</th>\n",
       "      <td>0</td>\n",
       "      <td>1467810369</td>\n",
       "      <td>Mon Apr 06 22:19:45 PDT 2009</td>\n",
       "      <td>NO_QUERY</td>\n",
       "      <td>_TheSpecialOne_</td>\n",
       "      <td>@switchfoot http://twitpic.com/2y1zl - Awww, t...</td>\n",
       "    </tr>\n",
       "    <tr>\n",
       "      <th>1</th>\n",
       "      <td>0</td>\n",
       "      <td>1467810672</td>\n",
       "      <td>Mon Apr 06 22:19:49 PDT 2009</td>\n",
       "      <td>NO_QUERY</td>\n",
       "      <td>scotthamilton</td>\n",
       "      <td>is upset that he can't update his Facebook by ...</td>\n",
       "    </tr>\n",
       "    <tr>\n",
       "      <th>2</th>\n",
       "      <td>0</td>\n",
       "      <td>1467810917</td>\n",
       "      <td>Mon Apr 06 22:19:53 PDT 2009</td>\n",
       "      <td>NO_QUERY</td>\n",
       "      <td>mattycus</td>\n",
       "      <td>@Kenichan I dived many times for the ball. Man...</td>\n",
       "    </tr>\n",
       "    <tr>\n",
       "      <th>3</th>\n",
       "      <td>0</td>\n",
       "      <td>1467811184</td>\n",
       "      <td>Mon Apr 06 22:19:57 PDT 2009</td>\n",
       "      <td>NO_QUERY</td>\n",
       "      <td>ElleCTF</td>\n",
       "      <td>my whole body feels itchy and like its on fire</td>\n",
       "    </tr>\n",
       "    <tr>\n",
       "      <th>4</th>\n",
       "      <td>0</td>\n",
       "      <td>1467811193</td>\n",
       "      <td>Mon Apr 06 22:19:57 PDT 2009</td>\n",
       "      <td>NO_QUERY</td>\n",
       "      <td>Karoli</td>\n",
       "      <td>@nationwideclass no, it's not behaving at all....</td>\n",
       "    </tr>\n",
       "  </tbody>\n",
       "</table>\n",
       "</div>"
      ],
      "text/plain": [
       "   Sentiment         IDs                          Date      Flag  \\\n",
       "0          0  1467810369  Mon Apr 06 22:19:45 PDT 2009  NO_QUERY   \n",
       "1          0  1467810672  Mon Apr 06 22:19:49 PDT 2009  NO_QUERY   \n",
       "2          0  1467810917  Mon Apr 06 22:19:53 PDT 2009  NO_QUERY   \n",
       "3          0  1467811184  Mon Apr 06 22:19:57 PDT 2009  NO_QUERY   \n",
       "4          0  1467811193  Mon Apr 06 22:19:57 PDT 2009  NO_QUERY   \n",
       "\n",
       "              User                                               Text  \n",
       "0  _TheSpecialOne_  @switchfoot http://twitpic.com/2y1zl - Awww, t...  \n",
       "1    scotthamilton  is upset that he can't update his Facebook by ...  \n",
       "2         mattycus  @Kenichan I dived many times for the ball. Man...  \n",
       "3          ElleCTF    my whole body feels itchy and like its on fire   \n",
       "4           Karoli  @nationwideclass no, it's not behaving at all....  "
      ]
     },
     "execution_count": 3,
     "metadata": {},
     "output_type": "execute_result"
    }
   ],
   "source": [
    "data.head()"
   ]
  },
  {
   "cell_type": "code",
   "execution_count": 4,
   "id": "eadb4972",
   "metadata": {},
   "outputs": [],
   "source": [
    "data = data[['Sentiment', 'Text']]"
   ]
  },
  {
   "cell_type": "code",
   "execution_count": 5,
   "id": "9dab9c07",
   "metadata": {},
   "outputs": [
    {
     "data": {
      "text/html": [
       "<div>\n",
       "<style scoped>\n",
       "    .dataframe tbody tr th:only-of-type {\n",
       "        vertical-align: middle;\n",
       "    }\n",
       "\n",
       "    .dataframe tbody tr th {\n",
       "        vertical-align: top;\n",
       "    }\n",
       "\n",
       "    .dataframe thead th {\n",
       "        text-align: right;\n",
       "    }\n",
       "</style>\n",
       "<table border=\"1\" class=\"dataframe\">\n",
       "  <thead>\n",
       "    <tr style=\"text-align: right;\">\n",
       "      <th></th>\n",
       "      <th>Sentiment</th>\n",
       "      <th>Text</th>\n",
       "    </tr>\n",
       "  </thead>\n",
       "  <tbody>\n",
       "    <tr>\n",
       "      <th>0</th>\n",
       "      <td>0</td>\n",
       "      <td>@switchfoot http://twitpic.com/2y1zl - Awww, t...</td>\n",
       "    </tr>\n",
       "    <tr>\n",
       "      <th>1</th>\n",
       "      <td>0</td>\n",
       "      <td>is upset that he can't update his Facebook by ...</td>\n",
       "    </tr>\n",
       "    <tr>\n",
       "      <th>2</th>\n",
       "      <td>0</td>\n",
       "      <td>@Kenichan I dived many times for the ball. Man...</td>\n",
       "    </tr>\n",
       "    <tr>\n",
       "      <th>3</th>\n",
       "      <td>0</td>\n",
       "      <td>my whole body feels itchy and like its on fire</td>\n",
       "    </tr>\n",
       "    <tr>\n",
       "      <th>4</th>\n",
       "      <td>0</td>\n",
       "      <td>@nationwideclass no, it's not behaving at all....</td>\n",
       "    </tr>\n",
       "    <tr>\n",
       "      <th>...</th>\n",
       "      <td>...</td>\n",
       "      <td>...</td>\n",
       "    </tr>\n",
       "    <tr>\n",
       "      <th>1599995</th>\n",
       "      <td>4</td>\n",
       "      <td>Just woke up. Having no school is the best fee...</td>\n",
       "    </tr>\n",
       "    <tr>\n",
       "      <th>1599996</th>\n",
       "      <td>4</td>\n",
       "      <td>TheWDB.com - Very cool to hear old Walt interv...</td>\n",
       "    </tr>\n",
       "    <tr>\n",
       "      <th>1599997</th>\n",
       "      <td>4</td>\n",
       "      <td>Are you ready for your MoJo Makeover? Ask me f...</td>\n",
       "    </tr>\n",
       "    <tr>\n",
       "      <th>1599998</th>\n",
       "      <td>4</td>\n",
       "      <td>Happy 38th Birthday to my boo of alll time!!! ...</td>\n",
       "    </tr>\n",
       "    <tr>\n",
       "      <th>1599999</th>\n",
       "      <td>4</td>\n",
       "      <td>happy #charitytuesday @theNSPCC @SparksCharity...</td>\n",
       "    </tr>\n",
       "  </tbody>\n",
       "</table>\n",
       "<p>1600000 rows × 2 columns</p>\n",
       "</div>"
      ],
      "text/plain": [
       "         Sentiment                                               Text\n",
       "0                0  @switchfoot http://twitpic.com/2y1zl - Awww, t...\n",
       "1                0  is upset that he can't update his Facebook by ...\n",
       "2                0  @Kenichan I dived many times for the ball. Man...\n",
       "3                0    my whole body feels itchy and like its on fire \n",
       "4                0  @nationwideclass no, it's not behaving at all....\n",
       "...            ...                                                ...\n",
       "1599995          4  Just woke up. Having no school is the best fee...\n",
       "1599996          4  TheWDB.com - Very cool to hear old Walt interv...\n",
       "1599997          4  Are you ready for your MoJo Makeover? Ask me f...\n",
       "1599998          4  Happy 38th Birthday to my boo of alll time!!! ...\n",
       "1599999          4  happy #charitytuesday @theNSPCC @SparksCharity...\n",
       "\n",
       "[1600000 rows x 2 columns]"
      ]
     },
     "execution_count": 5,
     "metadata": {},
     "output_type": "execute_result"
    }
   ],
   "source": [
    "data"
   ]
  },
  {
   "cell_type": "code",
   "execution_count": 6,
   "id": "b77b0ce8",
   "metadata": {},
   "outputs": [],
   "source": [
    "data['Sentiment'].replace(4, 1,inplace=True)"
   ]
  },
  {
   "cell_type": "code",
   "execution_count": 7,
   "id": "b461868e",
   "metadata": {},
   "outputs": [
    {
     "data": {
      "text/plain": [
       "Sentiment    800000\n",
       "Text         800000\n",
       "dtype: int64"
      ]
     },
     "execution_count": 7,
     "metadata": {},
     "output_type": "execute_result"
    }
   ],
   "source": [
    "# Negative Sentiment tweet count\n",
    "data[data['Sentiment'] == 0].count()"
   ]
  },
  {
   "cell_type": "code",
   "execution_count": 8,
   "id": "9f740bf1",
   "metadata": {},
   "outputs": [],
   "source": [
    "text = list(data['Text'])"
   ]
  },
  {
   "cell_type": "code",
   "execution_count": 9,
   "id": "d11e117f",
   "metadata": {},
   "outputs": [],
   "source": [
    "sentiment = list(data['Sentiment'])"
   ]
  },
  {
   "cell_type": "code",
   "execution_count": 10,
   "id": "32518747",
   "metadata": {},
   "outputs": [
    {
     "data": {
      "text/plain": [
       "Sentiment    800000\n",
       "Text         800000\n",
       "dtype: int64"
      ]
     },
     "execution_count": 10,
     "metadata": {},
     "output_type": "execute_result"
    }
   ],
   "source": [
    "# Positive Sentiment tweet count\n",
    "data[data['Sentiment'] == 1].count()"
   ]
  },
  {
   "cell_type": "markdown",
   "id": "e7215404",
   "metadata": {},
   "source": [
    "# EDA"
   ]
  },
  {
   "cell_type": "code",
   "execution_count": 11,
   "id": "72320c58",
   "metadata": {
    "scrolled": false
   },
   "outputs": [
    {
     "data": {
      "text/plain": [
       "<Axes: xlabel='Sentiment'>"
      ]
     },
     "execution_count": 11,
     "metadata": {},
     "output_type": "execute_result"
    },
    {
     "data": {
      "image/png": "[encoded data removed]",
      "text/plain": [
       "<Figure size 640x480 with 1 Axes>"
      ]
     },
     "metadata": {},
     "output_type": "display_data"
    }
   ],
   "source": [
    "data.groupby(\"Sentiment\").count().plot(kind = 'bar')"
   ]
  },
  {
   "cell_type": "markdown",
   "id": "6ce37a63",
   "metadata": {},
   "source": [
    "# Preprocessing Data"
   ]
  },
  {
   "cell_type": "markdown",
   "id": "9b283840",
   "metadata": {},
   "source": [
    "### Steps:"
   ]
  },
  {
   "cell_type": "markdown",
   "id": "408bb68e",
   "metadata": {},
   "source": [
    "##### 1. Lowering case"
   ]
  },
  {
   "cell_type": "markdown",
   "id": "301d3e19",
   "metadata": {},
   "source": [
    "##### 2. Removing Stopwords"
   ]
  },
  {
   "cell_type": "markdown",
   "id": "bde255f4",
   "metadata": {},
   "source": [
    "##### 4. Removing punctuations"
   ]
  },
  {
   "cell_type": "markdown",
   "id": "2ca75f05",
   "metadata": {},
   "source": [
    "##### 5. Removing hashtags\n"
   ]
  },
  {
   "cell_type": "markdown",
   "id": "5c6b2c45",
   "metadata": {},
   "source": [
    "##### 2. Removing hyperlinks\n"
   ]
  },
  {
   "cell_type": "markdown",
   "id": "12631fbb",
   "metadata": {},
   "source": [
    "##### 7. Removing user tags"
   ]
  },
  {
   "cell_type": "markdown",
   "id": "35cb103e",
   "metadata": {},
   "source": [
    "##### 3. Lemmatization"
   ]
  },
  {
   "cell_type": "markdown",
   "id": "f0d2e97a",
   "metadata": {},
   "source": [
    "##### 8. Removing emojis"
   ]
  },
  {
   "cell_type": "code",
   "execution_count": 12,
   "id": "04b8b087",
   "metadata": {},
   "outputs": [],
   "source": [
    "emojis = {':)': 'smile', ':-)': 'smile', ';d': 'wink', ':-E': 'vampire', ':(': 'sad', \n",
    "          ':-(': 'sad', ':-<': 'sad', ':P': 'raspberry', ':O': 'surprised',\n",
    "          ':-@': 'shocked', ':@': 'shocked',':-$': 'confused', ':\\\\': 'annoyed', \n",
    "          ':#': 'mute', ':X': 'mute', ':^)': 'smile', ':-&': 'confused', '$_$': 'greedy',\n",
    "          '@@': 'eyeroll', ':-!': 'confused', ':-D': 'smile', ':-0': 'yell', 'O.o': 'confused',\n",
    "          '<(-_-)>': 'robot', 'd[-_-]b': 'dj', \":'-)\": 'sadsmile', ';)': 'wink', \n",
    "          ';-)': 'wink', 'O:-)': 'angel','O*-)': 'angel','(:-D': 'gossip', '=^.^=': 'cat'}"
   ]
  },
  {
   "cell_type": "code",
   "execution_count": 13,
   "id": "eb569560",
   "metadata": {},
   "outputs": [],
   "source": [
    "from nltk.corpus import stopwords\n",
    "from nltk.stem import WordNetLemmatizer"
   ]
  },
  {
   "cell_type": "code",
   "execution_count": 14,
   "id": "b3477982",
   "metadata": {},
   "outputs": [],
   "source": [
    "urlPattern = r'((https://)[^ ]*|(http://)[^ ]*|( www.)[^ ]*)'\n",
    "userPattern = r'@[^\\s]+'\n",
    "alphaPattern = r'[^A-Za-z0-9]'\n",
    "wnl = WordNetLemmatizer()\n",
    "\n",
    "def processText(text):\n",
    "    processedText = []\n",
    "    for tweet in text:\n",
    "        tweet = str.lower(tweet)\n",
    "        \n",
    "        tweet = re.sub(urlPattern, 'URL', tweet)\n",
    "        \n",
    "        tweet = re.sub(userPattern, 'USER', tweet)\n",
    "        \n",
    "        tweet = re.sub(alphaPattern, ' ', tweet)\n",
    "        \n",
    "        for emoji in emojis.keys():\n",
    "            tweet = tweet.replace(emoji, 'EMOJI' + emojis[emoji])\n",
    "        \n",
    "        newTweet = ''\n",
    "        for word in tweet.split():\n",
    "            if len(word) > 1:\n",
    "                newTweet += wnl.lemmatize(word) + ' '\n",
    "        newTweet.rstrip()\n",
    "        processedText.append(newTweet)\n",
    "    return processedText"
   ]
  },
  {
   "cell_type": "code",
   "execution_count": 15,
   "id": "325c0a83",
   "metadata": {},
   "outputs": [],
   "source": [
    "newTweets_neg = processText(text[:800000])"
   ]
  },
  {
   "cell_type": "code",
   "execution_count": 16,
   "id": "e8edfda3",
   "metadata": {},
   "outputs": [],
   "source": [
    "newTweets_pos = processText(text[800000:])"
   ]
  },
  {
   "cell_type": "markdown",
   "id": "f34a4e7f",
   "metadata": {},
   "source": [
    "# Visualisation"
   ]
  },
  {
   "cell_type": "code",
   "execution_count": 17,
   "id": "1d1a2e1b",
   "metadata": {},
   "outputs": [
    {
     "data": {
      "text/plain": [
       "<matplotlib.image.AxesImage at 0x2a7fa594a60>"
      ]
     },
     "execution_count": 17,
     "metadata": {},
     "output_type": "execute_result"
    },
    {
     "data": {
      "image/png": "[encoded data removed]",
      "text/plain": [
       "<Figure size 640x480 with 1 Axes>"
      ]
     },
     "metadata": {},
     "output_type": "display_data"
    }
   ],
   "source": [
    "data_neg = \" \".join(newTweets_neg)\n",
    "wc = wordcloud.WordCloud(max_words=100, height=1280, width=720).generate(data_neg)\n",
    "plt.imshow(wc)"
   ]
  },
  {
   "cell_type": "code",
   "execution_count": 18,
   "id": "a0fc1e02",
   "metadata": {
    "scrolled": false
   },
   "outputs": [
    {
     "data": {
      "text/plain": [
       "<matplotlib.image.AxesImage at 0x2a7fa4e1510>"
      ]
     },
     "execution_count": 18,
     "metadata": {},
     "output_type": "execute_result"
    },
    {
     "data": {
      "image/png": "[encoded data removed]",
      "text/plain": [
       "<Figure size 640x480 with 1 Axes>"
      ]
     },
     "metadata": {},
     "output_type": "display_data"
    }
   ],
   "source": [
    "data_pos = \" \".join(newTweets_pos)\n",
    "wc = wordcloud.WordCloud(max_words=100, height=1280, width=720).generate(data_pos)\n",
    "plt.imshow(wc)"
   ]
  },
  {
   "cell_type": "code",
   "execution_count": 19,
   "id": "52fe4d25",
   "metadata": {},
   "outputs": [],
   "source": [
    "for i in newTweets_pos:\n",
    "    newTweets_neg.append(i)\n",
    "newTweets = newTweets_neg[:]"
   ]
  },
  {
   "cell_type": "code",
   "execution_count": 20,
   "id": "47962a34",
   "metadata": {},
   "outputs": [
    {
     "data": {
      "text/plain": [
       "1600000"
      ]
     },
     "execution_count": 20,
     "metadata": {},
     "output_type": "execute_result"
    }
   ],
   "source": [
    "len(newTweets)"
   ]
  },
  {
   "cell_type": "code",
   "execution_count": 21,
   "id": "d57fb65f",
   "metadata": {
    "scrolled": true
   },
   "outputs": [
    {
     "data": {
      "text/plain": [
       "['USER URL awww that bummer you shoulda got david carr of third day to do it ',\n",
       " 'is upset that he can update his facebook by texting it and might cry a result school today also blah ',\n",
       " 'USER dived many time for the ball managed to save 50 the rest go out of bound ',\n",
       " 'my whole body feel itchy and like it on fire ',\n",
       " 'USER no it not behaving at all mad why am here because can see you all over there ',\n",
       " 'USER not the whole crew ',\n",
       " 'need hug ',\n",
       " 'USER hey long time no see yes rain bit only bit lol fine thanks how you ',\n",
       " 'USER nope they didn have it ',\n",
       " 'USER que me muera ',\n",
       " 'spring break in plain city it snowing ',\n",
       " 'just re pierced my ear ',\n",
       " 'USER couldn bear to watch it and thought the ua loss wa embarrassing ',\n",
       " 'USER it it count idk why did either you never talk to me anymore ',\n",
       " 'USER would ve been the first but didn have gun not really though zac snyder just doucheclown ',\n",
       " 'USER wish got to watch it with you miss you and USER how wa the premiere ',\n",
       " 'hollis death scene will hurt me severely to watch on film wry is director cut not out now ',\n",
       " 'about to file tax ',\n",
       " 'USER ahh ive always wanted to see rent love the soundtrack ',\n",
       " 'USER oh dear were you drinking out of the forgotten table drink ',\n",
       " 'USER wa out most of the day so didn get much done ',\n",
       " 'one of my friend called me and asked to meet with her at mid valley today but ve no time sigh ',\n",
       " 'USER baked you cake but ated it ',\n",
       " 'this week is not going a had hoped ',\n",
       " 'blagh class at tomorrow ',\n",
       " 'hate when have to call and wake people up ',\n",
       " 'just going to cry myself to sleep after watching marley and me ',\n",
       " 'im sad now miss lilly ',\n",
       " 'ooooh lol that leslie and ok won do it again so leslie won get mad again ',\n",
       " 'meh almost lover is the exception this track get me depressed every time ',\n",
       " 'some1 hacked my account on aim now have to make new one ',\n",
       " 'USER want to go to promote gear and groove but unfornately no ride there may going to the one in anaheim in may though ',\n",
       " 'thought sleeping in wa an option tomorrow but realizing that it now is not evaluation in the morning and work in the afternoon ',\n",
       " 'USER awe love you too am here miss you ',\n",
       " 'USER cry my asian eye to sleep at night ',\n",
       " 'ok sick and spent an hour sitting in the shower cause wa too sick to stand and held back the puke like champ bed now ',\n",
       " 'USER ill tell ya the story later not good day and ill be workin for like three more hour ',\n",
       " 'USER sorry bed time came here gmt URL ',\n",
       " 'USER don either it depressing don think even want to know about the kid in suitcase ',\n",
       " 'bed class 12 work 12 gym or then class 10 another day that gonna fly by miss my girlfriend ',\n",
       " 'really don feel like getting up today but got to study to for tomorrow practical exam ',\n",
       " 'he the reason for the teardrop on my guitar the only one who ha enough of me to break my heart ',\n",
       " 'sad sad sad don know why but hate this feeling wanna sleep and still can ',\n",
       " 'USER awww soo wish wa there to see you finally comfortable im sad that missed it ',\n",
       " 'falling asleep just heard about that tracy girl body being found how sad my heart break for that family ',\n",
       " 'USER yay happy for you with your job but that also mean le time for me and you ',\n",
       " 'just checked my user timeline on my blackberry it look like the twanking is still happening are ppl still having probs bgs and uids ',\n",
       " 'oh man wa ironing USER fave top to wear to meeting burnt it ',\n",
       " 'is strangely sad about lilo and samro breaking up ',\n",
       " 'USER oh so sorry didn think about that before retweeting ',\n",
       " 'broadband plan massive broken promise URL viaURL still waiting for broadband we are ',\n",
       " 'USER wow ton of reply from you may have to unfollow so can see my friend tweet you re scrolling the feed lot ',\n",
       " 'our duck and chicken are taking wayyy too long to hatch ',\n",
       " 'put vacation photo online few yr ago pc crashed and now forget the name of the site ',\n",
       " 'need hug ',\n",
       " 'USER not sure what they are only that they are po a much a want to dont think can trade away company asset sorry andy ',\n",
       " 'USER hate when that happens ',\n",
       " 'have sad feeling that dallas is not going to show up gotta say though you think more show would use music from the game mmm ',\n",
       " 'ugh 92 degree tomorrow ',\n",
       " 'where did move to thought were already in sd hmmm random found me glad to hear yer doing well ',\n",
       " 'USER miss my ps3 it out of commission wutcha playing have you copped blood on the sand ',\n",
       " 'just leaving the parking lot of work ',\n",
       " 'the life is cool but not for me ',\n",
       " 'sadly though ve never gotten to experience the post coitus cigarette before and now never will ',\n",
       " 'had such nice day too bad the rain come in tomorrow at 5am ',\n",
       " 'USER too bad won be around lost my job and can even pay my phone bill lmao aw shuck ',\n",
       " 'damm back to school tomorrow ',\n",
       " 'mo job no money how in the hell is min wage here clam an hour ',\n",
       " 'USER not forever see you soon ',\n",
       " 'USER agreed saw the failwhale allllll day today ',\n",
       " 'USER oh haha dude dont really look at em unless someone say hey added you sorry so terrible at that need pop up ',\n",
       " 'USER sure you re right need to start working out with you and the nikster or jared at least ',\n",
       " 'really hate how people dis my band trace is clearly not ugly ',\n",
       " 'gym attire today wa puma singlet adidas short and black business sock and leather shoe lucky did not run into any cute girl ',\n",
       " 'why won you show my location URL ',\n",
       " 'no picnic my phone smell like citrus ',\n",
       " 'USER my donkey is sensitive about such comment nevertheless he and me be glad to see your mug asap charger is still awol ',\n",
       " 'no new csi tonight fml ',\n",
       " 'think my arm are sore from tennis ',\n",
       " 'wonder why someone that like so much can make you so unhappy in split seccond depressed ',\n",
       " 'sleep soon just hate saying bye and see you tomorrow for the night ',\n",
       " 'USER just got ur newsletter those fare really are unbelievable shame already booked and paid for mine ',\n",
       " 'missin the boo ',\n",
       " 'USER me too itm ',\n",
       " 'damn don have any chalk my chalkboard is useless ',\n",
       " 'had blast at the getty villa but hate that she had sore throat all day it just getting worse too ',\n",
       " 'USER hey missed ya at the meeting sup mama ',\n",
       " 'my tummy hurt wonder if the hypnosis ha anything to do with it if so it working get it stop smoking ',\n",
       " 'why is it always the fat one ',\n",
       " 'USER sorry babe my fam annoys me too thankfully they re asleep right now muahaha evil laugh ',\n",
       " 'USER should have paid more attention when we covered photoshop in my webpage design class in undergrad ',\n",
       " 'wednesday my day don know what do ',\n",
       " 'poor cameron the hill ',\n",
       " 'pray for me please the ex is threatening to start sh at my our baby 1st birthday party what jerk and still have headache ',\n",
       " 'USER hmm do really enjoy being with him if the problem are too constant should think thing more find someone ulike ',\n",
       " 'strider is sick little puppy URL ',\n",
       " 'so rylee grace wana go steve party or not sadly since it easter wnt able do much but ohh well ',\n",
       " 'hey actually won one of my bracket pool too bad it wasn the one for money ',\n",
       " 'USER you don follow me either and work for you ',\n",
       " 'bad nite for the favorite team astros and spartan lose the nite out with wa good ',\n",
       " 'body of missing northern calif girl found police have found the remains of missing northern california girl URL ',\n",
       " 'USER hope they will increase the capacity fast yesterday wa such pain got the fail whale 15 time in hour ',\n",
       " 'behind on my class for work ',\n",
       " 'watching quot house quot ',\n",
       " 'USER remember my bum leg strike back this time it serious ',\n",
       " 'USER cool will their are all kind of complaint about this laptop online about overheating but no recall ',\n",
       " 'emily will be glad when mommy is done training at her new job she miss her URL ',\n",
       " 'would rather the first party send bad message than the 3rd party send mixed one sophmore year all over again ',\n",
       " 'USER it overrated ',\n",
       " 'USER know heard it this afternoon and wondered the same thing moscow is so behind the time ',\n",
       " 'laying in bed with no voice ',\n",
       " 'sooo sad they killed off kutner on house whyyyyyyyy ',\n",
       " 'USER sorry tell them mea culpa from me and that really am sorry ',\n",
       " 'USER it didn make any sense to me the suicide thing refuse to believe that that is actually what happened ',\n",
       " 'USER hope your ok ',\n",
       " 'USER damn the grind is inspirational and saddening at the same time don want you to stop cuz like what do much love ',\n",
       " 'USER yeah aw but know wudnt stand chance ',\n",
       " 'ugh cant sleep it 30am ',\n",
       " 'hanging in crooner wanna sing can suck ',\n",
       " 'USER aaw miss ya all too im leaving to bh tomorrow quot morning quot think aww wanna go to the beach girl ',\n",
       " 'is pissed off that there no asba for radio station ',\n",
       " 'wednesday my day don know what do ',\n",
       " 'know my life ha been flipped upside down when just thought in my head that some ramen sound good ',\n",
       " 'am in pain my back and side hurt not to mention cry is made of fail ',\n",
       " 'late night snack glass of oj quot down with the sickness quot then back to sleep ugh hate getting sick ',\n",
       " 'USER but but but not big fan on camilla belle ',\n",
       " 'USER wah can see clip must be el stupido work filter can wait till get puter something else blame ex he broke mine ',\n",
       " 'this week just seems to get longer and longer in term of how much need to do and how much actually going to get done ',\n",
       " 'so cold ',\n",
       " 'USER ehhh don weather gonna take turn for the ugly tomorrow ',\n",
       " 'USER haha it so cooooold in the and no but you should still go to the show they do some incredible stuff ',\n",
       " 'hoping the tummy rumble go away soon ',\n",
       " 'USER no no notice they told me be working tomorrow and then called the agency to follow up and they said it wa over ',\n",
       " 'almost bedtime ',\n",
       " 'missing you babe but a long a your alive happy yawwwnn tired my love imma try to sleep hopefully you had headstart ',\n",
       " 'agh snow ',\n",
       " 'miss kenny power ',\n",
       " 'USER thank you for letting people know but now sad that the direct message got wasn actually from bridget ',\n",
       " 'and india missed out it 100th test victory 10th consecutive win without loss ',\n",
       " 'USER guess that no then ',\n",
       " 'sadly is going to bed ',\n",
       " 'USER shame to hear this stephan ',\n",
       " 'USER hey leavin in the morning ',\n",
       " 'wa intending to finish editing my 536 page novel manuscript tonight but that will probably not happen and only 12 page are left ',\n",
       " 'laid around too much today now my head hurt ',\n",
       " 'USER still haven read the 9th amp 10th princess diary saving francesca made me cry at the end hmm those are easy book ',\n",
       " 'my nokia 1110 died ',\n",
       " 'my mom might have breast cancer won find out anything for like week so worried ',\n",
       " 'going to sleep hoping tomorrow is better day ',\n",
       " 'USER lol wish they understood daylight saving ha ended though and breakfast is an hour later they keep waking the kid up too ',\n",
       " 'USER that is lame ',\n",
       " 'don understand really don ',\n",
       " 'hero just isn doing it for me this season ',\n",
       " 'living not downtown sure isn much fun ',\n",
       " 'USER not calorie wise wish junk food wa calorie free ate thing of sour skittle and big as cherry coke ',\n",
       " 'man work is hard ',\n",
       " 'getting sick time for some hot tea studying and then sleeeep ',\n",
       " 'getting eyebrow waxed more pain ',\n",
       " 'no phantasy star yesterday going to work ',\n",
       " 'oh just got all my macheist apps sweet didn get the espresso serial no though although they said they sent it oh well ',\n",
       " 'picked mich st to win it all from the get go wa feeling pretty good about that pick all the way up until tonight lost too ',\n",
       " 'is alone downstairs working ',\n",
       " 'feel bad for doing it ',\n",
       " 'USER is it just me or she hate anoop mean seriously she kinda mean to him ',\n",
       " 'USER yes sprint ha 4g only in baltimore and chicago so far ',\n",
       " 'stuck awake in the middle of the night for the second day in row and felt terrible yesterday ',\n",
       " 'thanks for bursting my bubble ',\n",
       " 'going to school soon can find anything to wear gosh it so hard ',\n",
       " 'USER wa serious lol ',\n",
       " 'USER had on my page for sooooo long until it got deleted sad day in history ',\n",
       " 'crazy wind today no birding URL ',\n",
       " 'currently at work ',\n",
       " 'grrr my ipod acting weird too jai ho and thinking of you aren playing the full song ughh ',\n",
       " 'USER send me the dvd co have missed out on heap not happy about that ',\n",
       " 'don see the big deal with this website ',\n",
       " 'USER so sorry you re having to go through this again therapyfail ',\n",
       " 'USER far too out of the way for rail any other tip ',\n",
       " 'not still up swear why do keep losing gaining losing gaining tweeps so heart wrenching ',\n",
       " 'today realized am too good at hiding thing even can find it ',\n",
       " 'staying at friend house house sitting neighbor are so loud having party ',\n",
       " 'USER danny im upset that wasnt here to watch the live chat wa in car for hour on trip im soooo upset ',\n",
       " 'check out my mug URL ',\n",
       " 'border closed at 10 ',\n",
       " 'downloading nin new album quot the slip quot when the hell did this come out so behind the time these day ',\n",
       " 'just woke up an already have written some mail ve to go early at university today a have to teach at 30 am ',\n",
       " 'is watching the hill and it making me sad ',\n",
       " 'so many channel yet so so boring lazy day again may have to find hobby ',\n",
       " 'USER miss my buddy ill be in ny on the 25th ',\n",
       " 'USER love the french tell people here in the south qtr french and they snarl at me french are beautiful people ',\n",
       " 'opps a said still got one day remain and now problem come ',\n",
       " 'activated my selfcontrol block early meaning can check out the new qc regularizing my internal clock is might be difficult fb ',\n",
       " 'USER oh no ',\n",
       " 'spencer is not good guy ',\n",
       " 'USER what about reese dying on ttsc and season finale next week 24 boring madame president is crazy woman ',\n",
       " 'USER hate the limited letter too hope you and the guy are fine pray for my dog she not well ',\n",
       " 'didn get shit done today so screwed ',\n",
       " 'wanttss to go out ',\n",
       " 'is not going to sleep tonite ',\n",
       " 'too worried and tired to post tonight ',\n",
       " 'couldn get shit done today so screwed ',\n",
       " 'job interview in cardiff today wish me luck got about hour sleep ',\n",
       " 'USER your show is whack way worse than whack it wiggety whack ',\n",
       " 'USER really don think people choose to be that way but think he chose not to accept my family help he might be dead by now ',\n",
       " 'USER you re going to kill me but ve not seen ds9 ve been waiting till can do it in one solid week sitting ',\n",
       " 'USER think ur right hahaha hr now ',\n",
       " 'hate to see the spartan so sad ',\n",
       " 'my mind and body are severely protesting this quot getting up quot thing had nightmare to boot ',\n",
       " 'USER goin to follow since didn lol go angel ',\n",
       " 'USER ',\n",
       " 'USER think want to read some book but the library doesn have them ',\n",
       " 'my nap wa interrupted so many time today going out for japanese with the rent again ',\n",
       " 'kind of longs for the bus that show up at the end of ghost world right now ugh ',\n",
       " 'USER but this is canada canada is weird we re supposed to get snow through wednesday ugh ',\n",
       " 'awwh babs you look so sad underneith that shop entrance of quot yesterday musik quot like the look of the new transformer movie ',\n",
       " 'sad that the foot of my macbook just fell off ',\n",
       " 'gonna get up late tomorrow and it 132am here gonna get tipsy by my lonesome that that just sad ',\n",
       " 'sweating my forthcoming trip to e3 if can find someone to crash with while out there may be screwed ',\n",
       " 'ha now gotten somebody to read his tweet but cant get them to make an account ',\n",
       " 'USER omgawd couldnt handle my cat being in heat all the time ',\n",
       " 'USER hope can make it to the auburn show but it not looking good for me ',\n",
       " 'USER thats people mag haha couldnt fit it all in dont think those picture ever made it in the magazine tho haha ',\n",
       " 'USER congrats totally forgot to submit photo ',\n",
       " 'USER awww good luck paula please don work too hard but hope you have fun your new album is gonna be amazing xxx ',\n",
       " 'USER now your leaving me get sad ',\n",
       " 'miss you twitter my phone broke now using stupid nokia phone ughhh miss my advance phone ',\n",
       " 'shooting outside my house not kidding so scared ',\n",
       " 'tuesday ll start with reflection then lecture in stress reducing technique that sure might become very useful for u accompaniers ',\n",
       " 'what tragedy and disaster in the news this week ',\n",
       " 'yes yes still trying to find picture that will upload correclty ',\n",
       " 'why oh why wa the red sox game rained out wa so looking forward to opening day ',\n",
       " 'still can find my key ',\n",
       " 'USER know right dunno what is going on with twitter ',\n",
       " 'might be getting sore throat again ',\n",
       " 'USER my home town my mammy called all depressd pls explain parent let their 8yr old child walk alone hello it 2009 ',\n",
       " 'USER think need to find better anti depressant think this paxil wellbutrin combo is losing it efficacy ',\n",
       " 'USER restaurant called woodntap ha competitive eating tourney round tourney time we place 2nd ',\n",
       " 'is in the bathroom wake up lakin ',\n",
       " 'USER want taco and margarhitas telll gay say hello lt ',\n",
       " 'im lonely keep me company 22 female california ',\n",
       " 'bad day at the betfair office ',\n",
       " 'miss him can wait to celebrate the tar heel win this weekend though ',\n",
       " 'really cold don want to go to sleep yet but there nothing to do ',\n",
       " 'USER is this it it officially over me this go round ',\n",
       " 'monkey just found out you my twin and you wont even write back heartbroken ',\n",
       " 'USER aww know felt like that yesterday at work ',\n",
       " 'USER treaty isn defined ',\n",
       " 'missed brent at praise band no fun to not have the your lead guitarist lt pout gt ',\n",
       " 'USER poor john this is what happens when you play with fruit and microwave seriously though have you seen doctor xxx ',\n",
       " 'missing my bff watching home and away it reminds me of her and me we lt it shout out to court ',\n",
       " 'USER ',\n",
       " 'new video card is doa ',\n",
       " 'feeling lost naked and confused jk sort of no iphone for me ',\n",
       " 'damn am so late at filling this appraisal form people have almost sent it wa so occupied in work ',\n",
       " 'missed brent at praise band no fun to not have your lead guitarist lt pout gt ',\n",
       " 'think to much on the past cant change it deserved so much more then wat got but why am still thinking about him gah ',\n",
       " 'ha lost his ring it no where to be seen ',\n",
       " 'USER ooooooh sealclap see download shitloads of zip folder off 4chan have no internet money fuck yeah alicia amp mikey ',\n",
       " 'is still nursing my nile but glad he is feeling better hate when my baby is sick ',\n",
       " 'is fucked to go back to ic ',\n",
       " 'USER yoyoyo my internet ha been rude tonight it just reconnected and about to go to bed ',\n",
       " 'USER well have uni stuff and netball but after netbal if ve done uni stuff we can ',\n",
       " 'USER me too is poor ',\n",
       " 'help me forget 8th april amp 13th july ',\n",
       " 'dierks bentley is comin to columbus oh wanna go so bad ',\n",
       " 'have to take my sidekick back ',\n",
       " 'USER congrats totally jealous only wish my xm wa working ',\n",
       " 'gr8t my face is very itchy ',\n",
       " 'poor sock luvvvvv the golden retriever want one sighhhh ',\n",
       " 'just saw that they found that tracy girl in piece of luggage how fucking terrible ',\n",
       " 'aaaaand the nausea is back ',\n",
       " 'USER ooh excited and not even going be there long love youtube ',\n",
       " 'spent hour to reach to axis bank only to find out today is holiday for mahavir jayanti contd ',\n",
       " 'USER agree the jobros dont update there very often ',\n",
       " 'USER it is hilarious and linked the clip from lj some time ago but when went back just now it wa dead link ',\n",
       " 'USER oooooooo who with im not neither but thats because need to study ',\n",
       " 'haven tweeted nearly all day posted my website tonight hopefully that go well night time ',\n",
       " 'USER miss bentley ',\n",
       " 'seriously need to finish these job application ',\n",
       " 'my son vinca is sick so stay at home just three tense day at work and am back on holiday with kid ',\n",
       " 'whinging my client amp bos don understand english well rewrote some text unreadable it written by good writer amp reviewed correctly ',\n",
       " 'USER don want him to ever punch me ',\n",
       " 'sooo sick of the snow ughh ',\n",
       " 'USER ',\n",
       " 'USER it doesn work your fan is upset ',\n",
       " 'would like to apologize for the repeated video game live related tweet am going to have stern discussion with koodo soon stern ',\n",
       " 'USER but cant figure out how to get there back pay for hotel etc ',\n",
       " 'fml so much for seniority bc of technological ineptness now have to quot register quot for class again ',\n",
       " 'feel like she slept the day away not looking forward to any more bout with my gallbladder at least have pill now for the pain ',\n",
       " 'USER but what really want is my old bass back ',\n",
       " 'mad tired today callin it in early tonight nighty night twittas ',\n",
       " 'USER take it easy and be good to you ',\n",
       " 'afraid had bad code ',\n",
       " 'think going to bed goodniight hate this ',\n",
       " 'USER here friend and love you ',\n",
       " 'USER all this time you didn notice wa gone just needed db2 is it ',\n",
       " 'USER is in the bathroom and have to pee ',\n",
       " 'USER but wanted margarita too ',\n",
       " 'USER yup night workout the worst but unfortunetly my work schedule only allows me to go at night it tough ',\n",
       " 'just called hillsong again they said they couldn tell me where wa on the waiting list don know if it looking so good ',\n",
       " 'ha 0g of milky bar left and around 200ml of coke ',\n",
       " 'USER it stillllll hasn arrived ',\n",
       " 'mraow feel like dancing but first art school want to rape me some more ',\n",
       " 'USER ah bet it doe ve been like craving to play softball or basketball but have noo time ',\n",
       " 'is terrified she accidentally deleted reference in her management assignment and hope she doesnt get in trouble when she get back ',\n",
       " 'amazon s3 plugin not worked in my website it need php but my hosting provider ha only php very sad ',\n",
       " 'argh wa suuuper sleepy an hour ago now wide awake hope don stay up all night ',\n",
       " 'USER wish wa sold out if you have some time let me know would love to hear more about what you are up to ',\n",
       " 'just watched tropic thunder dreading tomorrow ',\n",
       " 'USER no he still miss ',\n",
       " 'chiefdelphi is down ',\n",
       " 'URL according to my bro our new puppy had poo fight and wa covered in poop picture stolen from him ',\n",
       " 'playing game at home my new bos didn call me yet ',\n",
       " 'su yin huen tweeted feel unbearable guilt made my staff cry URL ',\n",
       " 'poor joshy is sick those damn tejanos ',\n",
       " 'my thought are with sandra cantu family at this difficult and sad time ',\n",
       " 'USER know just wanted to let everybody know what wa happening ',\n",
       " 'michigan who don know them sigh shameful ',\n",
       " 'have to fill two hour ',\n",
       " 'USER so cuuute hey miss you na it not the same not seeing you girl everyday ',\n",
       " 'USER oh did mention it quot gooooood moooorniiiiiiing quot from germany im back in my cage or better my office ',\n",
       " 'throat is closing up and had some string cheese not good idea ',\n",
       " 'aww sandra cantu is found dead in suitcase missing child story never seem to go good poor family ',\n",
       " 'wishing wa home underneath my cover ',\n",
       " 'walking home from school drain all my energy ',\n",
       " 'USER agree the shapeshifting is copout wa so excited for angela ep thought it wa this week noah wa awesome tho ',\n",
       " 'USER dang would have done this if knew it wa there earlier any other outing planned ',\n",
       " 'wish wa better at writing it taking me so long to write this paper ',\n",
       " 'and of course have access to my halo mythic map pack re download but bad news not the legendary map pack ugh 600ms ',\n",
       " 'USER not yet unfortunately another few week ve been told how are you ve been little bit busy with my latest project ',\n",
       " 'USER ha the sun already gone ',\n",
       " 'day lot harder than day let see how day go tomorrow ',\n",
       " 'my man crush jake peavy let me down gayforpeavy ',\n",
       " 'USER megafast trip you have time during day tom wed or you going out tonight want to see you bad tried to warn you tech fail ',\n",
       " 'michigan state you make me sad ',\n",
       " 'omg my mouth is in so much pain just wanna sleep untill it time to take my brace off ',\n",
       " 'getting annoyed easily today gt gt gt biofuel proposal getting annoyed easily today gt gt gt biof URL ',\n",
       " 'USER hey girl the site is back girlyvue is back and they have even more video ',\n",
       " 'USER spending time with my grandma early tomorrow and can leave skittle by herself ',\n",
       " 'just got home from watching michigan state get tromped ',\n",
       " 'oh jew bus two year worth of class work is alot to organize gt lt not finishing tonight it not possible my bone ache ',\n",
       " 'USER no exchanging for me my laptop hasn arrived ',\n",
       " 'USER hope this doesn last too long feel miserable ',\n",
       " 'USER rachel hang outage is neccessary wa gonna be home this wekend but dumb folk make me work so im free and sat until ',\n",
       " 'USER not fun amp furious the new mantra for the bay breaker it wa getting rambunctious the city overreacted amp clamped down ',\n",
       " 'USER my hubby for some reason think it more important he ha good spot for red carpet for the trek movie premiere sod ',\n",
       " 'swear no matter how long ve been getting up at 5am it never get any easier man my eye hurt wah ',\n",
       " 'USER jeffree how do you keep your hair one color my permanent dye fade within the week ',\n",
       " 'USER my reaction too whoa didn see that coming ',\n",
       " 'still sick feeling bit better got some new medicine hope feel good after night of sleep ohh and it suppose to snow wtf ',\n",
       " 'USER think maybe you should get couple more hour of sleep hon how productive can you be right now if ur dog tired worry ',\n",
       " 'USER thanks lot learned lot of new word but didn find what wa looking for ',\n",
       " 'wish had all the xblm downloads all on the gamertag hitokyri this gamertag thing is nonsense and tired of it ',\n",
       " 'new testament test at 30 am ',\n",
       " 'USER ton no hay troll ahhhh ',\n",
       " 'stupid movie we watched mirror ugggggh stooopeeed rip off ',\n",
       " 'URL love you buck ',\n",
       " 'last one but still not done ',\n",
       " 'homework ',\n",
       " 'don understand why thing get taken away didn have enough time with him it unfair want him back he wa like my baby ',\n",
       " 'scratch that du in heif two in half cooky my tum just can take anymore shoog poots ',\n",
       " 'USER wa just listening to the sweet for the first time in forever miss them so much can we go to chi town for visit plz ',\n",
       " 'geez what busy afternoon meeting email meeting and email and more meeting 6pm and the day is still going ah it dark and ',\n",
       " 'dang another spring break how cool is that too bad have to work all week oh well more money for phone ttyl everbody ',\n",
       " 'USER im afraid too ur reply about uni from age ago ',\n",
       " 'feeling down ',\n",
       " 'USER lol they are some emotional as men omg all this late night eating both of u are broke ',\n",
       " 'USER aww nick like your hair longer why did you cut it off break my heart ',\n",
       " 'wonder if jon lost the net ',\n",
       " 'wow the most depressing thing in the world is losing video that you ve created in matter of second fml ',\n",
       " 'USER URL but all say not in stock ',\n",
       " 'USER lmao im sorry poohpot ate it all ',\n",
       " 'any chance softbelly for USER isn loud ',\n",
       " 'time to move my posterior and lose some fat my articulation are creaking so no more running but drool for some swimming ',\n",
       " 'listening to nathan cry ',\n",
       " 'today sucked gonna die without chris and callum wahhh ',\n",
       " 'stou site not update no info about 2552 exam and open course must wait for mail notice and doc um ',\n",
       " 'USER sorry feeling kinda yucky myself 5am is going to come too quick ',\n",
       " 'is in love with scrappy and is missin him already ',\n",
       " 'want to hear USER song but myspace is messing with me ',\n",
       " 'bad news wa dad ha cancer and is dying good news new business started and am now life coach practising holistic weight management ',\n",
       " 'USER man intervention is soo sad ',\n",
       " 'help need new boyfriend stuck in rut ',\n",
       " 'feel like complete idiot the only one who doesn get how this shit work help me ',\n",
       " 'saw an ad on craigslist for casting call for female host on g4 wa totally psyched but realized it wa hoax ',\n",
       " 'pepperoni roll in called valentino they said that they had sausage roll but no pepperoni roll URL ',\n",
       " 'USER yes it will be it only monday ',\n",
       " 'want the new gg episode already ',\n",
       " 'miss watching rocko modern life ',\n",
       " 'rip sandra it so sad how can someone do something like that ',\n",
       " 'keeping my finger crossed for my buddy he is not feeling well ',\n",
       " 'wait should eat or be skinny for vega hungry ',\n",
       " 'USER tried tweetdeck once and hated it with passion or it hated me not sure ',\n",
       " 'USER btw my iphone is acting funny dying quickly and freezing and b not admitting anything just sayin ',\n",
       " 'sitting here wondering why quot ed quot still ha such strong hold on me ',\n",
       " 'USER im sorry got you sick lol going to bed too night ',\n",
       " 'USER no internet at home have to drive into ox to use internet because of builder ',\n",
       " 'USER the weather in canada is freezing ',\n",
       " 'twiggassssssss been out of range all day back now and hopefully for good ',\n",
       " 'USER ',\n",
       " 'anyone who read this pray for my grandma she in pain ',\n",
       " 'woke up and wa having an accident quot it pushing it pushing quot he wa cry because he couldn stop from wetting his pant ',\n",
       " 'home from franklin street almost jumped over fire someone kicked it before could jenny lost her shoe ',\n",
       " 'USER hey you just changed your default ',\n",
       " 'finally gave in and wa bored enough to start this thing think the 140 is going to be problem for me tho it like myspace status ',\n",
       " 'USER if oooonly we were really so lucky eh and awh definitely too early for work ',\n",
       " 'buttload of homework ',\n",
       " 'need another copy of visual studio 2008 ',\n",
       " 'why to we the only school in the world be in this week my school is silly anyway look on the bright side when off will be in ',\n",
       " 'omg ve an economics test and dont know all the thing have to know and omg im gonna fail ',\n",
       " 'USER once upon time hundred island wa the pride of philippine tourism but coral clam rare fish poaching did it in kinda sad ',\n",
       " 'USER yeah apparently have really bad taste ',\n",
       " 'USER know wa really surprised since everyone recommends them on youtube have to call them tomorrow and figure it all out ',\n",
       " 'waiting at the airport for my ride while get harassed by men trying to sell me ugly hat why me just want to sleep ',\n",
       " 'left my id at the location and now can not go out to bar fuckkkkkkkkkkkkk ',\n",
       " 'USER sorry don understand your last comment ',\n",
       " 'USER when is the announcement stayed up late last night ',\n",
       " 'USER this is strange illegal torrent avlbl everywhere legal dvd not in stock what do do now ',\n",
       " 'it not enough to say that imiss ',\n",
       " 'this trolley ha up packed in like sardine padre game and they remove car good call mt ',\n",
       " 'USER jeez wa just trying to help haha ',\n",
       " 'USER that happened to me saturday night along with my glittery green lighter ',\n",
       " 'trying to reduce the number of cigarette in each day ',\n",
       " 'yea it is so quiet around here cuz everyone ha to work im bored to death with nobody to talk to ',\n",
       " 'gotta do my cooking assignment it too hard ',\n",
       " 'USER okay about the applepears ve talked to few people and they ve all had them before no one ever told me never ',\n",
       " 'USER know night owl by nature hahaha am time zone behind you it almost here ',\n",
       " 'USER lol nope but did have complete camerafail ',\n",
       " 'USER USER but useless if don sleep it not fair want all the fun a well ',\n",
       " 'my pookie ha uti have to be nurse gabbie and get him back to 100 no more soda ',\n",
       " 'USER tweet something damn it and hang out with me please ',\n",
       " 'USER ',\n",
       " 'so behind in video game and everything for that matter yesterday news ',\n",
       " 'USER did it wa the only one left but got tempted and ate it soon a got home had chocolate velvet amp ate mocha ',\n",
       " 'is stressing out because my blackberry keep flashing red alert status for no reason it faking me out and hate it ',\n",
       " 'URL wanna wear my doc marten out haven worn them since december ',\n",
       " 'when to the shoe repair shop and the guy could not find my shoe so have to go back and see if he can find them in couple day ',\n",
       " 'USER did not really see that coming ',\n",
       " 'just woke up from the most vivid sketchy not cool dream of my life time to stare at the wall with the light on ',\n",
       " 'it ll take day for my sister to get her passport ',\n",
       " 'USER oh my yes miss ',\n",
       " 'uh oh think am getting sick ',\n",
       " 'good god they ruined my belly button ',\n",
       " 'watching who framed roger rabbit make me miss toon town ',\n",
       " 'USER renting but very cheap renting and awesome house we had buying attempt fall through ',\n",
       " 'running nose spinning head not good combination for meeting ',\n",
       " 'USER negative you lost my vote of confidence ',\n",
       " 'nasty budget due and my iphone is being sent to apple today ',\n",
       " 'USER that bad ',\n",
       " 'dammit episode of king won play for some reason stopped in the middle now won do anything ',\n",
       " 'so upset that missed my chat and quiz online because my free internet ha ceased ',\n",
       " 'can believe it in disbelief of it all in way really how much can take from people and always get hurt by others ',\n",
       " 'car show season ha started without me ',\n",
       " 'my throat is raw ',\n",
       " 'USER just don get it what in person mind could even have them on some ish like this my prayer are with her fam for real ',\n",
       " 'USER hate you didn need to see that need to call my therapist now ',\n",
       " 'twilight didn come yesterday finger crossed for today ',\n",
       " 'USER glad wa able help you feel better hate to see you sick love you ',\n",
       " 'is tireddddddd want to sleep but have an assignment to finish and an exam tomorrow to study for ',\n",
       " 'you know wa thinking need money ',\n",
       " 'omg it jst teusday ',\n",
       " 'USER USER ummmmm cant find it ',\n",
       " 'just heard that they found sandra cantu she wa only yr old ',\n",
       " 'USER ive forgotten how to snoo snoo wonder if snoo snoo and will ever meet again ',\n",
       " 'USER wow that last tweet made me seem like giant sexist sorry about that ',\n",
       " 'my bathtub drain is fired it haz job do amp it iz fail got all drano on it as amp iz still not draining wanna shower dangit ',\n",
       " 'stuck at home ',\n",
       " 'USER mine is 10 how do you get it up ',\n",
       " 'duckling in famous child book stolen from boston public garden the boston globe URL via USER oh no ',\n",
       " 'USER thank you however hate to be on the same list that includes convict ',\n",
       " 'heading to altrincham again out of hour install ',\n",
       " 'morning good im bloody knackered work is not for me today helppp xxx ',\n",
       " 'USER don have garage but you can park in my driveway ',\n",
       " 'USER what happened ',\n",
       " 'quot on popular music quot by adorno is probably the most difficult reading ever prescribed actually struggling to continue ',\n",
       " 'URL cant see the flower falling dont have camera just my cellphone ',\n",
       " 'we ve been good not liking the snow right now wa getting used to the nice spring like weather how about you ',\n",
       " 'USER what pity youtube is currently blocked in china can see the vids ',\n",
       " 'USER what happened to your show it wa the hightlight of my life ',\n",
       " 'this is the best leather sofa in the world it in the office though which mean still here working ',\n",
       " 'still more day until my internet get uncapped ',\n",
       " 'if he doesn get better in few day he could have something lodged in his belly ',\n",
       " 'love my atekinzz so much amp amp soo miss her ',\n",
       " 'wanna sneak into the zoo and play with the kitty ',\n",
       " 'USER oh no hope you re not getting sick too ',\n",
       " 'USER dont think can cause it my cousin birthday party ',\n",
       " 'our sweet little man just fell asleep while waiting up for daddy and big brother to get home poor baby he missed them so much today ',\n",
       " 'the angel is going to miss the athlete this weekend ',\n",
       " 'trust is hard ',\n",
       " 'have watched that considering today yaknow shawnna tomomorrow need my bestfriend ',\n",
       " 'grr want to keep reading but if do wont have anything left to read ',\n",
       " 'atekinzz where in the world are you ',\n",
       " 'USER no supposed to be my date ',\n",
       " 'pear amp brie bottle of cabernet and quot win date with tad hamilton quot oh gawwd my life flashed forward to when 40 with my 75 cat ',\n",
       " 'crap need more dress too ',\n",
       " 'USER yeah know it wa horrible ugh saddening ',\n",
       " 'USER geez ur no fun are you ',\n",
       " 'wanna be in punk rock band again ',\n",
       " 'USER that lot of angst for tuesday afternoon ',\n",
       " 'very glad britney isn crazy anymore that wa one hell of show now sad that it over next up ap at cook county ',\n",
       " 'ha huuuge headache omg feel like crap ',\n",
       " 'USER sorry ',\n",
       " 'USER sorry wa rooting for them too ',\n",
       " 'man that took forever ',\n",
       " 'USER see ',\n",
       " 'am listing more item on ebay to sell take forever meanwhile coleman is watching the hill season premier without me ',\n",
       " 'just got my presentation done 23 slide done cry for this week will be the hardest of all week ',\n",
       " 'just lost 160 ',\n",
       " 'don like the previously on skin thing that start at season two like it when it went straight into the intro like before ',\n",
       " 'USER wish wa there pretty good at scaring the shit out of people ',\n",
       " 'going to sound vain but running out of my fav lip gloss ',\n",
       " 'USER never again will click on link that scream quot spider spider quot should have known better yucky ',\n",
       " 'why is that when you have time off from work you get sick ',\n",
       " 'USER same imac came out 320 more in indonesia than the state ',\n",
       " 'dammit need to stop buying furniture ',\n",
       " 'USER no wa half asleep and turned off the laptop after that ',\n",
       " 'death is peaceful life however bite ',\n",
       " 'think USER lost the net sure hope not ',\n",
       " 'URL URL and URL test footage with my girlfriend in hd the dark one is underxposed ',\n",
       " 'such tough game to watch tonight for state finally going to bed after also staying up to watch the season premiere of the hill ',\n",
       " 'seems jruby support for hpricot is now two version behind ',\n",
       " 'USER unlike my sister still don have one ',\n",
       " 'fraking app store is pissing me off URL ',\n",
       " 'logging out need to study ',\n",
       " 'anyone else having problem accessing ttb cant get on ',\n",
       " 'strongly dislike people who make stupid comment and dont know the whole story ',\n",
       " 'USER sorry emma is swarley goldfish sad for ',\n",
       " 'all my tweet are already gone aren they missed you guy tonight ',\n",
       " 'can sleep again face is kinda swollen don let me be allergic to the thing that ll get me to thursday school tomorrow doubtful ',\n",
       " 'USER if izzy on the cat tree she ll stare him down but if she on the floor he chase and she run ',\n",
       " 'am officially banning godaddy com from my comp my head hurt from the small print and wasted 10 that could ve happily gone to boba ',\n",
       " 'USER pretty much just scary for me ',\n",
       " 'USER mine too finding it well hard to get fit ',\n",
       " 'good morning ready go but want go back bed ',\n",
       " 'hate waiting for mail ',\n",
       " 'wheat bread from the dollar store just doesn toast nicely going over my tax and calling it an early night ',\n",
       " 'why kutner mean knew something wa going to happen to someone but it wa so sad lt house and it wa well done but still sad ',\n",
       " 'USER aw ok goonite ',\n",
       " 'ill so cant go to the cinema ',\n",
       " 'fell asleep really didn mean too christina ',\n",
       " 'USER hey you remember that time we used to be friend ugh vomit sick need sleep ',\n",
       " 'my lymph node are a massive a rahm emanuel ball right now ',\n",
       " 'oh no my computer suck don think ll be able to listen to the xbox 360 fancast tonite ',\n",
       " 'is missing playing my trumpet ',\n",
       " 'my throat is still really sore wa meant to be going on day camp from friday but not so sure now ',\n",
       " 'USER know exactly how you feel ',\n",
       " 'at work ',\n",
       " 'well bed time now am sigh back to am morning for week on wednesday ',\n",
       " 'USER jesus camp yeah ',\n",
       " 'USER oh no with everything that happened today forgot we were going dress shopping for the opera tomorrow ',\n",
       " 'turtle are better than my mac last longer and move faster ',\n",
       " 'am soaked this is not pleasant ',\n",
       " 'USER sorry to hear about maggie thought to your mum ',\n",
       " 'USER you may have to email this one to me hope you feel better ',\n",
       " 'USER dead yu gettin on wen im leavin ',\n",
       " 'USER please tell me that somewhere close to california lol ',\n",
       " 'USER where are you ',\n",
       " 'stupid arranged marriage ll convert so you can marry me love you ',\n",
       " 'USER well he said that he is looser and that is what the show implies ',\n",
       " 'poor sandra cantu amp the cantu family my prayer go out to them what sick world we live in she wa only ',\n",
       " 'fuck omg austin always there though man lt love you ',\n",
       " 'USER cried so hard when matthew died ',\n",
       " 'sad that the foot of my macbook just fell off sad that the foot of my macbook just fell off ',\n",
       " 'USER why am the last to find out about these thing like that you re on the twitter too ',\n",
       " 'USER absolutely not ',\n",
       " 'URL filled with curry the true indian in me is coming out ',\n",
       " 'im soooo cold right now ',\n",
       " 'USER lol kant believe cam got beat upp sooo embarasssiiiin ',\n",
       " 'USER good knight hun looking forward to ur tweet again hate that keep missing out on the fun cuz of the time difference ',\n",
       " 'tumblr this is exactly how it feel wearing tie URL ',\n",
       " 'USER hahaa just realized quot impune quot definitely isnt the word wanted dang so unclever ',\n",
       " 'watching old video of dance team and such make me miss it ',\n",
       " 'wahh no csi anywhere dvr ed love money though gonna watch it then sleep goodnight tweeter lt ',\n",
       " 'struggling hard with inventory ',\n",
       " 'USER do you hate u please don ',\n",
       " 'USER haha im not that ballin still got bill to paaaaay ',\n",
       " 'in one of those day when really just want to work from home crap ',\n",
       " 'USER wait is it game or just episode so confused ',\n",
       " 'USER haha cried guess he did ',\n",
       " 'don get statistic it all bunch of mumbo jumbo for me ',\n",
       " 'USER got it sadly only work for uk amp u at the moment ',\n",
       " 'evicted ',\n",
       " 'doesn enjoy learning cs ',\n",
       " 'USER brian don make me fuck up lol replied ur message did get my miss ',\n",
       " 'USER dvr it and went to watch it apparently the dish network went down so missed it will have to catch rerun ',\n",
       " 'USER lmao may have to wait for another season to come thru it summe boo hot nd dry as weather ',\n",
       " 'USER can set my foot on the ground the missing eyelid people might get me ',\n",
       " 'USER my english professor would be ashamed ',\n",
       " 'wish the frog weren becoming extinct URL ',\n",
       " 'came home from cross county tired a ',\n",
       " 'don want to walk home in this snow who want to pick me up ',\n",
       " 'USER lauren is being stubborn she love you you love her feel so bad for you though it made me cry lol ',\n",
       " 'is grouchy and want bmar ',\n",
       " 'my heart is broken every morning dropping foo at pre school now understand when mom say quot he ha my heart broken quot ',\n",
       " 'not feeling well and back hurt ',\n",
       " 'im in the mood for some chocolate want miniature reeses cup now ',\n",
       " 'can take this heat it like an oven in here feel sick nwo ',\n",
       " 'USER come to the chat just 15 minute please URL ',\n",
       " 'boredd colddd internet keep stuffing up ',\n",
       " 'had horrible nightmare last night which affected my sleep now really tired ',\n",
       " 'im lonely keep me company 22 female new york ',\n",
       " 'USER lost and it wa st ignacius prepatory school haha ',\n",
       " 'USER yeah it wa really depressing stuff like that get to me ',\n",
       " 'USER no problem tongue in cheek remark lot of acronym but no nz ',\n",
       " 'USER hey you said matt wa gonna go all ballistic wa disappointed good ep tho mostly ',\n",
       " 'ugh horrible ending to the sandra kantu story prayer go out ',\n",
       " 'USER URL hate allergic want puppy soo bad that ve already thought some cool name ',\n",
       " 'morning folk 00 am yawn up amp away to see to horse hope twitter is better behaved today last night wa travesty ',\n",
       " 'USER miss mine too ',\n",
       " 'USER sorry to hear about your loss there have been many this year so far ',\n",
       " 'USER gossip girl wa repeat ',\n",
       " 'USER reckon ',\n",
       " 'finding it really hard to use twitter ',\n",
       " 've been stuck in this house for two day ',\n",
       " 'is really sad and doesn really know ',\n",
       " 'USER no ',\n",
       " 'maybe one of these year ll get tax return girl can dream right ',\n",
       " 'back at work tired a hell and feel cold coming ',\n",
       " 'USER USER april 9th isn coming soon enough ',\n",
       " 'USER cream for his eye and he may have herpes not ocular herpes but different strain he doing okay though ',\n",
       " 'gotta repeat whole art folio cuz old one with whole term work got wet ',\n",
       " 'ready for the weekend already it only monday ',\n",
       " 'USER umm nope think im an insomniac plus got the flu lll be sleepin like phuckin fish outta water any minute now ',\n",
       " 'ha finland sleeping for the night not really enough time ',\n",
       " 'USER can wait to try em but prolly have to wait until next weekend at the earliest ',\n",
       " 'shiner is taking up all my bed and blanket ',\n",
       " 'USER april 9th isn coming soon enough ',\n",
       " 'want to cry ',\n",
       " 'need to go to the bank tomorrow before go broke ',\n",
       " 'this earthquake in italy ha me sadden it only three hour away from naples where my family is ',\n",
       " 'should be sleeping have stressed out week coming to me ',\n",
       " 'USER yea am working tp hack my server to do the 12player thing for folk ',\n",
       " 'ha hurt her ankle and is going to the dr ',\n",
       " 'USER oh no how did you manage to send something to the trash can and empty it without noticing feel for ya ',\n",
       " 'lost my free copy of radioactive so can put it on my ipod grr and can go out buy nother coz it came with that paper ',\n",
       " 'doing make up shit ',\n",
       " 'photoshop hate it when you crash ',\n",
       " 'vacation make me feel sick ',\n",
       " 'you shouldn have gone ',\n",
       " 'listening to murd and 9th wonder just chillen out missing my crazy sex life ',\n",
       " 'USER shooting be careful luisa ',\n",
       " 'USER sure everyone ha ruined my gift to you whitney ha my serious cell we doing easter a well ',\n",
       " 'is at beso in hollywood so tired ',\n",
       " 'don want to wake up early tomorrow damn you work ',\n",
       " 'just finished watching the movie prayer for bobby broke my heart ',\n",
       " 'USER is myki really horrible ',\n",
       " 'USER had put my dog down today too someone ran her over ',\n",
       " 'USER sorry to hear about your dnf run tonight always risk to get bad coords on an ftf ',\n",
       " 'USER did get some disgruntled people when wrote my esn but the 1000 hit in one day made up for it bill pull in 250 top ',\n",
       " 'USER ohh omg lmao cry right now lol kutnerrrr wa the best ',\n",
       " 'came back from running and took shower why doe my lower stomach still hurt after exercising ',\n",
       " 'watching fallon with mom and working on project school is hard ',\n",
       " '56 min till home time and counting have craving to visit the mac store but they will have closed by the time get there ',\n",
       " 'USER am so sorry to hear that take care ',\n",
       " 'USER hmmm greed is good when it motivates the individual to do better not so much when it take away from others ',\n",
       " 'USER brat you have to rub it in don you want mocha ',\n",
       " 'kutnerrrr why why and to think that 13 is still on the show ugh kutner kal penn you ve been the bright star in ho ',\n",
       " 'USER my mom ha it wish you the best of luck ',\n",
       " 'so hate homework my head hurt so bad ',\n",
       " 'got the ebay blue item want jumped from no bidder to over 100 in an hour still ha hour to go better not get my hope up ',\n",
       " 'USER know wa little depressed that we ate so much last night there were no leftover today ',\n",
       " 'well the pc in my living room suffered fatal partion lost all my itunes library is gone and some doc with pic ',\n",
       " 'sad day manu out for the season ',\n",
       " 'USER you poor spunky it so sad my rotti made it to 10 and had to go down the same path know how you feel ',\n",
       " 'im sooo sad right now need hug ',\n",
       " 'want her step brother home im so worried you dont even know hope he know how much care for him ',\n",
       " 'USER just got done watching the hill loved it excited for the next episode and im sad this is the last season ',\n",
       " 'USER aww that stink hug ',\n",
       " 'tired feel like crap and the world feel all crummy make me happy usb disco mouse ',\n",
       " 'dont want to believe what im reading buu so sad ',\n",
       " 'wondering why gamebattles is down ',\n",
       " 'white trash v u we were outnumbered URL ',\n",
       " 'USER so true have it and don use it ',\n",
       " 'spring break is here at last but no one is here to celebrate ',\n",
       " 'morning bah car won start waiting for the anwb ',\n",
       " 'USER which is pretty anti memorial tattoo but for all but the strictest there no official ban just disapproving family ',\n",
       " 'balamurugan longterm member of the team is leaving this month we ll miss working with him hope he doe well in his next venture ',\n",
       " 'USER it sad knowing how they found her body what crazy world we live in no child deserves that ya know ',\n",
       " 'wanna rock maxi dress coachella but lacking funding ',\n",
       " 'of course the baby is screaming in the crib the night before my first day back at work so let him cry it out boooo ',\n",
       " 'am home missing my baby busy week ahead fri is chill day with my guy and kid egg hunt sat spiral and dmb sat night and easter ',\n",
       " 'USER never found her everytime click on her twitter thing through your myspace it go to some dude page ',\n",
       " 'USER that horrible sorryto hear that ',\n",
       " 'USER cant find it it say dtmafiaofficial doesnt exist there jus dtmafia found dun seem to followin it wht to do ',\n",
       " 'thought you would support me on this ',\n",
       " 'augh eff sarth stole some of mil nail polish it pretty ',\n",
       " 'wish wa on the spring fling tour with dawn amp neecee sigh knight ',\n",
       " 'the hoyts distribution nz website isn working for me great and it ha to be like this when need it most ',\n",
       " 'USER don like that they only had him in the first movie cillian murphy is hot ',\n",
       " 'wish for good old cartoon to come back ie captain planet where wally daria sadness ',\n",
       " 'not feeling good abt myself ',\n",
       " 'just got text from sarah ',\n",
       " 'another day at centre point this time an early start so guessing train will be rammed with commuter ',\n",
       " 'four game this fall modern warfare halo odst brutal legend and bioshock need more cash ',\n",
       " 'USER ugh that disconcerting ',\n",
       " 'USER actually the whole site ha finally been taken over by those damn russian ',\n",
       " 'my tweet arent going through ',\n",
       " 'just finished delicious breakfast my last in paris ll miss milk europe ha the tastiest milk in the world don drink it in u ',\n",
       " 'ilearn is down and out great considering final are this week ',\n",
       " 'USER stressed outttt ',\n",
       " 'also shouldve bern asleep an hour ago ',\n",
       " 'trying to figure out this twitter thing none of my friend are on yet soo much to see ',\n",
       " 're pinging USER custom icon made look cool but the edge could be le square might look bad on diff background ',\n",
       " 'want to be back in la ',\n",
       " 'USER dunno how to use the forum and get frustrated with it ll miss talking to you on here ',\n",
       " 'USER not an option ',\n",
       " 'USER unfortunately one of those moment wasn giant squid monster ',\n",
       " 'USER want one too is the branch in midv open too ',\n",
       " 'USER aw sorry to hear that ',\n",
       " 'change of plan we ordered mac instead time to hit the book ',\n",
       " 'USER yup ',\n",
       " 'USER did you see donnie tweet stats almost 700 reply and no jrk ',\n",
       " 'USER nah haven received my stimulus yet ',\n",
       " 'USER just seen ur tweet plz write bak if get this havnt got one reply bak ',\n",
       " 'USER awwwww and you were trying to go to sleep hour ago ',\n",
       " 'USER so sorry to hear that it always sad when we lose those close to u a we loved them ',\n",
       " 'cant sleep but im still feelin like piece of shit ',\n",
       " 'USER oh my sympathy it hard decision always hope my old border collie will go in her sleep she 14 too hug ',\n",
       " 'USER well there wa this really cool part where wont spoil it ',\n",
       " 'USER doing the time warp without you and am sad ',\n",
       " 'USER this is true lol but it still slap in the face after such warm end of march ',\n",
       " 'hate converting movie just to put em on my itouch ',\n",
       " 'gross have pimple ',\n",
       " 'USER yea ma naaaaaaaaaaaaaaaaaaaam marwan accent lol ',\n",
       " 'one le follower tonight ',\n",
       " 'USER so did your mom last night brb while figure out whether just burned you or myself the most ',\n",
       " 'feel like am the only quot twitterer quot not on tweetdeck ',\n",
       " 'USER he ha karate tournament in week ',\n",
       " 'going to sleep can be up until 1am again and no didn finish my statistic homework ',\n",
       " 'north carolina baby aint nothin stopping them but the nba draft ',\n",
       " 'can sleep again ',\n",
       " 'reaaly miss john mayer twitter fuck rude people remove him if you don like his tweet bitchfucks ',\n",
       " 'is going to have late one at mqu today ',\n",
       " 'im so tired of work need life ',\n",
       " 'just leavin work my foot hurt ',\n",
       " 'USER that wa so sad and unexpected totally cried haha ',\n",
       " 'superneej morning bah car won start waiting for the anwb ',\n",
       " 'still doing my homework ',\n",
       " 'little sad ',\n",
       " 'USER my mom amp dad both get up around too early for me ',\n",
       " 'should ve been asleep two hour ago ',\n",
       " 'USER so sorry to hear about your dog ',\n",
       " 'funny how the little thing make me homesick criminal breakn n2 brownstone on lawnord ci made me misty ',\n",
       " 'USER yeah great vid had the 12 quot single but sold it few year ago ',\n",
       " 'im on val mac in iitsc clubroom still sweating ',\n",
       " 'USER awww so sad so sorry ',\n",
       " 'updatingffe that give me nothing to do for good twenty minute ',\n",
       " 'hot compress not rily workng for pulled muscle gng to bed good night ',\n",
       " 'have an invite for quot healthy dining quot session at ashok hotel today with exec chef chopra but damn workload will have to skip it ',\n",
       " 'USER so sorry to hear about your dog wishing you happier day to come ',\n",
       " 'USER miss em too ',\n",
       " 'USER cool have no tweet apps for my razr ',\n",
       " 'off too bed gotta wake up hella early tomorrow morning ',\n",
       " 'still procrastinating hate organizing my clothes there just so much ',\n",
       " 'just been playing with the new mobbler v0 and it add some great new feature but won play music on my e71 like v0 did ',\n",
       " 'USER oh but there one bestie missing ',\n",
       " 'USER time to come back to flawda for double date no seriously sorry to hear that ',\n",
       " 'up way to late to be working for client 12 10 am fb ',\n",
       " 'blegghhhh have to go to work ',\n",
       " 'back at work john muir dr URL ',\n",
       " 'USER emailed you yesterday and never responded ',\n",
       " 'it going to be long year for fan ',\n",
       " 'just got done watching the new house episode definitely one of the saddest episode ever ',\n",
       " 'man tax suck horrified that did something wrong on them turbotax decided to keep around lot of the stuff turned off ',\n",
       " 'sleep time tomorrow is gonna suck ',\n",
       " 'wtf not kutner oh so pissed house mean really wtf ',\n",
       " 'USER know dont know why said that ',\n",
       " 'cash rule everything around me ',\n",
       " 'just picked up some oat from the market to eat for breakfast with my boy USER now time to do work at usc late night ',\n",
       " 'feel sick too much icecream ',\n",
       " 'USER this computer doesn have shockwave blah no account yet ',\n",
       " 'USER awww wish could go but it in sydney ',\n",
       " 'USER hahaha suriously feel like everyone know this show is joke except lc ',\n",
       " 'just can spell today totally suck ',\n",
       " 'are you vaccinated against chicken pox should vaccinate my yr old am so confused about this damn thing ',\n",
       " 'school at least last day ',\n",
       " 'yawwwn gotta get up early tomorrow who ready for the weekend ',\n",
       " 'miss being at home for calving season sad that black one died this morning wish had some bottle calf ',\n",
       " 'USER so sorry for your loss my brother dog sam is sick cushing disease ',\n",
       " 'back to work get to spend the next hour alone in the dispatch room ',\n",
       " 'there new kind of starburst favereds sound fab bc cherry and strawberry are my fav red but they added watermellon and it yucky ',\n",
       " 'well so much for being productive on my day off from angel ',\n",
       " 'USER oh gee insomnia suck have you tried melatonin ',\n",
       " 'USER good to hear that we have support in netbeans but then it netbeans you know ',\n",
       " 'USER wish we would get it the same time at the rest of world unfornately am in cairo and have to wait for mtva to play it ',\n",
       " 'heartbroken over little sandra prayer are with the family ',\n",
       " 'USER at 900 word it all can do ll finish tomorrow maybe ',\n",
       " 'USER how come ur background cover the screen but mine is in the corner ',\n",
       " 'wrote exactly three line of dialogue tonight then gave up ',\n",
       " 'USER my only complaint about facebook is they ve changed it so much it confusing ',\n",
       " 'sliced my finger ',\n",
       " 'going thru town and traffic on bypass is stink ',\n",
       " 'ugh can sleep wish had good cuddle to make me as out ',\n",
       " 'hate when software update downloads update without telling me never know what downloading when it is ',\n",
       " 'went to ihop again great for diet at least there were no kung foo pancake this time rachel ',\n",
       " 'the internet is hating me night pose ',\n",
       " 'USER so jealous missed all of opening day this year ',\n",
       " 'it so cruel having to wait for review to come in so far it look like star trek will be the best film of the year ',\n",
       " 'debating if should just shower now so can sleep little later tomorrow ',\n",
       " 'my stress always culminates with physical pain ',\n",
       " 'need to sleep but cant ',\n",
       " 'my little pinky finger hurt so much ',\n",
       " 'USER sorry your gift card ran out that suck ',\n",
       " 'home for spring break no one is home tho ',\n",
       " 'accessed oneindia mobi from google phone android it doesn support indic language ',\n",
       " 'why doe school take over your life so much you don get sleep anymore am still doing school work and have more to do a well ',\n",
       " 'USER aw wish could can really speak to my yia yia because she doesn speak english ',\n",
       " 'USER no free comp lol ',\n",
       " 'getting ready to clean the house from top to bottom ',\n",
       " 'cry my friend is moving away tomorrow ',\n",
       " 'USER stop nomnoms you didn share night people ',\n",
       " 'think she is getting cold that she caught from daddy oh no my trip would be ruined ',\n",
       " 'USER yeah is it bcoz kal penn is visiting lecturer somewhere cant be on the show anymore im gonna miss him ',\n",
       " 'so the procrastination start early in the quarter don want to reaaaaad and write paper ',\n",
       " 'what apparently it 52 degress at 11pm in washington state miss winter already ',\n",
       " 'being bored at homee ',\n",
       " 'massage wa great just spilled coke all over my desk lame watching the simpson a ve finished all my hill dvd ',\n",
       " 'USER will wait for you at fanclub chat even tough you re not my favorite ',\n",
       " 'ha mild left inner ear infection and it got this irritating quot blocked quot feeling since sunday ',\n",
       " 'USER hey there nope my cuteness USER is away for awhile ',\n",
       " 'it only tuesday ',\n",
       " 'haha not even yo just didn know how to do that USER to you on twitter haha ',\n",
       " 'someone alarm clock or phone woke me up at 3am still got my headache from yesterday night ',\n",
       " 'USER awww poor puppy is she ok ',\n",
       " 'might break down and eat some buffalo wing tomorrow ',\n",
       " 'sittin here kayla really really reallly dis like having brother he doesn know when to stop waiting for the day when one of ',\n",
       " 'fed bokkie too many birthday treat sicko ',\n",
       " 'kinda bummed an agency just told me that didn have the look that they were going for lady please help me create the look ',\n",
       " 'work laptop is officially dead not happy at all ',\n",
       " 'my goodness it freezing down here ',\n",
       " 'USER why do you put up with him you should listen to your mom ',\n",
       " 'is stucked in paris and can even travel into france for work ',\n",
       " 'USER don think there one close by last time checked the closest one wa 70 mile away ',\n",
       " 'aaaaand back to my literature review at least have friendly cup of coffee to keep me company ',\n",
       " 'am worried that won get my 900 even though paid buttload of tax last year ',\n",
       " 'okay so still no school ',\n",
       " 'is phoneless now off too sleep ',\n",
       " 'reeked of alcohol at the dentist this morning wa drunk when put on my tshirt realised it had huge stain dentist looked disgusted ',\n",
       " 'it is really cold ',\n",
       " 'cant sleep she want to dream ',\n",
       " 'can sleep hate these night when try to go to bed early and stay awake for hour poo ',\n",
       " 'USER yeah too bad people like certain burrito eating man exist ',\n",
       " 'USER that sad ',\n",
       " 'just found out that my mum and my adopted auntie are on twitter check them out my mum is tessm64 and my awesome a auntie is tania38 ',\n",
       " 'cannot sleep wide awake and gotta go to work later too boy am going to have crappy day ',\n",
       " 'struggling with eam law ',\n",
       " 'why can sleep like her URL ',\n",
       " 'bout to start 24 poor linny couldn keep her eye open she tired and ha to work tomorrow morning night USER ',\n",
       " 'my year old 18 year old is driving me around the twist don want to be like this ',\n",
       " 'well that sucked ',\n",
       " 'have to be out of my place in day any help can get packing painting cleaning is much appreciated oh and rip my wall ',\n",
       " 'opening partially frozen beer beer on the toaster under the oven and all over the counter the kitchen smell like we run speakeasy ',\n",
       " 'USER no dont even know how to ride it ',\n",
       " 'USER sadly yes think need counciling now ',\n",
       " 'making myself ready for school don feel like going but have two test ',\n",
       " 'smugness gone my train also failed to turn up so heading for victoria followed by an unpleasant tube ride to the city ',\n",
       " 'anybody know where my ipod went ',\n",
       " 'aww this earthquake in italy ha made me sad just saw the pic on the news it terrible ',\n",
       " 'USER never been able to afford to get them out much rather go through the extraction than continue with what deal with now ',\n",
       " 'why do other pet care people try to run others out of business or send suspicious mail fishing for info ',\n",
       " 'USER lt 33 codez they ve been mia tho ',\n",
       " 'USER doesnt work on my cell go to sleep ',\n",
       " 'it going to be nice again tomorrow and then the rain come back no nice weather for my birthday ',\n",
       " 'USER rock band is hard on expert ',\n",
       " 'USER roomie wa home all day all he had to do wa scratch at the door comforter ha to goto large laundromat machine ',\n",
       " 'one of the hardest thing with this schedule no one can chat with at the end of my day usually ',\n",
       " 'they killed off character on one of my favorite show and now upset ',\n",
       " 'jealous of my friend who got to see the new star trek film in austin tonight ',\n",
       " 'listening to got really bad headache and drivin lesson in ten min lucky me just wana sleeep ',\n",
       " 'USER shut up you am hungry and in britain home of the most boring suckassy breakfast in the world miss dennys ',\n",
       " 'good morning everybody pkoi fais pa beau bon coffee time ',\n",
       " 'work again ',\n",
       " 'essay time ',\n",
       " 'USER hey did talk to mom they home yet hope they ok wish wa coming home easter ',\n",
       " 'USER sure wish could go with you guy tmrw but a per usual school interferes ',\n",
       " 'USER say what kal penn leaving house noooooo awww totally missed it tonight ',\n",
       " 'no lost loyal ',\n",
       " 'played another hand very bad and lost half my stack ',\n",
       " 'it 20pm early day in looooooong night at work ',\n",
       " 'USER it sad it the last season wanna see when spencer call lauren ',\n",
       " 'so im done editing quot the phipstape quot back crack brew and see what we got no tree though ',\n",
       " 'USER don know what half of that mean ',\n",
       " 'homework homework homework ',\n",
       " 'worked his heart out today doubling my weight at each station result stiff and pulled muscle ouch ',\n",
       " 'USER now feel bad for unfollowing ',\n",
       " 'so tired god hate the new job and only two day in ',\n",
       " 'sad about kutner being killed off my fav show house ',\n",
       " 'happy for coach stringer hof 2009 now if can only finish my term paper on her ',\n",
       " 'feel like shit this is not the way want to spend my birthday eve ',\n",
       " 'so far have 311 on all my site put together most of them were me checking out the update made ',\n",
       " 'ha lot on her mind need to make some money and idea nowhere is hiring ',\n",
       " 'USER miss you ',\n",
       " 'USER so sorry to hear about your dog ',\n",
       " 'too much internet how it plague me ',\n",
       " 'miss my ex soo much ',\n",
       " 'sodding m25 URL ',\n",
       " 'oh thought the pirate bay trial verdict wa today apparently it in 10 day ',\n",
       " 'USER call me back ',\n",
       " 'is in study hall now and will log off immediately URL ',\n",
       " 'it so tired that im cry for no reason at all im about to try to get an hour and half in for tonight half what got last night ',\n",
       " 'totally have like four girl option and none of them seem viable ',\n",
       " 'so far have 311 veiws on all my site put together most of them were me checking out the update made ',\n",
       " 'listening to bjork all is full of love cry ',\n",
       " 'omg the hill then love money2 aww think becky buckwild go ',\n",
       " 'is craving for some tantan nabe URL ',\n",
       " 'mon sean man ',\n",
       " 'watching quot league of their own quot make me miss mint chocolate ice cream cone and my grand ma fuck ',\n",
       " 'lost my phone some where maybe in the grass it just so long hope it doesn rain ',\n",
       " 'USER hope you aren referring to me say hello to your new stalker lol ',\n",
       " 'USER why were sleeping ur gonna be up all night now how wa ur bike ride ',\n",
       " 'USER but but but wanna listen to the master too ',\n",
       " 'USER ve been looking about for good stuff to write but also been doing load of uni work ',\n",
       " 'feel unloved dropped tweeter ',\n",
       " 'off to london for the day on thursday it gonna be raining oh fab won see much on the london eye still robbie won care bless him ',\n",
       " 'completely wiped and reloaded the 8900 lost all bbm contact going to bed sad ',\n",
       " 'USER sayyyy whaaaa wasn invited ',\n",
       " 'didn sleep too bad considering have workshop starting today beginning of sore throat though ',\n",
       " 'USER oh my gosh that made me emotional haha idk why dont want to get old ',\n",
       " 'we re going to post some story manually due to twitterfeed problem that why we ve been so quiet lately ',\n",
       " 'don like lukewarm shower ',\n",
       " 'USER who should contact if need 1099 for freelance work did on linux com throughout 2008 never got one ',\n",
       " 'USER connor it me febi are you really really mad at me ',\n",
       " 'need some help want to buy macbook pro but still inlove with my old powerbook ',\n",
       " 'USER man america is so borez anyway lol just realized you sent me msg on here had no idea have no flash ',\n",
       " 'USER USER knight lovely lady sleepy now ',\n",
       " 'doe anybody know how to get your electrolyte back in order with vitamin work feel sick ',\n",
       " 'USER yes someone hasn been reading my post properly ',\n",
       " 'almost through with my italian homework weeeeee now if only understood what wa doing ',\n",
       " 'who turned the light on it will be time to get ip then ',\n",
       " 'USER twitter hate u both then ',\n",
       " 'hate the fact that genuinely excited about my last tweet ',\n",
       " 'USER can sleep either ',\n",
       " 'USER between that and the italy earthquake it been very sad news day ',\n",
       " 'USER all rain today garden really need it so not quite so bad ',\n",
       " 'yawn yawn yawn 10 more minute in bed ',\n",
       " 'USER ouch sound very sucky ',\n",
       " 'USER great idea with the itunes promo code they don work in the uk itunes store though ',\n",
       " 'USER cry ',\n",
       " 'USER an empty rum barrel is sad rum barrel shake head the horror the horror ',\n",
       " 'it wa sleepless night ',\n",
       " 'USER she admitted to being fake ',\n",
       " 'USER love chutney ',\n",
       " 'got highly bored today scanning 24 page for daddy had to do it ',\n",
       " 'USER you cooked risotto without me ',\n",
       " 'keeeerrrrriiiiii really have nothing better to do then post on this thing at 224am wonderfullll say alot ',\n",
       " 'yay for baseball season boo to yankee losing their first game ',\n",
       " 'lost suck because have to work today ',\n",
       " 'omg exam killed me how could not know the difference between haif circle and hemisphere lt gt ',\n",
       " 'in bed suddenly feel wish ma wa here me goodnight twitterfam ',\n",
       " 'USER don like goodnights ',\n",
       " 'greaaat my lappy won turn on wtffffff ',\n",
       " 'USER you stuck in traffic then my journey wa traffic free this morning if it any help ',\n",
       " 'lookin like an all nighter hate it when do this to myself ',\n",
       " 'USER you re stranger ',\n",
       " 'debbugging old vb6 code the day could have started better ',\n",
       " 'USER only quarter of percent babe darn ',\n",
       " 'coming down with cold or bad allergy either way miserable ',\n",
       " 'can believe cutner is dead on house sad day in santa rosa ca URL ',\n",
       " 'damnit wa really digging this season of reaper URL ',\n",
       " 'gah comcast doubled our cable internet bill out telling u so we are quitting can anyone suggest an affordable company in bay area ',\n",
       " 'another early morn with the duchess although she hadn managed to cross her leg this time ',\n",
       " 'USER you left without saying hi ',\n",
       " 'want but can sleep ',\n",
       " 'USER when an xbox show those three red light it mean it dead and need to be fixed for month at microsoft hq ',\n",
       " 'king sized bed is nice but sad and lonely with no hubby puppy or kitty am over this whole conferenceing thing ',\n",
       " 'im boredd gah wish could just sleep and get it over with but ive had toooo muchh cooooffffeeeeeeeee bahaha ',\n",
       " 'USER if may butt in again done being nosey sorry your conversation wa just so interesting ',\n",
       " 'USER you fell off my list did offend you ',\n",
       " '18 week till sister home missed her call again it the worst feeling in the world ',\n",
       " 'gonna try to get some sleep in this hotel room ',\n",
       " 'USER brilliant idea just bring a much a you think you ll spend amp ll swap you bring brolly ',\n",
       " 'USER get me an autograph and shout out you have to record it though my computer is dead so can listen ',\n",
       " 'rt USER khloe just got fired from the apprentice ',\n",
       " 'in biology class my lip hurt ',\n",
       " 'sorry for the next tweet ',\n",
       " 'grr not down to go to school today ',\n",
       " 'USER had to get an hd tivo and just got it set up tonight in order to get channel 40 59 ',\n",
       " 'USER asked everyone how they were doing yesterday and not single tweet back ',\n",
       " 'USER ruddy money like it still waiting here oh what surprise by state too hmmm seriously ',\n",
       " 'USER am so sad kutner wa my favorite of the new team ',\n",
       " 'USER wow didn get an quot hello quot suck ',\n",
       " 'bedtime school tomorrow and still have no book being broke suck ',\n",
       " 'seating here helping my baby with his paper well he is forcing me too seat with him im sleepy ',\n",
       " 'synching my contact from my old mobile to iphone import doe not work well ',\n",
       " 'can concentrate ',\n",
       " 've just spent hour to enter all the bureaucratic nonsense for march what waste of my time ',\n",
       " 'nw more confused then ever ',\n",
       " 'not feeling well again stupid migraine making my tummy upset and my whole body ache shoot me now ',\n",
       " 'reading buyology before bedtime great premise but only turning out to be an quot ok quot book lot of info already knew ',\n",
       " 'home really wana sleep but due to wasting my free line in town have an assignment to finish ',\n",
       " 'USER also send some update in plurk but upload photo on twitter you didnt see any of my update on plurk zero ',\n",
       " 'omg quot the reader quot is making me ',\n",
       " 'USER oh at least you re getting decent exchange rate at the moment sterling is still getting flogged ',\n",
       " 'tried to download tweetdeck but it wont download ',\n",
       " 'there an inch of snow on the ground and counting worried about the poor flower ',\n",
       " 'USER why aren you happy camper ',\n",
       " 'USER thanks man so very grateful feel unworthy of such attention though because in this because of myself ',\n",
       " 'USER miss too totally comin back tho lastnight wa sooooooo much fun ',\n",
       " 'USER ohhh love it p sad we didn get to hang out ',\n",
       " 'and somehow still end up in this place ',\n",
       " 'USER oh that is very sad poor boy ',\n",
       " ...]"
      ]
     },
     "execution_count": 21,
     "metadata": {},
     "output_type": "execute_result"
    }
   ],
   "source": [
    "newTweets"
   ]
  },
  {
   "cell_type": "markdown",
   "id": "76ff1125",
   "metadata": {},
   "source": [
    "# Splitting the data"
   ]
  },
  {
   "cell_type": "code",
   "execution_count": 22,
   "id": "60beb62f",
   "metadata": {},
   "outputs": [],
   "source": [
    "x_train, x_test, y_train, y_test = train_test_split(newTweets, sentiment, test_size=0.30, random_state=42)"
   ]
  },
  {
   "cell_type": "markdown",
   "id": "0379ef0d",
   "metadata": {},
   "source": [
    "# TF-IDF Vectoriser"
   ]
  },
  {
   "cell_type": "code",
   "execution_count": 23,
   "id": "b84adb19",
   "metadata": {},
   "outputs": [],
   "source": [
    "tfidf_vect = TfidfVectorizer(ngram_range=(1, 2), stop_words='english', max_features=50000)"
   ]
  },
  {
   "cell_type": "code",
   "execution_count": 24,
   "id": "8469cbe7",
   "metadata": {},
   "outputs": [
    {
     "data": {
      "text/html": [
       "<style>#sk-container-id-1 {color: black;background-color: white;}#sk-container-id-1 pre{padding: 0;}#sk-container-id-1 div.sk-toggleable {background-color: white;}#sk-container-id-1 label.sk-toggleable__label {cursor: pointer;display: block;width: 100%;margin-bottom: 0;padding: 0.3em;box-sizing: border-box;text-align: center;}#sk-container-id-1 label.sk-toggleable__label-arrow:before {content: \"▸\";float: left;margin-right: 0.25em;color: #696969;}#sk-container-id-1 label.sk-toggleable__label-arrow:hover:before {color: black;}#sk-container-id-1 div.sk-estimator:hover label.sk-toggleable__label-arrow:before {color: black;}#sk-container-id-1 div.sk-toggleable__content {max-height: 0;max-width: 0;overflow: hidden;text-align: left;background-color: #f0f8ff;}#sk-container-id-1 div.sk-toggleable__content pre {margin: 0.2em;color: black;border-radius: 0.25em;background-color: #f0f8ff;}#sk-container-id-1 input.sk-toggleable__control:checked~div.sk-toggleable__content {max-height: 200px;max-width: 100%;overflow: auto;}#sk-container-id-1 input.sk-toggleable__control:checked~label.sk-toggleable__label-arrow:before {content: \"▾\";}#sk-container-id-1 div.sk-estimator input.sk-toggleable__control:checked~label.sk-toggleable__label {background-color: #d4ebff;}#sk-container-id-1 div.sk-label input.sk-toggleable__control:checked~label.sk-toggleable__label {background-color: #d4ebff;}#sk-container-id-1 input.sk-hidden--visually {border: 0;clip: rect(1px 1px 1px 1px);clip: rect(1px, 1px, 1px, 1px);height: 1px;margin: -1px;overflow: hidden;padding: 0;position: absolute;width: 1px;}#sk-container-id-1 div.sk-estimator {font-family: monospace;background-color: #f0f8ff;border: 1px dotted black;border-radius: 0.25em;box-sizing: border-box;margin-bottom: 0.5em;}#sk-container-id-1 div.sk-estimator:hover {background-color: #d4ebff;}#sk-container-id-1 div.sk-parallel-item::after {content: \"\";width: 100%;border-bottom: 1px solid gray;flex-grow: 1;}#sk-container-id-1 div.sk-label:hover label.sk-toggleable__label {background-color: #d4ebff;}#sk-container-id-1 div.sk-serial::before {content: \"\";position: absolute;border-left: 1px solid gray;box-sizing: border-box;top: 0;bottom: 0;left: 50%;z-index: 0;}#sk-container-id-1 div.sk-serial {display: flex;flex-direction: column;align-items: center;background-color: white;padding-right: 0.2em;padding-left: 0.2em;position: relative;}#sk-container-id-1 div.sk-item {position: relative;z-index: 1;}#sk-container-id-1 div.sk-parallel {display: flex;align-items: stretch;justify-content: center;background-color: white;position: relative;}#sk-container-id-1 div.sk-item::before, #sk-container-id-1 div.sk-parallel-item::before {content: \"\";position: absolute;border-left: 1px solid gray;box-sizing: border-box;top: 0;bottom: 0;left: 50%;z-index: -1;}#sk-container-id-1 div.sk-parallel-item {display: flex;flex-direction: column;z-index: 1;position: relative;background-color: white;}#sk-container-id-1 div.sk-parallel-item:first-child::after {align-self: flex-end;width: 50%;}#sk-container-id-1 div.sk-parallel-item:last-child::after {align-self: flex-start;width: 50%;}#sk-container-id-1 div.sk-parallel-item:only-child::after {width: 0;}#sk-container-id-1 div.sk-dashed-wrapped {border: 1px dashed gray;margin: 0 0.4em 0.5em 0.4em;box-sizing: border-box;padding-bottom: 0.4em;background-color: white;}#sk-container-id-1 div.sk-label label {font-family: monospace;font-weight: bold;display: inline-block;line-height: 1.2em;}#sk-container-id-1 div.sk-label-container {text-align: center;}#sk-container-id-1 div.sk-container {/* jupyter's `normalize.less` sets `[hidden] { display: none; }` but bootstrap.min.css set `[hidden] { display: none !important; }` so we also need the `!important` here to be able to override the default hidden behavior on the sphinx rendered scikit-learn.org. See: https://github.com/scikit-learn/scikit-learn/issues/21755 */display: inline-block !important;position: relative;}#sk-container-id-1 div.sk-text-repr-fallback {display: none;}</style><div id=\"sk-container-id-1\" class=\"sk-top-container\"><div class=\"sk-text-repr-fallback\"><pre>TfidfVectorizer(max_features=50000, ngram_range=(1, 2), stop_words=&#x27;english&#x27;)</pre><b>In a Jupyter environment, please rerun this cell to show the HTML representation or trust the notebook. <br />On GitHub, the HTML representation is unable to render, please try loading this page with nbviewer.org.</b></div><div class=\"sk-container\" hidden><div class=\"sk-item\"><div class=\"sk-estimator sk-toggleable\"><input class=\"sk-toggleable__control sk-hidden--visually\" id=\"sk-estimator-id-1\" type=\"checkbox\" checked><label for=\"sk-estimator-id-1\" class=\"sk-toggleable__label sk-toggleable__label-arrow\">TfidfVectorizer</label><div class=\"sk-toggleable__content\"><pre>TfidfVectorizer(max_features=50000, ngram_range=(1, 2), stop_words=&#x27;english&#x27;)</pre></div></div></div></div></div>"
      ],
      "text/plain": [
       "TfidfVectorizer(max_features=50000, ngram_range=(1, 2), stop_words='english')"
      ]
     },
     "execution_count": 24,
     "metadata": {},
     "output_type": "execute_result"
    }
   ],
   "source": [
    "tfidf_vect.fit(x_train)"
   ]
  },
  {
   "cell_type": "code",
   "execution_count": 25,
   "id": "fd043b60",
   "metadata": {},
   "outputs": [
    {
     "name": "stdout",
     "output_type": "stream",
     "text": [
      "No. of feature words:  50000\n"
     ]
    }
   ],
   "source": [
    "print(\"No. of feature words: \", len(tfidf_vect.get_feature_names_out()))"
   ]
  },
  {
   "cell_type": "code",
   "execution_count": 26,
   "id": "d7b8bffd",
   "metadata": {},
   "outputs": [],
   "source": [
    "x_train = tfidf_vect.transform(x_train)"
   ]
  },
  {
   "cell_type": "code",
   "execution_count": 27,
   "id": "66e64e9b",
   "metadata": {},
   "outputs": [],
   "source": [
    "x_test = tfidf_vect.transform(x_test)"
   ]
  },
  {
   "cell_type": "code",
   "execution_count": 28,
   "id": "4cec4423",
   "metadata": {
    "scrolled": false
   },
   "outputs": [
    {
     "name": "stdout",
     "output_type": "stream",
     "text": [
      "  (0, 48917)\t0.34239344961165674\n",
      "  (0, 41579)\t0.18748471414988363\n",
      "  (0, 39011)\t0.4706123304396393\n",
      "  (0, 37860)\t0.15882304655130544\n",
      "  (0, 36190)\t0.3025460653433569\n",
      "  (0, 36185)\t0.2099289948788549\n",
      "  (0, 33556)\t0.2007678996507302\n",
      "  (0, 30820)\t0.17792870037193975\n",
      "  (0, 27189)\t0.24170831604913204\n",
      "  (0, 25741)\t0.16393310917148649\n",
      "  (0, 25204)\t0.219983318665122\n",
      "  (0, 20212)\t0.17644803425737146\n",
      "  (0, 16921)\t0.28073539265129244\n",
      "  (0, 15678)\t0.23010304527600667\n",
      "  (0, 6502)\t0.2832203716335535\n",
      "  (0, 1513)\t0.12863790576237405\n",
      "  (1, 37973)\t0.37316530959868954\n",
      "  (1, 37345)\t0.3968067246097772\n",
      "  (1, 36623)\t0.3189127691849791\n",
      "  (1, 29370)\t0.26715637642321677\n",
      "  (1, 20595)\t0.3541466946062221\n",
      "  (1, 12742)\t0.28604146242506684\n",
      "  (1, 4781)\t0.4345324140837718\n",
      "  (1, 1207)\t0.3662733580094315\n",
      "  (2, 46221)\t0.3339761664084216\n",
      "  :\t:\n",
      "  (1119998, 43889)\t0.34906988895956736\n",
      "  (1119998, 43003)\t0.1119878734864836\n",
      "  (1119998, 38602)\t0.19701379844804304\n",
      "  (1119998, 38526)\t0.26520082541739937\n",
      "  (1119998, 30668)\t0.34906988895956736\n",
      "  (1119998, 26511)\t0.18920290874119683\n",
      "  (1119998, 23906)\t0.3783261086506301\n",
      "  (1119998, 23885)\t0.13726113216089092\n",
      "  (1119998, 19232)\t0.2691797055335881\n",
      "  (1119998, 11825)\t0.24774644633951984\n",
      "  (1119998, 8850)\t0.3126818585686632\n",
      "  (1119998, 4644)\t0.2212883520965094\n",
      "  (1119998, 381)\t0.27046183957185144\n",
      "  (1119999, 48480)\t0.38875360070472015\n",
      "  (1119999, 37731)\t0.39343288572676727\n",
      "  (1119999, 37724)\t0.25611913189589364\n",
      "  (1119999, 35351)\t0.22807716051264987\n",
      "  (1119999, 25701)\t0.25837305430099344\n",
      "  (1119999, 19575)\t0.26157074420008364\n",
      "  (1119999, 19502)\t0.16205351912723986\n",
      "  (1119999, 18444)\t0.4141393802685919\n",
      "  (1119999, 18283)\t0.1678225200241958\n",
      "  (1119999, 14367)\t0.3584948754914901\n",
      "  (1119999, 14273)\t0.15125540486276876\n",
      "  (1119999, 11611)\t0.2528935967063776\n"
     ]
    }
   ],
   "source": [
    "print(x_train)"
   ]
  },
  {
   "cell_type": "markdown",
   "id": "4ca25263",
   "metadata": {},
   "source": [
    "# Creating a Model"
   ]
  },
  {
   "cell_type": "markdown",
   "id": "f6894593",
   "metadata": {},
   "source": [
    "##### 1. LightGBM Classifier"
   ]
  },
  {
   "cell_type": "code",
   "execution_count": 29,
   "id": "840a7de4",
   "metadata": {},
   "outputs": [],
   "source": [
    "model = LGBMClassifier()"
   ]
  },
  {
   "cell_type": "code",
   "execution_count": 30,
   "id": "0226011c",
   "metadata": {},
   "outputs": [
    {
     "data": {
      "text/html": [
       "<style>#sk-container-id-2 {color: black;background-color: white;}#sk-container-id-2 pre{padding: 0;}#sk-container-id-2 div.sk-toggleable {background-color: white;}#sk-container-id-2 label.sk-toggleable__label {cursor: pointer;display: block;width: 100%;margin-bottom: 0;padding: 0.3em;box-sizing: border-box;text-align: center;}#sk-container-id-2 label.sk-toggleable__label-arrow:before {content: \"▸\";float: left;margin-right: 0.25em;color: #696969;}#sk-container-id-2 label.sk-toggleable__label-arrow:hover:before {color: black;}#sk-container-id-2 div.sk-estimator:hover label.sk-toggleable__label-arrow:before {color: black;}#sk-container-id-2 div.sk-toggleable__content {max-height: 0;max-width: 0;overflow: hidden;text-align: left;background-color: #f0f8ff;}#sk-container-id-2 div.sk-toggleable__content pre {margin: 0.2em;color: black;border-radius: 0.25em;background-color: #f0f8ff;}#sk-container-id-2 input.sk-toggleable__control:checked~div.sk-toggleable__content {max-height: 200px;max-width: 100%;overflow: auto;}#sk-container-id-2 input.sk-toggleable__control:checked~label.sk-toggleable__label-arrow:before {content: \"▾\";}#sk-container-id-2 div.sk-estimator input.sk-toggleable__control:checked~label.sk-toggleable__label {background-color: #d4ebff;}#sk-container-id-2 div.sk-label input.sk-toggleable__control:checked~label.sk-toggleable__label {background-color: #d4ebff;}#sk-container-id-2 input.sk-hidden--visually {border: 0;clip: rect(1px 1px 1px 1px);clip: rect(1px, 1px, 1px, 1px);height: 1px;margin: -1px;overflow: hidden;padding: 0;position: absolute;width: 1px;}#sk-container-id-2 div.sk-estimator {font-family: monospace;background-color: #f0f8ff;border: 1px dotted black;border-radius: 0.25em;box-sizing: border-box;margin-bottom: 0.5em;}#sk-container-id-2 div.sk-estimator:hover {background-color: #d4ebff;}#sk-container-id-2 div.sk-parallel-item::after {content: \"\";width: 100%;border-bottom: 1px solid gray;flex-grow: 1;}#sk-container-id-2 div.sk-label:hover label.sk-toggleable__label {background-color: #d4ebff;}#sk-container-id-2 div.sk-serial::before {content: \"\";position: absolute;border-left: 1px solid gray;box-sizing: border-box;top: 0;bottom: 0;left: 50%;z-index: 0;}#sk-container-id-2 div.sk-serial {display: flex;flex-direction: column;align-items: center;background-color: white;padding-right: 0.2em;padding-left: 0.2em;position: relative;}#sk-container-id-2 div.sk-item {position: relative;z-index: 1;}#sk-container-id-2 div.sk-parallel {display: flex;align-items: stretch;justify-content: center;background-color: white;position: relative;}#sk-container-id-2 div.sk-item::before, #sk-container-id-2 div.sk-parallel-item::before {content: \"\";position: absolute;border-left: 1px solid gray;box-sizing: border-box;top: 0;bottom: 0;left: 50%;z-index: -1;}#sk-container-id-2 div.sk-parallel-item {display: flex;flex-direction: column;z-index: 1;position: relative;background-color: white;}#sk-container-id-2 div.sk-parallel-item:first-child::after {align-self: flex-end;width: 50%;}#sk-container-id-2 div.sk-parallel-item:last-child::after {align-self: flex-start;width: 50%;}#sk-container-id-2 div.sk-parallel-item:only-child::after {width: 0;}#sk-container-id-2 div.sk-dashed-wrapped {border: 1px dashed gray;margin: 0 0.4em 0.5em 0.4em;box-sizing: border-box;padding-bottom: 0.4em;background-color: white;}#sk-container-id-2 div.sk-label label {font-family: monospace;font-weight: bold;display: inline-block;line-height: 1.2em;}#sk-container-id-2 div.sk-label-container {text-align: center;}#sk-container-id-2 div.sk-container {/* jupyter's `normalize.less` sets `[hidden] { display: none; }` but bootstrap.min.css set `[hidden] { display: none !important; }` so we also need the `!important` here to be able to override the default hidden behavior on the sphinx rendered scikit-learn.org. See: https://github.com/scikit-learn/scikit-learn/issues/21755 */display: inline-block !important;position: relative;}#sk-container-id-2 div.sk-text-repr-fallback {display: none;}</style><div id=\"sk-container-id-2\" class=\"sk-top-container\"><div class=\"sk-text-repr-fallback\"><pre>LGBMClassifier()</pre><b>In a Jupyter environment, please rerun this cell to show the HTML representation or trust the notebook. <br />On GitHub, the HTML representation is unable to render, please try loading this page with nbviewer.org.</b></div><div class=\"sk-container\" hidden><div class=\"sk-item\"><div class=\"sk-estimator sk-toggleable\"><input class=\"sk-toggleable__control sk-hidden--visually\" id=\"sk-estimator-id-2\" type=\"checkbox\" checked><label for=\"sk-estimator-id-2\" class=\"sk-toggleable__label sk-toggleable__label-arrow\">LGBMClassifier</label><div class=\"sk-toggleable__content\"><pre>LGBMClassifier()</pre></div></div></div></div></div>"
      ],
      "text/plain": [
       "LGBMClassifier()"
      ]
     },
     "execution_count": 30,
     "metadata": {},
     "output_type": "execute_result"
    }
   ],
   "source": [
    "model.fit(x_train, y_train)"
   ]
  },
  {
   "cell_type": "code",
   "execution_count": 31,
   "id": "c7fe9b87",
   "metadata": {},
   "outputs": [],
   "source": [
    "y_pred = model.predict(x_test)"
   ]
  },
  {
   "cell_type": "code",
   "execution_count": 32,
   "id": "58543cac",
   "metadata": {},
   "outputs": [
    {
     "name": "stdout",
     "output_type": "stream",
     "text": [
      "              precision    recall  f1-score   support\n",
      "\n",
      "           0       0.74      0.73      0.73    239361\n",
      "           1       0.73      0.75      0.74    240639\n",
      "\n",
      "    accuracy                           0.74    480000\n",
      "   macro avg       0.74      0.74      0.74    480000\n",
      "weighted avg       0.74      0.74      0.74    480000\n",
      "\n"
     ]
    }
   ],
   "source": [
    "print(classification_report(y_test, y_pred))"
   ]
  },
  {
   "cell_type": "markdown",
   "id": "13f666c0",
   "metadata": {},
   "source": [
    "##### 2. Logistic Regression"
   ]
  },
  {
   "cell_type": "code",
   "execution_count": 33,
   "id": "5fca7d06",
   "metadata": {},
   "outputs": [],
   "source": [
    "model2 = LogisticRegression()"
   ]
  },
  {
   "cell_type": "code",
   "execution_count": 34,
   "id": "30a2145f",
   "metadata": {},
   "outputs": [
    {
     "name": "stderr",
     "output_type": "stream",
     "text": [
      "C:\\ProgramData\\anaconda3\\lib\\site-packages\\sklearn\\linear_model\\_logistic.py:458: ConvergenceWarning: lbfgs failed to converge (status=1):\n",
      "STOP: TOTAL NO. of ITERATIONS REACHED LIMIT.\n",
      "\n",
      "Increase the number of iterations (max_iter) or scale the data as shown in:\n",
      "    https://scikit-learn.org/stable/modules/preprocessing.html\n",
      "Please also refer to the documentation for alternative solver options:\n",
      "    https://scikit-learn.org/stable/modules/linear_model.html#logistic-regression\n",
      "  n_iter_i = _check_optimize_result(\n"
     ]
    },
    {
     "data": {
      "text/html": [
       "<style>#sk-container-id-3 {color: black;background-color: white;}#sk-container-id-3 pre{padding: 0;}#sk-container-id-3 div.sk-toggleable {background-color: white;}#sk-container-id-3 label.sk-toggleable__label {cursor: pointer;display: block;width: 100%;margin-bottom: 0;padding: 0.3em;box-sizing: border-box;text-align: center;}#sk-container-id-3 label.sk-toggleable__label-arrow:before {content: \"▸\";float: left;margin-right: 0.25em;color: #696969;}#sk-container-id-3 label.sk-toggleable__label-arrow:hover:before {color: black;}#sk-container-id-3 div.sk-estimator:hover label.sk-toggleable__label-arrow:before {color: black;}#sk-container-id-3 div.sk-toggleable__content {max-height: 0;max-width: 0;overflow: hidden;text-align: left;background-color: #f0f8ff;}#sk-container-id-3 div.sk-toggleable__content pre {margin: 0.2em;color: black;border-radius: 0.25em;background-color: #f0f8ff;}#sk-container-id-3 input.sk-toggleable__control:checked~div.sk-toggleable__content {max-height: 200px;max-width: 100%;overflow: auto;}#sk-container-id-3 input.sk-toggleable__control:checked~label.sk-toggleable__label-arrow:before {content: \"▾\";}#sk-container-id-3 div.sk-estimator input.sk-toggleable__control:checked~label.sk-toggleable__label {background-color: #d4ebff;}#sk-container-id-3 div.sk-label input.sk-toggleable__control:checked~label.sk-toggleable__label {background-color: #d4ebff;}#sk-container-id-3 input.sk-hidden--visually {border: 0;clip: rect(1px 1px 1px 1px);clip: rect(1px, 1px, 1px, 1px);height: 1px;margin: -1px;overflow: hidden;padding: 0;position: absolute;width: 1px;}#sk-container-id-3 div.sk-estimator {font-family: monospace;background-color: #f0f8ff;border: 1px dotted black;border-radius: 0.25em;box-sizing: border-box;margin-bottom: 0.5em;}#sk-container-id-3 div.sk-estimator:hover {background-color: #d4ebff;}#sk-container-id-3 div.sk-parallel-item::after {content: \"\";width: 100%;border-bottom: 1px solid gray;flex-grow: 1;}#sk-container-id-3 div.sk-label:hover label.sk-toggleable__label {background-color: #d4ebff;}#sk-container-id-3 div.sk-serial::before {content: \"\";position: absolute;border-left: 1px solid gray;box-sizing: border-box;top: 0;bottom: 0;left: 50%;z-index: 0;}#sk-container-id-3 div.sk-serial {display: flex;flex-direction: column;align-items: center;background-color: white;padding-right: 0.2em;padding-left: 0.2em;position: relative;}#sk-container-id-3 div.sk-item {position: relative;z-index: 1;}#sk-container-id-3 div.sk-parallel {display: flex;align-items: stretch;justify-content: center;background-color: white;position: relative;}#sk-container-id-3 div.sk-item::before, #sk-container-id-3 div.sk-parallel-item::before {content: \"\";position: absolute;border-left: 1px solid gray;box-sizing: border-box;top: 0;bottom: 0;left: 50%;z-index: -1;}#sk-container-id-3 div.sk-parallel-item {display: flex;flex-direction: column;z-index: 1;position: relative;background-color: white;}#sk-container-id-3 div.sk-parallel-item:first-child::after {align-self: flex-end;width: 50%;}#sk-container-id-3 div.sk-parallel-item:last-child::after {align-self: flex-start;width: 50%;}#sk-container-id-3 div.sk-parallel-item:only-child::after {width: 0;}#sk-container-id-3 div.sk-dashed-wrapped {border: 1px dashed gray;margin: 0 0.4em 0.5em 0.4em;box-sizing: border-box;padding-bottom: 0.4em;background-color: white;}#sk-container-id-3 div.sk-label label {font-family: monospace;font-weight: bold;display: inline-block;line-height: 1.2em;}#sk-container-id-3 div.sk-label-container {text-align: center;}#sk-container-id-3 div.sk-container {/* jupyter's `normalize.less` sets `[hidden] { display: none; }` but bootstrap.min.css set `[hidden] { display: none !important; }` so we also need the `!important` here to be able to override the default hidden behavior on the sphinx rendered scikit-learn.org. See: https://github.com/scikit-learn/scikit-learn/issues/21755 */display: inline-block !important;position: relative;}#sk-container-id-3 div.sk-text-repr-fallback {display: none;}</style><div id=\"sk-container-id-3\" class=\"sk-top-container\"><div class=\"sk-text-repr-fallback\"><pre>LogisticRegression()</pre><b>In a Jupyter environment, please rerun this cell to show the HTML representation or trust the notebook. <br />On GitHub, the HTML representation is unable to render, please try loading this page with nbviewer.org.</b></div><div class=\"sk-container\" hidden><div class=\"sk-item\"><div class=\"sk-estimator sk-toggleable\"><input class=\"sk-toggleable__control sk-hidden--visually\" id=\"sk-estimator-id-3\" type=\"checkbox\" checked><label for=\"sk-estimator-id-3\" class=\"sk-toggleable__label sk-toggleable__label-arrow\">LogisticRegression</label><div class=\"sk-toggleable__content\"><pre>LogisticRegression()</pre></div></div></div></div></div>"
      ],
      "text/plain": [
       "LogisticRegression()"
      ]
     },
     "execution_count": 34,
     "metadata": {},
     "output_type": "execute_result"
    }
   ],
   "source": [
    "model2.fit(x_train, y_train)"
   ]
  },
  {
   "cell_type": "code",
   "execution_count": 35,
   "id": "c7fccb5b",
   "metadata": {},
   "outputs": [
    {
     "name": "stdout",
     "output_type": "stream",
     "text": [
      "              precision    recall  f1-score   support\n",
      "\n",
      "           0       0.80      0.77      0.78    239361\n",
      "           1       0.78      0.81      0.79    240639\n",
      "\n",
      "    accuracy                           0.79    480000\n",
      "   macro avg       0.79      0.79      0.79    480000\n",
      "weighted avg       0.79      0.79      0.79    480000\n",
      "\n"
     ]
    }
   ],
   "source": [
    "y_pred2 = model2.predict(x_test)\n",
    "print(classification_report(y_test, y_pred2))"
   ]
  },
  {
   "cell_type": "markdown",
   "id": "634ec2e0",
   "metadata": {},
   "source": [
    "##### 3. Decision Tree Classifier"
   ]
  },
  {
   "cell_type": "code",
   "execution_count": 86,
   "id": "7b220467",
   "metadata": {},
   "outputs": [],
   "source": [
    "from sklearn.tree import DecisionTreeClassifier"
   ]
  },
  {
   "cell_type": "code",
   "execution_count": null,
   "id": "77d82a70",
   "metadata": {},
   "outputs": [],
   "source": [
    "model3 = DecisionTreeClassifier()\n",
    "model3.fit(x_train, y_train)"
   ]
  },
  {
   "cell_type": "code",
   "execution_count": null,
   "id": "3202d373",
   "metadata": {},
   "outputs": [],
   "source": []
  },
  {
   "cell_type": "code",
   "execution_count": null,
   "id": "0ab82864",
   "metadata": {},
   "outputs": [],
   "source": []
  },
  {
   "cell_type": "markdown",
   "id": "2aab21ea",
   "metadata": {},
   "source": [
    "# Saving the models"
   ]
  },
  {
   "cell_type": "code",
   "execution_count": 36,
   "id": "308df2f3",
   "metadata": {},
   "outputs": [],
   "source": [
    "pickle.dump(model2, open(\"SA LR-Model.pkl\", \"wb\"))\n",
    "pickle.dump(tfidf_vect, open(\"Vectoriser.pkl\", \"wb\"))"
   ]
  },
  {
   "cell_type": "markdown",
   "id": "3064f94a",
   "metadata": {},
   "source": [
    "# Making Predictions"
   ]
  },
  {
   "cell_type": "markdown",
   "id": "c848a79b",
   "metadata": {},
   "source": [
    "##### Loading the saved model"
   ]
  },
  {
   "cell_type": "code",
   "execution_count": 37,
   "id": "db8eef6b",
   "metadata": {},
   "outputs": [],
   "source": [
    "saved_model = pickle.load(open('SA LR-Model.pkl', 'rb'))\n",
    "vectoriser = pickle.load(open(\"Vectoriser.pkl\", 'rb'))"
   ]
  },
  {
   "cell_type": "code",
   "execution_count": 81,
   "id": "e6fe6a79",
   "metadata": {},
   "outputs": [],
   "source": [
    "text = [\"What a mad day i've had\", \n",
    "       'Dont be sarcastic, look at the brighter side',\n",
    "       'Love is a waste of time', \n",
    "       'My heart goes out to him',\n",
    "       'He has a heart condition']\n",
    "text = processText(text)"
   ]
  },
  {
   "cell_type": "code",
   "execution_count": 82,
   "id": "4c3898a4",
   "metadata": {},
   "outputs": [
    {
     "data": {
      "text/plain": [
       "['what mad day ve had ',\n",
       " 'dont be sarcastic look at the brighter side ',\n",
       " 'love is waste of time ',\n",
       " 'my heart go out to him ',\n",
       " 'he ha heart condition ']"
      ]
     },
     "execution_count": 82,
     "metadata": {},
     "output_type": "execute_result"
    }
   ],
   "source": [
    "text"
   ]
  },
  {
   "cell_type": "code",
   "execution_count": 83,
   "id": "67d9dbee",
   "metadata": {},
   "outputs": [],
   "source": [
    "text = vectoriser.transform(text)"
   ]
  },
  {
   "cell_type": "code",
   "execution_count": 84,
   "id": "3c7343c1",
   "metadata": {},
   "outputs": [
    {
     "name": "stdout",
     "output_type": "stream",
     "text": [
      "  (0, 45155)\t0.3773053958282941\n",
      "  (0, 25165)\t0.5175728346582511\n",
      "  (0, 8585)\t0.7159698786156881\n",
      "  (0, 8194)\t0.2777519253177441\n",
      "  (1, 34373)\t0.6376668300963124\n",
      "  (1, 24223)\t0.31689725945479325\n",
      "  (1, 10036)\t0.3331208601368091\n",
      "  (1, 4879)\t0.6180514810973876\n",
      "  (2, 46849)\t0.682974292692979\n",
      "  (2, 46846)\t0.597200309665358\n",
      "  (2, 40118)\t0.2981701976068099\n",
      "  (2, 24544)\t0.29663519500430424\n",
      "  (3, 17634)\t1.0\n",
      "  (4, 17634)\t0.3894208384683936\n",
      "  (4, 16360)\t0.6786616913554833\n",
      "  (4, 16279)\t0.27612141430392084\n",
      "  (4, 7032)\t0.5581457549922696\n"
     ]
    }
   ],
   "source": [
    "print(text)"
   ]
  },
  {
   "cell_type": "code",
   "execution_count": 85,
   "id": "964f06fb",
   "metadata": {},
   "outputs": [
    {
     "name": "stdout",
     "output_type": "stream",
     "text": [
      "['Negative', 'Positive', 'Positive', 'Positive', 'Negative']\n"
     ]
    }
   ],
   "source": [
    "predictions = saved_model.predict(text)\n",
    "# print(len(predictions))\n",
    "# print(predictions[0])\n",
    "# print(type(predictions))\n",
    "predictions = list(predictions)\n",
    "for i in range(len(predictions)):\n",
    "    if predictions[i] == 1:\n",
    "        predictions[i] = 'Positive'\n",
    "    else:\n",
    "        predictions[i] = 'Negative'\n",
    "print(predictions)"
   ]
  },
  {
   "cell_type": "code",
   "execution_count": null,
   "id": "f39df36f",
   "metadata": {},
   "outputs": [],
   "source": []
  }
 ],
 "metadata": {
  "kernelspec": {
   "display_name": "Python 3 (ipykernel)",
   "language": "python",
   "name": "python3"
  },
  "language_info": {
   "codemirror_mode": {
    "name": "ipython",
    "version": 3
   },
   "file_extension": ".py",
   "mimetype": "text/x-python",
   "name": "python",
   "nbconvert_exporter": "python",
   "pygments_lexer": "ipython3",
   "version": "3.10.9"
  }
 },
 "nbformat": 4,
 "nbformat_minor": 5
}
