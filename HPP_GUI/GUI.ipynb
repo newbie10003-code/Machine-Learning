{
 "cells": [
  {
   "cell_type": "code",
   "execution_count": null,
   "id": "a3df4815",
   "metadata": {},
   "outputs": [],
   "source": [
    "import streamlit as st\n",
    "import joblib\n",
    "import numpy as np\n",
    "import pickle\n"
   ]
  },
  {
   "cell_type": "code",
   "execution_count": 2,
   "id": "e592427f",
   "metadata": {},
   "outputs": [],
   "source": [
    "model = pickle.load(open('decisionTModel.pkl' , 'rb'))"
   ]
  },
  {
   "cell_type": "code",
   "execution_count": 3,
   "id": "fbc01145",
   "metadata": {},
   "outputs": [],
   "source": [
    "availability = pickle.load(open('AvailabilityEncode.pkl' , 'rb'))\n",
    "location = pickle.load(open('LocationEncode.pkl', 'rb'))\n",
    "size = pickle.load(open('SizeEncode.pkl','rb'))\n",
    "society = pickle.load(open('SocietyEncode.pkl','rb'))"
   ]
  },
  {
   "cell_type": "code",
   "execution_count": 4,
   "id": "8320944e",
   "metadata": {},
   "outputs": [],
   "source": [
    "def areaConvert(a):\n",
    "    if a == 'Plot  Area':\n",
    "        return 1\n",
    "    elif a == 'Carpet  Area':\n",
    "        return 2\n",
    "    elif a == 'Built-up  Area':\n",
    "        return 3\n",
    "    elif a == 'Super built-up  Area':\n",
    "        return 4\n",
    "\n",
    "def sqft(s):\n",
    "    if(type(s)==int):\n",
    "        return s\n",
    "    elif (s.isdigit()):\n",
    "        return int(s)\n",
    "    else:\n",
    "        return 0\n",
    "\n",
    "def bath(b):\n",
    "    return int(b)\n",
    "\n",
    "def bal(b):\n",
    "    return int(b)"
   ]
  },
  {
   "cell_type": "code",
   "execution_count": 5,
   "id": "79c74436",
   "metadata": {},
   "outputs": [
    {
     "name": "stderr",
     "output_type": "stream",
     "text": [
      "2023-07-11 22:14:39.515 \n",
      "  \u001b[33m\u001b[1mWarning:\u001b[0m to view this Streamlit app on a browser, run it with the following\n",
      "  command:\n",
      "\n",
      "    streamlit run C:\\Users\\Manan\\anaconda3\\lib\\site-packages\\ipykernel_launcher.py [ARGUMENTS]\n"
     ]
    },
    {
     "data": {
      "text/plain": [
       "DeltaGenerator()"
      ]
     },
     "execution_count": 5,
     "metadata": {},
     "output_type": "execute_result"
    }
   ],
   "source": [
    "st.header('Bangalore House Price Predictions')"
   ]
  },
  {
   "cell_type": "code",
   "execution_count": 6,
   "id": "73224418",
   "metadata": {},
   "outputs": [],
   "source": [
    "area = st.selectbox(\"Area Type: \", options=['Super built-up  Area', 'Built-up  Area', 'Plot  Area', 'Carpet  Area'])"
   ]
  },
  {
   "cell_type": "code",
   "execution_count": 7,
   "id": "d3566f4f",
   "metadata": {},
   "outputs": [],
   "source": [
    "loc = st.selectbox(\"Location: \", options = ['Electronic City Phase II', 'Chikka Tirupathi',\n",
    "       'Lingadheeranahalli', 'Whitefield', '7th Phase JP Nagar',\n",
    "       'Sarjapur', 'Mysore Road', 'Bisuvanahalli',\n",
    "       'Raja Rajeshwari Nagar', 'Ramakrishnappa Layout', 'Binny Pete',\n",
    "       'Thanisandra', ' Thanisandra', 'Electronic City',\n",
    "       'Ramagondanahalli', 'Yelahanka', 'Hebbal', 'Kanakpura Road',\n",
    "       'Kundalahalli', 'Sarjapur  Road', 'Ganga Nagar', 'Doddathoguru',\n",
    "       'Adarsh Nagar', 'Bhoganhalli', 'Lakshminarayana Pura',\n",
    "       'Begur Road', 'Varthur', 'Gunjur', 'Hegde Nagar', 'Haralur Road',\n",
    "       'Hennur Road', 'Cholanayakanahalli', 'Kodanda Reddy Layout',\n",
    "       'EPIP Zone', 'Dasanapura', 'Kasavanhalli', 'Sanjay nagar',\n",
    "       'Kengeri', 'Yeshwanthpur', 'Chandapura', 'Kothanur',\n",
    "       'Green View Layout', 'Shantiniketan Layout', 'Rajaji Nagar',\n",
    "       'Devanahalli', 'Byatarayanapura', 'Akshaya Nagar',\n",
    "       'LB Shastri Nagar', 'Hormavu', 'Peenya', 'Kudlu Gate',\n",
    "       '8th Phase JP Nagar', 'Chandra Layout', 'Anandapura',\n",
    "       'Kengeri Satellite Town', 'Basavanapura', 'Kannamangala',\n",
    "       'Hulimavu', 'Hosa Road', 'Keshava Nagar', 'RMV Extension',\n",
    "       'Tejaswini Nagar', 'Jai Bheema Nagar', 'Attibele','CV Raman Nagar', 'Malleshwaram', 'Hebbal Kempapura',\n",
    "       'Vijayanagar', 'KR Puram', 'Marathahalli', 'Pattandur Agrahara',\n",
    "       'HSR Layout', 'Kadugodi', 'Kogilu', 'Panathur', 'Kammasandra',\n",
    "       'Electronics City Phase 1', 'Tala Cauvery Layout', 'Dasarahalli',\n",
    "       'Koramangala', 'Muthurayya Swamy Layout', 'Budigere',\n",
    "       'Dodda Nekkundi Extension', 'Mylasandra', 'Kalyan nagar',\n",
    "       'Ashwath Nagar', 'Ncpr Industrial Layout', 'Meenakunte',\n",
    "       'OMBR Layout', 'Coffee Board Layout', 'Ambedkar Nagar',\n",
    "       'Geleyara Balaga Layout', 'Kalena Agrahara', 'Talaghattapura',\n",
    "       'Balagere', 'Jigani', 'Gollarapalya Hosahalli', 'Old Madras Road',\n",
    "       'Silver Springs Layout', '9th Phase JP Nagar', 'Jakkur',\n",
    "       'Maruthi Sevanagar', 'RMV 2nd Stage', 'Singasandra', 'AECS Layout',\n",
    "       'Mallasandra', 'Begur', 'JP Nagar', 'Sunder Ram Shetty Nagar',\n",
    "       'Motappa Layout', 'Kaval Byrasandra', 'Kaggalipura',\n",
    "       'Basavanna Nagar', '6th Phase JP Nagar', 'Ulsoor', 'Uttarahalli',\n",
    "       'Thigalarapalya', ' Devarachikkanahalli', 'Bommasandra',\n",
    "       'Prashanth Nagar', 'Suragajakkanahalli', 'Ardendale', 'Harlur',\n",
    "       'Sampigehalli', 'Kodihalli', 'Magadi Road', 'Narayanapura',\n",
    "       'Hennur', '5th Phase JP Nagar', 'Kodigehaali', 'Bannerghatta Road','Gopalapura', 'Billekahalli', 'Jalahalli', 'Sompura',\n",
    "       'Ashirvad Colony', 'Dodda Nekkundi', 'Hosur Road', 'Amco Colony',\n",
    "       'Ambalipura', 'Hoodi', 'Samethanahalli', 'Brookefield',\n",
    "       'Suddaguntepalya', 'Udayapur Village', 'Bellandur', 'Vittasandra',\n",
    "       'Giri Nagar', 'Chikkabidarakallu', '1 Giri Nagar', 'Hoysalanagar',\n",
    "       'Defence Colony', 'Amruthahalli', 'Patelappa Layout',\n",
    "       'Subramanyapura', '3rd Block Hrbr Layout', 'Surabhi Layout',\n",
    "       'Omkar Nagar', 'Kambipura', 'VHBCS Layout', 'Rajiv Nagar',\n",
    "       'Gattahalli', 'Arekere', 'Mico Layout', 'Munnekollal',\n",
    "       'Banashankari Stage III', 'Dooravani Nagar', 'JCR Layout',\n",
    "       'Nehru Nagar', 'Sneha Colony', 'Konanakunte', 'Ashwini layout',\n",
    "       'Gottigere', 'HRBR Layout', 'Kanakapura', 'Tumkur Road',\n",
    "       'Hosahalli', 'Jalahalli West', 'GM Palaya', 'Jalahalli East',\n",
    "       'Hosakerehalli', 'Nagondanahalli', 'Shanthala Nagar',\n",
    "       'Bettahalsoor', 'Ambedkar Colony', 'Avalahalli', 'Prakruthi Nagar',\n",
    "       'Abbigere', 'Tindlu', 'Green Garden Layout', 'Gubbalala',\n",
    "       'Dairy Circle', 'Narayana Nagar 1st Block', 'KSRTC Layout',\n",
    "       'New Gurappana Palya', 'Palanahalli', 'Vadarpalya', 'Kudlu',\n",
    "       'Old Airport Road', 'Vishwapriya Layout', 'Banashankari Stage VI','Battarahalli', 'HMT Layout', 'Kaggadasapura', 'ITI Layout',\n",
    "       'Yelahanka New Town', 'Sahakara Nagar', 'Rachenahalli',\n",
    "       'Kodbisanhalli', 'Kodichikkanahalli', 'Bendiganahalli',\n",
    "       'Ferrar Nagar', 'Green Glen Layout', 'M.G Road',\n",
    "       'Horamavu Banaswadi', '1st Phase JP Nagar', 'Kaverappa Layout',\n",
    "       'Devarabisanahalli', 'Somasundara Palya', 'Vidyaranyapura',\n",
    "       'Babusapalaya', 'Nagappa Reddy Layout', 'TC Palaya',\n",
    "       'Suraksha Nagar', 'Iblur Village', 'Yelachenahalli',\n",
    "       'Basava Nagar', '2nd Block Hrbr Layout', 'Basapura',\n",
    "       'Channasandra', 'Singena Agrahara', 'Mango Garden Layout',\n",
    "       'Choodasandra', 'Indira Nagar', 'Sai Gardens', 'Mahadevpura',\n",
    "       'Hanumanth Nagar', 'Basaveshwara Nagar', 'Kaikondrahalli',\n",
    "       'Hunasamaranahalli', 'RWF West Colony', 'Bileshivale',\n",
    "       'Neeladri Nagar', 'Frazer Town', 'Jaya Nagar East', 'Iggalur',\n",
    "       'Banashankari', 'Chamrajpet', 'VGP Layout', 'Vasanth nagar',\n",
    "       'Kalkere', 'Siddapura', 'Maragondanahalli', 'Ramamurthy Nagar',\n",
    "       'Garudachar Palya', 'Roopena Agrahara', 'Gollahalli',\n",
    "       'Sonnenahalli', 'D Souza Layout', 'Nagarbhavi', 'Bommanahalli',\n",
    "       'Chikkalasandra', 'Dommasandra', 'Byadarahalli', 'Judicial Layout',\n",
    "       'Outer Ring Road East', 'Vinayaka Nagar', 'GB Palya','Ashwathnagar', 'Kasturi Nagar', 'Belathur', 'Srirampura',\n",
    "       'Devanahalli Road', 'Ejipura', 'Green Woods Layout',\n",
    "       'Craig Park Layout', 'Immadihalli', 'Muneshwara Nagar',\n",
    "       'Rayasandra', 'Malleshpalya', 'Parappana Agrahara',\n",
    "       'Lakshmi Layout', 'Thirumenahalli', 'KPC Layout',\n",
    "       'Daadys Gaarden Layout', 'Kothannur', 'Marsur', 'Karuna Nagar',\n",
    "       'Kallumantapa', 'Malimakanapura', 'Medahalli',\n",
    "       'Rustam Bagh Layout', 'Garden Layout', 'T K Reddy Layout',\n",
    "       'Doddanekundi', 'Venkatadri Layout', 'Bommenahalli',\n",
    "       'Mahaganapathy Nagar', 'HBR Layout', 'Vittal Nagar',\n",
    "       'Bhuvaneshwari Nagar', 'Prithvi Layout', 'Domlur', 'Thubarahalli',\n",
    "       'Jaya Mahal layout', 'BSM Extension', 'Vijinapura', 'Byrasandra',\n",
    "       'Chowdeshwari Layout', 'Sector 2 HSR Layout', 'Padmanabhanagar',\n",
    "       'Badavala Nagar', '4th Block Koramangala', 'Belatur',\n",
    "       'Nallurhalli', 'Kereguddadahalli', 'Laxmi Sagar Layout',\n",
    "       'Bannerghatta', 'Harappanahalli', 'BTM Layout', 'Kanaka Nagar',\n",
    "       'NR Colony', 'Byagadadhenahalli', 'Doddabommasandra',\n",
    "       'Sarjapura - Attibele Road', 'Maruthi Layout',\n",
    "       'Sree Narayana Nagar', 'Tunganagara', 'Nagavara','Remco Bhel Layout', 'Chokkasandra', 'Panduranga Nagar',\n",
    "       'Jakkur Plantation', '1st Block Koramangala',\n",
    "       'Shree Ananth Nagar Layout', 'Hoskote', 'Sector 1 HSR Layout',\n",
    "       'BTM 2nd Stage', 'Ananth Nagar', 'Sundar Ram Shetty Nagar',\n",
    "       'Alfa Garden Layout', 'Hoodi Layout', 'Seegehalli',\n",
    "       'Gaundanapalya', '2nd Phase JP Nagar', 'Doctors Layout',\n",
    "       'Basavangudi', 'Vishwapriya Nagar', 'Sarakki Nagar', 'R.T. Nagar',\n",
    "       'Sector 7 HSR Layout', 'Hennur Gardens',\n",
    "       'Howthinarayanappa Garden', 'Bharathi Nagar', 'Cambridge Layout',\n",
    "       'Doddakannelli', 'Cox Town', 'Pulkeshi Nagar', 'Jayanagar',\n",
    "       ' Bhoganhalli', 'Pai Layout', '8th block Koramangala', 'Bidadi',\n",
    "       'Amruthnagar', 'Sathya Sai Layout', 'Rajiv Gandhi Nagar', 'Anekal',\n",
    "       'Bhagyalakshmi Avenue', 'Doddaballapur', 'Horamavu Agara',\n",
    "       'Chinnapanahalli', 'Balaji Gardens Layout', ' Rachenahalli',\n",
    "       'Akshaya Vana', 'Channasandra Layout', 'Gopalkrishna Nagar',\n",
    "       'Volagerekallahalli', 'Keerthi Layout', 'Shikaripalya', 'Hagadur',\n",
    "       'Soundarya Layout', 'Cunningham Road', 'Dollars Layout',\n",
    "       'Nagavarapalya', 'Sultan Palaya', 'Gopal Reddy Layout',\n",
    "       'Thurahalli', 'Murugeshpalya', 'Kadubeesanahalli',\n",
    "       'Cleveland Town', 'Kada Agrahara', 'Bellari Road',\n",
    "       'Abbaiah Reddy Layout', 'Tata Nagar', ' Devarabeesana Halli',\n",
    "       'Brindavan Nagar', 'Seetharampalya', 'B Narayanapura',\n",
    "       'Raghuvanahalli', 'Wilson Garden', 'Challaghatta', 'KR Garden',\n",
    "       'Kathriguppe', 'Sahyadri Layout', 'Bagalur', 'P Krishnappa Layout',\n",
    "       'Crimson Layout', 'Kyalasanahalli', 'Ckikkakammana Halli',\n",
    "       'Munivenkatppa Layout', 'Vijaya Bank Layout', 'Kumarapalli',\n",
    "       'Lingarajapuram', 'Vasantha Vallabha Nagar', 'Kalhalli',\n",
    "       'Kumaraswami Layout', 'Hadosiddapura', 'Kachanayakanahalli',\n",
    "       'Yelenahalli', '6th block Koramangala', 'Vignana Nagar',\n",
    "       'Canara Bank Colony', 'Hanumagiri', 'Benson Town',\n",
    "       'Akshayanagara West', 'OLd Gurappanapalya', 'Ramanjaneyanagar',\n",
    "       'B Channasandra', 'New Thippasandra', 'Gattigere', 'Kamakshipalya',\n",
    "       'Dollars Colony', 'Pragathi Nagar', 'HAL 2nd Stage',\n",
    "       'Poorna Pragna Layout', 'Kenchenahalli', 'Kundalahalli Colony',\n",
    "       'Amblipura', 'Vimanapura', 'Dodsworth Layout', 'Devasthanagalu',\n",
    "       'Venugopal Reddy Layout', 'Lake City', 'S R Layout',\n",
    "       'Sadduguntepalya', 'Mallathahalli', 'Doddakammanahalli',\n",
    "       'Chikkathoguru', 'Richards Town', 'BCC Layout', 'Vinayak Nagar',\n",
    "       'Jaladarsini Layout', 'Brooke Bond First Cross',\n",
    "       'Glass Factory Layout', 'Raghavendra Nagar', 'Bhuvaneswari Nagar',\n",
    "       ' Electronic City', 'Mathikere', 'Kempegowda Nagar',\n",
    "       'Nyanappana Halli', 'Nelamangala', ' Whitefield',\n",
    "       'Vaishnavi Layout', 'Naganathapura', 'Venkatapura',\n",
    "       '3rd Phase JP Nagar', 'Devarachikkanahalli', 'Anjanapura',\n",
    "       'Reliaable Tranquil Layout', 'Mailasandra', 'Chelekare',\n",
    "       'Doopanahalli', 'Kattigenahalli', 'Varthur Road', 'Bethel Nagar',\n",
    "       'Dollar Scheme Colony', 'Omarbagh Layout',\n",
    "       'Aishwarya Crystal Layout', '2nd Block Jayanagar',\n",
    "       'Nayandanahalli', 'DUO Layout', 'ISRO Layout', 'Hennur Bande',\n",
    "       'Shampura', 'Langford Gardens', 'Richmond Town',\n",
    "       'Vishwanatha Nagenahalli', 'Friends Colony', 'Shettigere',\n",
    "       'Rahat Bagh', 'NTI Layout', 'Gunjur Palya', 'Maithri Layout',\n",
    "       'Nobo Nagar', 'Krishna Reddy Layout', 'Kuvempu Layout',\n",
    "       'Kaveri Nagar', 'Devi Nagar', 'Chikkabanavar',\n",
    "       'Bommasandra Industrial Area', 'Stage-4 Bommanahalli',\n",
    "       'Banashankari Stage V', 'Manorayana Palya', 'Sathya Layout',\n",
    "       'Shanti Nagar', 'Jayamahal', 'Veer Sandra', 'Chennappa Layout',\n",
    "       'Jeevan bima nagar', 'Lavakusha Nagar', 'Vittal Mallya Road',\n",
    "       'Dena Bank Colony', 'Doddabidrakallu', 'NGR Layout',\n",
    "       'Jnana Ganga Nagar', 'Ittamadu', 'Chokkanahalli', 'Vikram Nagar',\n",
    "       'Sarvabhouma Nagar', 'Coconut Grove Layout', 'Kadabagere',\n",
    "       'Anand Nagar', 'Kammanahalli', 'Janatha Colony',\n",
    "       '1st Block Jayanagar', 'Veersandra', 'Kumbena Agrahara',\n",
    "       'Hiremath Layout', 'Nagadevanahalli', 'Yemlur',\n",
    "       'Ramamurthy Nagar Extension', 'Himagiri Meadows',\n",
    "       'Narayanappa Garden', 'Kempapura', 'Carmelaram', 'Ankappa Layout',\n",
    "       'Jakkuru Layout', 'Maruthi Nagar', 'Punappa Layout',\n",
    "       'Pampa Extension', 'Banaswadi', 'Sanne Amanikere',\n",
    "       '2nd Stage Arekere Mico Layout', 'BCMC Layout', 'Uday Nagar',\n",
    "       'Chaitanya Ananya', 'Kacharakanahalli', 'Tigalarpalya',\n",
    "       ' Banaswadi', 'Sugama Layout', 'Hongasandra', 'Anugrah Layout',\n",
    "       'Bandepalya', 'AMS Layout', 'RPC layout', 'Gulimangala',\n",
    "       'Addischetan Layout', 'Sadaramangala', 'Konena Agrahara',\n",
    "       'Raghavendra Layout', 'Varsova Layout',\n",
    "       'Raja Rajeshwari Nagar 5th Stage', '7th Block Jayanagar',\n",
    "       'Bande Nallasandra', 'Upkar Layout', 'Singapura Village',\n",
    "       'Canara Bank Layout', 'Queens Road', 'Hosapalya', 'Jagadish Nagar',\n",
    "       'Rajasree Layout', 'Chikkadunnasandra', 'Thirumalashettyhally',\n",
    "       'Vibuthipura', 'Kodigehalli', 'P&T Layout', 'Varanasi',\n",
    "       'Virudhu Nagar', 'Ramanashree Enclave', 'Chikku Lakshmaiah Layout',\n",
    "       'Shivaji Nagar', 'Chikkagubbi', 'Kammagondahalli',\n",
    "       'Yeshwanthpur Industrial Suburb', 'Thirupalya', 'Tirumanahalli',\n",
    "       'ITPL', 'NRI Layout', 'Adugodi', 'Sidedahalli', 'Shanthi Pura',\n",
    "       'Anwar Layout', 'Doddanakundi Industrial Area 2', 'RBI Layout',\n",
    "       'Shauhardha Layout', 'Bhoopsandra', '3rd Block Koramangala',\n",
    "       'Kuvempu Nagar', 'Sri Balaji Krupa Layout', \"St. John's Road\",\n",
    "       'Govindapura', 'Ayappa Nagar', 'Hessarghatta', 'Anantapuram',\n",
    "       'Chikka Banaswadi', 'Akshayanagara East', 'Guddadahalli',\n",
    "       'Kashi Nagar', 'Nanjappa Garden', 'Allalasandra',\n",
    "       'Maheswari Nagar', 'Udayagiri', 'Mahalakshmi Layout',\n",
    "       'Rahmath Nagar', 'Halanayakanahalli', 'Air View Colony',\n",
    "       'Amam Enclave Layout', 'Anantapura', 'Mallappa Layout',\n",
    "       'Devarabeesana Halli', 'Chikbasavanapura', 'Billamaranahalli',\n",
    "       'Jogupalya', 'Gulakamale', 'Mahalakshmi Puram', 'Jakkasandra',\n",
    "       'Cooke Town', 'Virupakshapura', 'Kenchenhalli', 'Church Street',\n",
    "       'Sarvobhogam Nagar', 'Near International Airport', 'Palace Road',\n",
    "       'Abshot Layout'])"
   ]
  },
  {
   "cell_type": "code",
   "execution_count": 8,
   "id": "49304301",
   "metadata": {},
   "outputs": [],
   "source": [
    "sizebhk = st.selectbox(\"Size: \", options=['2 BHK', '4 Bedroom', '3 BHK', '3 Bedroom', '1 RK', '4 BHK',\n",
    "       '1 BHK', '5 BHK', '11 BHK', '5 Bedroom', '9 BHK', '2 Bedroom',\n",
    "       '6 BHK', '7 BHK', '6 Bedroom'])"
   ]
  },
  {
   "cell_type": "code",
   "execution_count": 9,
   "id": "f4084311",
   "metadata": {},
   "outputs": [],
   "source": [
    "soc = st.selectbox(\"Society: \",options = ['Coomee ', 'Theanmp', 'Soiewre', ..., 'SJovest', 'ThhtsV ',\n",
    "       'RSntsAp'])"
   ]
  },
  {
   "cell_type": "code",
   "execution_count": 10,
   "id": "47f150d1",
   "metadata": {},
   "outputs": [],
   "source": [
    "avail = st.selectbox(\"Availability: \", options = ['19-Dec', 'Ready To Move', '18-Nov', '17-Oct', '21-Dec', '19-Sep',\n",
    "       '20-Sep', '18-Mar', '18-Apr', '20-Aug', '19-Mar', '17-Sep',\n",
    "       '17-Aug', '19-Apr', '22-Dec', '18-Aug', '19-Jan', '17-Jul',\n",
    "       '18-Jul', '18-May', '18-Dec', '21-Jun', '18-Sep', '17-May',\n",
    "       '17-Jun', '18-Oct', '21-May', '20-Dec', '18-Jun', '16-Mar',\n",
    "       '22-Jun', '17-Dec', '21-Feb', '19-May', '17-Nov', '20-Oct',\n",
    "       '20-Jun', '18-Feb', '19-Feb', '21-Oct', '21-Jan', '17-Mar',\n",
    "       '19-Jun', '17-Apr', '22-May', '19-Oct', '21-Jul', '21-Nov',\n",
    "       '21-Mar', '19-Jul', '20-Jan', '21-Sep', '18-Jan', '20-Mar',\n",
    "       '19-Nov', '15-Jun', '19-Aug', '20-May', '20-Nov', '20-Jul',\n",
    "       '20-Feb', '15-Dec', '21-Aug', '16-Oct', '22-Nov', '16-Dec',\n",
    "       '15-Aug', '17-Jan', '16-Nov', '20-Apr', '22-Jan', '16-Jan',\n",
    "       '17-Feb', '14-Jul'])"
   ]
  },
  {
   "cell_type": "code",
   "execution_count": 11,
   "id": "81082828",
   "metadata": {},
   "outputs": [],
   "source": [
    "bathroom = st.select_slider(\"Number of Bathrooms: \",options=[2., 5., 3., 4., 1., 6., 9., 7.])"
   ]
  },
  {
   "cell_type": "code",
   "execution_count": 12,
   "id": "2727b3bb",
   "metadata": {},
   "outputs": [],
   "source": [
    "balcony = st.select_slider(\"Number of balconies: \",options = [1., 3., 2., 0.])"
   ]
  },
  {
   "cell_type": "code",
   "execution_count": 13,
   "id": "e135e6a3",
   "metadata": {},
   "outputs": [
    {
     "name": "stderr",
     "output_type": "stream",
     "text": [
      "2023-07-11 22:14:39.691 Session state does not function when running a script without `streamlit run`\n"
     ]
    }
   ],
   "source": [
    "total_sqft = st.slider(\"sqft\",  0 ,4689)"
   ]
  },
  {
   "cell_type": "code",
   "execution_count": 14,
   "id": "3eaf6a07",
   "metadata": {},
   "outputs": [
    {
     "name": "stdout",
     "output_type": "stream",
     "text": [
      "19-Dec\n"
     ]
    },
    {
     "ename": "TypeError",
     "evalue": "'LabelEncoder' object is not callable",
     "output_type": "error",
     "traceback": [
      "\u001b[1;31m---------------------------------------------------------------------------\u001b[0m",
      "\u001b[1;31mTypeError\u001b[0m                                 Traceback (most recent call last)",
      "Input \u001b[1;32mIn [14]\u001b[0m, in \u001b[0;36m<cell line: 5>\u001b[1;34m()\u001b[0m\n\u001b[0;32m      3\u001b[0m avail\u001b[38;5;241m=\u001b[39mavailability\u001b[38;5;241m.\u001b[39mtransform([avail])[\u001b[38;5;241m0\u001b[39m]\n\u001b[0;32m      4\u001b[0m \u001b[38;5;66;03m#loc = location([loc])[0]\u001b[39;00m\n\u001b[1;32m----> 5\u001b[0m size\u001b[38;5;241m=\u001b[39m\u001b[43msize\u001b[49m\u001b[43m(\u001b[49m\u001b[43m[\u001b[49m\u001b[43msizebhk\u001b[49m\u001b[43m]\u001b[49m\u001b[43m)\u001b[49m[\u001b[38;5;241m0\u001b[39m]\n\u001b[0;32m      6\u001b[0m soc\u001b[38;5;241m=\u001b[39msociety([soc])[\u001b[38;5;241m0\u001b[39m]\n\u001b[0;32m      7\u001b[0m sqft\u001b[38;5;241m=\u001b[39msqft(total_sqft)\n",
      "\u001b[1;31mTypeError\u001b[0m: 'LabelEncoder' object is not callable"
     ]
    }
   ],
   "source": [
    "# area = areaConvert(area)\n",
    "# print(avail)\n",
    "# avail=availability.transform([avail])[0]\n",
    "# loc = location([loc])[0]\n",
    "# size=size([sizebhk])[0]\n",
    "# soc=society([soc])[0]\n",
    "# sqft=sqft(total_sqft)\n",
    "# bath = bath(bathroom)\n",
    "# balcony = bal(balcony)"
   ]
  },
  {
   "cell_type": "code",
   "execution_count": null,
   "id": "afdfb2a2",
   "metadata": {},
   "outputs": [],
   "source": []
  }
 ],
 "metadata": {
  "kernelspec": {
   "display_name": "Python 3 (ipykernel)",
   "language": "python",
   "name": "python3"
  },
  "language_info": {
   "codemirror_mode": {
    "name": "ipython",
    "version": 3
   },
   "file_extension": ".py",
   "mimetype": "text/x-python",
   "name": "python",
   "nbconvert_exporter": "python",
   "pygments_lexer": "ipython3",
   "version": "3.11.4"
  }
 },
 "nbformat": 4,
 "nbformat_minor": 5
}
