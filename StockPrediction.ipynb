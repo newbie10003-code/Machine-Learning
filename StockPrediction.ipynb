{
 "cells": [
  {
   "cell_type": "code",
   "execution_count": 1,
   "id": "2e21dba0",
   "metadata": {},
   "outputs": [],
   "source": [
    "import numpy as np\n",
    "import pandas as pd\n",
    "import matplotlib.pyplot as plt\n",
    "import pandas_datareader as pdr\n",
    "import yfinance as yf\n",
    "from datetime import datetime"
   ]
  },
  {
   "cell_type": "code",
   "execution_count": 2,
   "id": "7728b381",
   "metadata": {},
   "outputs": [],
   "source": [
    "# start =datetime(2010,1,1)\n",
    "# end =datetime(2019,12,31)"
   ]
  },
  {
   "cell_type": "code",
   "execution_count": 3,
   "id": "2dcd142e",
   "metadata": {
    "scrolled": true
   },
   "outputs": [
    {
     "name": "stdout",
     "output_type": "stream",
     "text": [
      "[*********************100%***********************]  1 of 1 completed\n"
     ]
    }
   ],
   "source": [
    "data = yf.download(\"TSLA\")"
   ]
  },
  {
   "cell_type": "code",
   "execution_count": null,
   "id": "532f6f72",
   "metadata": {},
   "outputs": [],
   "source": []
  },
  {
   "cell_type": "code",
   "execution_count": 4,
   "id": "1d650100",
   "metadata": {},
   "outputs": [
    {
     "data": {
      "text/html": [
       "<div>\n",
       "<style scoped>\n",
       "    .dataframe tbody tr th:only-of-type {\n",
       "        vertical-align: middle;\n",
       "    }\n",
       "\n",
       "    .dataframe tbody tr th {\n",
       "        vertical-align: top;\n",
       "    }\n",
       "\n",
       "    .dataframe thead th {\n",
       "        text-align: right;\n",
       "    }\n",
       "</style>\n",
       "<table border=\"1\" class=\"dataframe\">\n",
       "  <thead>\n",
       "    <tr style=\"text-align: right;\">\n",
       "      <th></th>\n",
       "      <th>Open</th>\n",
       "      <th>High</th>\n",
       "      <th>Low</th>\n",
       "      <th>Close</th>\n",
       "      <th>Adj Close</th>\n",
       "      <th>Volume</th>\n",
       "    </tr>\n",
       "    <tr>\n",
       "      <th>Date</th>\n",
       "      <th></th>\n",
       "      <th></th>\n",
       "      <th></th>\n",
       "      <th></th>\n",
       "      <th></th>\n",
       "      <th></th>\n",
       "    </tr>\n",
       "  </thead>\n",
       "  <tbody>\n",
       "    <tr>\n",
       "      <th>2010-06-29</th>\n",
       "      <td>1.266667</td>\n",
       "      <td>1.666667</td>\n",
       "      <td>1.169333</td>\n",
       "      <td>1.592667</td>\n",
       "      <td>1.592667</td>\n",
       "      <td>281494500</td>\n",
       "    </tr>\n",
       "    <tr>\n",
       "      <th>2010-06-30</th>\n",
       "      <td>1.719333</td>\n",
       "      <td>2.028000</td>\n",
       "      <td>1.553333</td>\n",
       "      <td>1.588667</td>\n",
       "      <td>1.588667</td>\n",
       "      <td>257806500</td>\n",
       "    </tr>\n",
       "    <tr>\n",
       "      <th>2010-07-01</th>\n",
       "      <td>1.666667</td>\n",
       "      <td>1.728000</td>\n",
       "      <td>1.351333</td>\n",
       "      <td>1.464000</td>\n",
       "      <td>1.464000</td>\n",
       "      <td>123282000</td>\n",
       "    </tr>\n",
       "    <tr>\n",
       "      <th>2010-07-02</th>\n",
       "      <td>1.533333</td>\n",
       "      <td>1.540000</td>\n",
       "      <td>1.247333</td>\n",
       "      <td>1.280000</td>\n",
       "      <td>1.280000</td>\n",
       "      <td>77097000</td>\n",
       "    </tr>\n",
       "    <tr>\n",
       "      <th>2010-07-06</th>\n",
       "      <td>1.333333</td>\n",
       "      <td>1.333333</td>\n",
       "      <td>1.055333</td>\n",
       "      <td>1.074000</td>\n",
       "      <td>1.074000</td>\n",
       "      <td>103003500</td>\n",
       "    </tr>\n",
       "    <tr>\n",
       "      <th>...</th>\n",
       "      <td>...</td>\n",
       "      <td>...</td>\n",
       "      <td>...</td>\n",
       "      <td>...</td>\n",
       "      <td>...</td>\n",
       "      <td>...</td>\n",
       "    </tr>\n",
       "    <tr>\n",
       "      <th>2023-05-03</th>\n",
       "      <td>160.009995</td>\n",
       "      <td>165.000000</td>\n",
       "      <td>159.910004</td>\n",
       "      <td>160.610001</td>\n",
       "      <td>160.610001</td>\n",
       "      <td>119728000</td>\n",
       "    </tr>\n",
       "    <tr>\n",
       "      <th>2023-05-04</th>\n",
       "      <td>162.710007</td>\n",
       "      <td>162.949997</td>\n",
       "      <td>159.649994</td>\n",
       "      <td>161.199997</td>\n",
       "      <td>161.199997</td>\n",
       "      <td>95108500</td>\n",
       "    </tr>\n",
       "    <tr>\n",
       "      <th>2023-05-05</th>\n",
       "      <td>163.970001</td>\n",
       "      <td>170.789993</td>\n",
       "      <td>163.509995</td>\n",
       "      <td>170.059998</td>\n",
       "      <td>170.059998</td>\n",
       "      <td>107440900</td>\n",
       "    </tr>\n",
       "    <tr>\n",
       "      <th>2023-05-08</th>\n",
       "      <td>173.720001</td>\n",
       "      <td>173.800003</td>\n",
       "      <td>169.190002</td>\n",
       "      <td>171.789993</td>\n",
       "      <td>171.789993</td>\n",
       "      <td>112249400</td>\n",
       "    </tr>\n",
       "    <tr>\n",
       "      <th>2023-05-09</th>\n",
       "      <td>168.949997</td>\n",
       "      <td>169.820007</td>\n",
       "      <td>166.559998</td>\n",
       "      <td>169.149994</td>\n",
       "      <td>169.149994</td>\n",
       "      <td>88804100</td>\n",
       "    </tr>\n",
       "  </tbody>\n",
       "</table>\n",
       "<p>3238 rows × 6 columns</p>\n",
       "</div>"
      ],
      "text/plain": [
       "                  Open        High         Low       Close   Adj Close  \\\n",
       "Date                                                                     \n",
       "2010-06-29    1.266667    1.666667    1.169333    1.592667    1.592667   \n",
       "2010-06-30    1.719333    2.028000    1.553333    1.588667    1.588667   \n",
       "2010-07-01    1.666667    1.728000    1.351333    1.464000    1.464000   \n",
       "2010-07-02    1.533333    1.540000    1.247333    1.280000    1.280000   \n",
       "2010-07-06    1.333333    1.333333    1.055333    1.074000    1.074000   \n",
       "...                ...         ...         ...         ...         ...   \n",
       "2023-05-03  160.009995  165.000000  159.910004  160.610001  160.610001   \n",
       "2023-05-04  162.710007  162.949997  159.649994  161.199997  161.199997   \n",
       "2023-05-05  163.970001  170.789993  163.509995  170.059998  170.059998   \n",
       "2023-05-08  173.720001  173.800003  169.190002  171.789993  171.789993   \n",
       "2023-05-09  168.949997  169.820007  166.559998  169.149994  169.149994   \n",
       "\n",
       "               Volume  \n",
       "Date                   \n",
       "2010-06-29  281494500  \n",
       "2010-06-30  257806500  \n",
       "2010-07-01  123282000  \n",
       "2010-07-02   77097000  \n",
       "2010-07-06  103003500  \n",
       "...               ...  \n",
       "2023-05-03  119728000  \n",
       "2023-05-04   95108500  \n",
       "2023-05-05  107440900  \n",
       "2023-05-08  112249400  \n",
       "2023-05-09   88804100  \n",
       "\n",
       "[3238 rows x 6 columns]"
      ]
     },
     "execution_count": 4,
     "metadata": {},
     "output_type": "execute_result"
    }
   ],
   "source": [
    "data"
   ]
  },
  {
   "cell_type": "code",
   "execution_count": 5,
   "id": "a800cabd",
   "metadata": {},
   "outputs": [
    {
     "data": {
      "text/html": [
       "<div>\n",
       "<style scoped>\n",
       "    .dataframe tbody tr th:only-of-type {\n",
       "        vertical-align: middle;\n",
       "    }\n",
       "\n",
       "    .dataframe tbody tr th {\n",
       "        vertical-align: top;\n",
       "    }\n",
       "\n",
       "    .dataframe thead th {\n",
       "        text-align: right;\n",
       "    }\n",
       "</style>\n",
       "<table border=\"1\" class=\"dataframe\">\n",
       "  <thead>\n",
       "    <tr style=\"text-align: right;\">\n",
       "      <th></th>\n",
       "      <th>Open</th>\n",
       "      <th>High</th>\n",
       "      <th>Low</th>\n",
       "      <th>Close</th>\n",
       "      <th>Adj Close</th>\n",
       "      <th>Volume</th>\n",
       "    </tr>\n",
       "    <tr>\n",
       "      <th>Date</th>\n",
       "      <th></th>\n",
       "      <th></th>\n",
       "      <th></th>\n",
       "      <th></th>\n",
       "      <th></th>\n",
       "      <th></th>\n",
       "    </tr>\n",
       "  </thead>\n",
       "  <tbody>\n",
       "    <tr>\n",
       "      <th>2013-06-03</th>\n",
       "      <td>6.508000</td>\n",
       "      <td>6.508000</td>\n",
       "      <td>5.883333</td>\n",
       "      <td>6.172667</td>\n",
       "      <td>6.172667</td>\n",
       "      <td>287094000</td>\n",
       "    </tr>\n",
       "    <tr>\n",
       "      <th>2013-06-04</th>\n",
       "      <td>6.183333</td>\n",
       "      <td>6.428000</td>\n",
       "      <td>6.160000</td>\n",
       "      <td>6.322667</td>\n",
       "      <td>6.322667</td>\n",
       "      <td>132841500</td>\n",
       "    </tr>\n",
       "    <tr>\n",
       "      <th>2013-06-05</th>\n",
       "      <td>6.244000</td>\n",
       "      <td>6.531333</td>\n",
       "      <td>5.940667</td>\n",
       "      <td>6.358000</td>\n",
       "      <td>6.358000</td>\n",
       "      <td>183372000</td>\n",
       "    </tr>\n",
       "    <tr>\n",
       "      <th>2013-06-06</th>\n",
       "      <td>6.350000</td>\n",
       "      <td>6.618000</td>\n",
       "      <td>6.340667</td>\n",
       "      <td>6.490000</td>\n",
       "      <td>6.490000</td>\n",
       "      <td>142663500</td>\n",
       "    </tr>\n",
       "    <tr>\n",
       "      <th>2013-06-07</th>\n",
       "      <td>6.533333</td>\n",
       "      <td>6.860000</td>\n",
       "      <td>6.446667</td>\n",
       "      <td>6.802667</td>\n",
       "      <td>6.802667</td>\n",
       "      <td>160674000</td>\n",
       "    </tr>\n",
       "    <tr>\n",
       "      <th>...</th>\n",
       "      <td>...</td>\n",
       "      <td>...</td>\n",
       "      <td>...</td>\n",
       "      <td>...</td>\n",
       "      <td>...</td>\n",
       "      <td>...</td>\n",
       "    </tr>\n",
       "    <tr>\n",
       "      <th>2013-11-25</th>\n",
       "      <td>8.300000</td>\n",
       "      <td>8.389333</td>\n",
       "      <td>8.020000</td>\n",
       "      <td>8.056000</td>\n",
       "      <td>8.056000</td>\n",
       "      <td>154009500</td>\n",
       "    </tr>\n",
       "    <tr>\n",
       "      <th>2013-11-26</th>\n",
       "      <td>7.958667</td>\n",
       "      <td>8.181333</td>\n",
       "      <td>7.740000</td>\n",
       "      <td>8.033333</td>\n",
       "      <td>8.033333</td>\n",
       "      <td>208282500</td>\n",
       "    </tr>\n",
       "    <tr>\n",
       "      <th>2013-11-27</th>\n",
       "      <td>8.087333</td>\n",
       "      <td>8.463333</td>\n",
       "      <td>7.968000</td>\n",
       "      <td>8.462667</td>\n",
       "      <td>8.462667</td>\n",
       "      <td>185514000</td>\n",
       "    </tr>\n",
       "    <tr>\n",
       "      <th>2013-11-29</th>\n",
       "      <td>8.651333</td>\n",
       "      <td>8.706000</td>\n",
       "      <td>8.465333</td>\n",
       "      <td>8.485333</td>\n",
       "      <td>8.485333</td>\n",
       "      <td>145743000</td>\n",
       "    </tr>\n",
       "    <tr>\n",
       "      <th>2013-12-02</th>\n",
       "      <td>8.423333</td>\n",
       "      <td>8.570000</td>\n",
       "      <td>8.262000</td>\n",
       "      <td>8.278000</td>\n",
       "      <td>8.278000</td>\n",
       "      <td>116268000</td>\n",
       "    </tr>\n",
       "  </tbody>\n",
       "</table>\n",
       "<p>128 rows × 6 columns</p>\n",
       "</div>"
      ],
      "text/plain": [
       "                Open      High       Low     Close  Adj Close     Volume\n",
       "Date                                                                    \n",
       "2013-06-03  6.508000  6.508000  5.883333  6.172667   6.172667  287094000\n",
       "2013-06-04  6.183333  6.428000  6.160000  6.322667   6.322667  132841500\n",
       "2013-06-05  6.244000  6.531333  5.940667  6.358000   6.358000  183372000\n",
       "2013-06-06  6.350000  6.618000  6.340667  6.490000   6.490000  142663500\n",
       "2013-06-07  6.533333  6.860000  6.446667  6.802667   6.802667  160674000\n",
       "...              ...       ...       ...       ...        ...        ...\n",
       "2013-11-25  8.300000  8.389333  8.020000  8.056000   8.056000  154009500\n",
       "2013-11-26  7.958667  8.181333  7.740000  8.033333   8.033333  208282500\n",
       "2013-11-27  8.087333  8.463333  7.968000  8.462667   8.462667  185514000\n",
       "2013-11-29  8.651333  8.706000  8.465333  8.485333   8.485333  145743000\n",
       "2013-12-02  8.423333  8.570000  8.262000  8.278000   8.278000  116268000\n",
       "\n",
       "[128 rows x 6 columns]"
      ]
     },
     "execution_count": 5,
     "metadata": {},
     "output_type": "execute_result"
    }
   ],
   "source": [
    "data.iloc[736:864]"
   ]
  },
  {
   "cell_type": "code",
   "execution_count": 6,
   "id": "3803b7ca",
   "metadata": {},
   "outputs": [
    {
     "data": {
      "text/html": [
       "<div>\n",
       "<style scoped>\n",
       "    .dataframe tbody tr th:only-of-type {\n",
       "        vertical-align: middle;\n",
       "    }\n",
       "\n",
       "    .dataframe tbody tr th {\n",
       "        vertical-align: top;\n",
       "    }\n",
       "\n",
       "    .dataframe thead th {\n",
       "        text-align: right;\n",
       "    }\n",
       "</style>\n",
       "<table border=\"1\" class=\"dataframe\">\n",
       "  <thead>\n",
       "    <tr style=\"text-align: right;\">\n",
       "      <th></th>\n",
       "      <th>Open</th>\n",
       "      <th>High</th>\n",
       "      <th>Low</th>\n",
       "      <th>Close</th>\n",
       "      <th>Adj Close</th>\n",
       "      <th>Volume</th>\n",
       "    </tr>\n",
       "  </thead>\n",
       "  <tbody>\n",
       "    <tr>\n",
       "      <th>count</th>\n",
       "      <td>3238.000000</td>\n",
       "      <td>3238.000000</td>\n",
       "      <td>3238.000000</td>\n",
       "      <td>3238.000000</td>\n",
       "      <td>3238.000000</td>\n",
       "      <td>3.238000e+03</td>\n",
       "    </tr>\n",
       "    <tr>\n",
       "      <th>mean</th>\n",
       "      <td>61.978897</td>\n",
       "      <td>63.375141</td>\n",
       "      <td>60.448560</td>\n",
       "      <td>61.944528</td>\n",
       "      <td>61.944528</td>\n",
       "      <td>9.540730e+07</td>\n",
       "    </tr>\n",
       "    <tr>\n",
       "      <th>std</th>\n",
       "      <td>96.283941</td>\n",
       "      <td>98.499962</td>\n",
       "      <td>93.795536</td>\n",
       "      <td>96.174344</td>\n",
       "      <td>96.174344</td>\n",
       "      <td>8.158511e+07</td>\n",
       "    </tr>\n",
       "    <tr>\n",
       "      <th>min</th>\n",
       "      <td>1.076000</td>\n",
       "      <td>1.108667</td>\n",
       "      <td>0.998667</td>\n",
       "      <td>1.053333</td>\n",
       "      <td>1.053333</td>\n",
       "      <td>1.777500e+06</td>\n",
       "    </tr>\n",
       "    <tr>\n",
       "      <th>25%</th>\n",
       "      <td>9.526500</td>\n",
       "      <td>9.717666</td>\n",
       "      <td>9.302500</td>\n",
       "      <td>9.554499</td>\n",
       "      <td>9.554499</td>\n",
       "      <td>4.365412e+07</td>\n",
       "    </tr>\n",
       "    <tr>\n",
       "      <th>50%</th>\n",
       "      <td>16.504001</td>\n",
       "      <td>16.733334</td>\n",
       "      <td>16.300000</td>\n",
       "      <td>16.513333</td>\n",
       "      <td>16.513333</td>\n",
       "      <td>7.753650e+07</td>\n",
       "    </tr>\n",
       "    <tr>\n",
       "      <th>75%</th>\n",
       "      <td>37.828668</td>\n",
       "      <td>38.426832</td>\n",
       "      <td>36.817168</td>\n",
       "      <td>37.583500</td>\n",
       "      <td>37.583500</td>\n",
       "      <td>1.212321e+08</td>\n",
       "    </tr>\n",
       "    <tr>\n",
       "      <th>max</th>\n",
       "      <td>411.470001</td>\n",
       "      <td>414.496674</td>\n",
       "      <td>405.666656</td>\n",
       "      <td>409.970001</td>\n",
       "      <td>409.970001</td>\n",
       "      <td>9.140820e+08</td>\n",
       "    </tr>\n",
       "  </tbody>\n",
       "</table>\n",
       "</div>"
      ],
      "text/plain": [
       "              Open         High          Low        Close    Adj Close  \\\n",
       "count  3238.000000  3238.000000  3238.000000  3238.000000  3238.000000   \n",
       "mean     61.978897    63.375141    60.448560    61.944528    61.944528   \n",
       "std      96.283941    98.499962    93.795536    96.174344    96.174344   \n",
       "min       1.076000     1.108667     0.998667     1.053333     1.053333   \n",
       "25%       9.526500     9.717666     9.302500     9.554499     9.554499   \n",
       "50%      16.504001    16.733334    16.300000    16.513333    16.513333   \n",
       "75%      37.828668    38.426832    36.817168    37.583500    37.583500   \n",
       "max     411.470001   414.496674   405.666656   409.970001   409.970001   \n",
       "\n",
       "             Volume  \n",
       "count  3.238000e+03  \n",
       "mean   9.540730e+07  \n",
       "std    8.158511e+07  \n",
       "min    1.777500e+06  \n",
       "25%    4.365412e+07  \n",
       "50%    7.753650e+07  \n",
       "75%    1.212321e+08  \n",
       "max    9.140820e+08  "
      ]
     },
     "execution_count": 6,
     "metadata": {},
     "output_type": "execute_result"
    }
   ],
   "source": [
    "data.describe()"
   ]
  },
  {
   "cell_type": "code",
   "execution_count": 7,
   "id": "ef186dec",
   "metadata": {},
   "outputs": [],
   "source": [
    "# data.index = pd.to_datetime(data.index)"
   ]
  },
  {
   "cell_type": "code",
   "execution_count": 8,
   "id": "57605191",
   "metadata": {},
   "outputs": [
    {
     "name": "stdout",
     "output_type": "stream",
     "text": [
      "<class 'pandas.core.frame.DataFrame'>\n",
      "DatetimeIndex: 3238 entries, 2010-06-29 to 2023-05-09\n",
      "Data columns (total 6 columns):\n",
      " #   Column     Non-Null Count  Dtype  \n",
      "---  ------     --------------  -----  \n",
      " 0   Open       3238 non-null   float64\n",
      " 1   High       3238 non-null   float64\n",
      " 2   Low        3238 non-null   float64\n",
      " 3   Close      3238 non-null   float64\n",
      " 4   Adj Close  3238 non-null   float64\n",
      " 5   Volume     3238 non-null   int64  \n",
      "dtypes: float64(5), int64(1)\n",
      "memory usage: 177.1 KB\n"
     ]
    }
   ],
   "source": [
    "data.info()"
   ]
  },
  {
   "cell_type": "code",
   "execution_count": 9,
   "id": "9669ed09",
   "metadata": {},
   "outputs": [
    {
     "data": {
      "text/html": [
       "<div>\n",
       "<style scoped>\n",
       "    .dataframe tbody tr th:only-of-type {\n",
       "        vertical-align: middle;\n",
       "    }\n",
       "\n",
       "    .dataframe tbody tr th {\n",
       "        vertical-align: top;\n",
       "    }\n",
       "\n",
       "    .dataframe thead th {\n",
       "        text-align: right;\n",
       "    }\n",
       "</style>\n",
       "<table border=\"1\" class=\"dataframe\">\n",
       "  <thead>\n",
       "    <tr style=\"text-align: right;\">\n",
       "      <th></th>\n",
       "      <th>Open</th>\n",
       "      <th>High</th>\n",
       "      <th>Low</th>\n",
       "      <th>Close</th>\n",
       "      <th>Adj Close</th>\n",
       "      <th>Volume</th>\n",
       "    </tr>\n",
       "    <tr>\n",
       "      <th>Date</th>\n",
       "      <th></th>\n",
       "      <th></th>\n",
       "      <th></th>\n",
       "      <th></th>\n",
       "      <th></th>\n",
       "      <th></th>\n",
       "    </tr>\n",
       "  </thead>\n",
       "  <tbody>\n",
       "    <tr>\n",
       "      <th>2010-06-29</th>\n",
       "      <td>False</td>\n",
       "      <td>False</td>\n",
       "      <td>False</td>\n",
       "      <td>False</td>\n",
       "      <td>False</td>\n",
       "      <td>False</td>\n",
       "    </tr>\n",
       "    <tr>\n",
       "      <th>2010-06-30</th>\n",
       "      <td>False</td>\n",
       "      <td>False</td>\n",
       "      <td>False</td>\n",
       "      <td>False</td>\n",
       "      <td>False</td>\n",
       "      <td>False</td>\n",
       "    </tr>\n",
       "    <tr>\n",
       "      <th>2010-07-01</th>\n",
       "      <td>False</td>\n",
       "      <td>False</td>\n",
       "      <td>False</td>\n",
       "      <td>False</td>\n",
       "      <td>False</td>\n",
       "      <td>False</td>\n",
       "    </tr>\n",
       "    <tr>\n",
       "      <th>2010-07-02</th>\n",
       "      <td>False</td>\n",
       "      <td>False</td>\n",
       "      <td>False</td>\n",
       "      <td>False</td>\n",
       "      <td>False</td>\n",
       "      <td>False</td>\n",
       "    </tr>\n",
       "    <tr>\n",
       "      <th>2010-07-06</th>\n",
       "      <td>False</td>\n",
       "      <td>False</td>\n",
       "      <td>False</td>\n",
       "      <td>False</td>\n",
       "      <td>False</td>\n",
       "      <td>False</td>\n",
       "    </tr>\n",
       "    <tr>\n",
       "      <th>...</th>\n",
       "      <td>...</td>\n",
       "      <td>...</td>\n",
       "      <td>...</td>\n",
       "      <td>...</td>\n",
       "      <td>...</td>\n",
       "      <td>...</td>\n",
       "    </tr>\n",
       "    <tr>\n",
       "      <th>2023-05-03</th>\n",
       "      <td>False</td>\n",
       "      <td>False</td>\n",
       "      <td>False</td>\n",
       "      <td>False</td>\n",
       "      <td>False</td>\n",
       "      <td>False</td>\n",
       "    </tr>\n",
       "    <tr>\n",
       "      <th>2023-05-04</th>\n",
       "      <td>False</td>\n",
       "      <td>False</td>\n",
       "      <td>False</td>\n",
       "      <td>False</td>\n",
       "      <td>False</td>\n",
       "      <td>False</td>\n",
       "    </tr>\n",
       "    <tr>\n",
       "      <th>2023-05-05</th>\n",
       "      <td>False</td>\n",
       "      <td>False</td>\n",
       "      <td>False</td>\n",
       "      <td>False</td>\n",
       "      <td>False</td>\n",
       "      <td>False</td>\n",
       "    </tr>\n",
       "    <tr>\n",
       "      <th>2023-05-08</th>\n",
       "      <td>False</td>\n",
       "      <td>False</td>\n",
       "      <td>False</td>\n",
       "      <td>False</td>\n",
       "      <td>False</td>\n",
       "      <td>False</td>\n",
       "    </tr>\n",
       "    <tr>\n",
       "      <th>2023-05-09</th>\n",
       "      <td>False</td>\n",
       "      <td>False</td>\n",
       "      <td>False</td>\n",
       "      <td>False</td>\n",
       "      <td>False</td>\n",
       "      <td>False</td>\n",
       "    </tr>\n",
       "  </tbody>\n",
       "</table>\n",
       "<p>3238 rows × 6 columns</p>\n",
       "</div>"
      ],
      "text/plain": [
       "             Open   High    Low  Close  Adj Close  Volume\n",
       "Date                                                     \n",
       "2010-06-29  False  False  False  False      False   False\n",
       "2010-06-30  False  False  False  False      False   False\n",
       "2010-07-01  False  False  False  False      False   False\n",
       "2010-07-02  False  False  False  False      False   False\n",
       "2010-07-06  False  False  False  False      False   False\n",
       "...           ...    ...    ...    ...        ...     ...\n",
       "2023-05-03  False  False  False  False      False   False\n",
       "2023-05-04  False  False  False  False      False   False\n",
       "2023-05-05  False  False  False  False      False   False\n",
       "2023-05-08  False  False  False  False      False   False\n",
       "2023-05-09  False  False  False  False      False   False\n",
       "\n",
       "[3238 rows x 6 columns]"
      ]
     },
     "execution_count": 9,
     "metadata": {},
     "output_type": "execute_result"
    }
   ],
   "source": [
    "data.isnull()"
   ]
  },
  {
   "cell_type": "code",
   "execution_count": 10,
   "id": "becd65af",
   "metadata": {},
   "outputs": [
    {
     "data": {
      "text/html": [
       "<div>\n",
       "<style scoped>\n",
       "    .dataframe tbody tr th:only-of-type {\n",
       "        vertical-align: middle;\n",
       "    }\n",
       "\n",
       "    .dataframe tbody tr th {\n",
       "        vertical-align: top;\n",
       "    }\n",
       "\n",
       "    .dataframe thead th {\n",
       "        text-align: right;\n",
       "    }\n",
       "</style>\n",
       "<table border=\"1\" class=\"dataframe\">\n",
       "  <thead>\n",
       "    <tr style=\"text-align: right;\">\n",
       "      <th></th>\n",
       "      <th>Open</th>\n",
       "      <th>High</th>\n",
       "      <th>Low</th>\n",
       "      <th>Close</th>\n",
       "      <th>Adj Close</th>\n",
       "      <th>Volume</th>\n",
       "    </tr>\n",
       "    <tr>\n",
       "      <th>Date</th>\n",
       "      <th></th>\n",
       "      <th></th>\n",
       "      <th></th>\n",
       "      <th></th>\n",
       "      <th></th>\n",
       "      <th></th>\n",
       "    </tr>\n",
       "  </thead>\n",
       "  <tbody>\n",
       "    <tr>\n",
       "      <th>2023-05-03</th>\n",
       "      <td>160.009995</td>\n",
       "      <td>165.000000</td>\n",
       "      <td>159.910004</td>\n",
       "      <td>160.610001</td>\n",
       "      <td>160.610001</td>\n",
       "      <td>119728000</td>\n",
       "    </tr>\n",
       "    <tr>\n",
       "      <th>2023-05-04</th>\n",
       "      <td>162.710007</td>\n",
       "      <td>162.949997</td>\n",
       "      <td>159.649994</td>\n",
       "      <td>161.199997</td>\n",
       "      <td>161.199997</td>\n",
       "      <td>95108500</td>\n",
       "    </tr>\n",
       "    <tr>\n",
       "      <th>2023-05-05</th>\n",
       "      <td>163.970001</td>\n",
       "      <td>170.789993</td>\n",
       "      <td>163.509995</td>\n",
       "      <td>170.059998</td>\n",
       "      <td>170.059998</td>\n",
       "      <td>107440900</td>\n",
       "    </tr>\n",
       "    <tr>\n",
       "      <th>2023-05-08</th>\n",
       "      <td>173.720001</td>\n",
       "      <td>173.800003</td>\n",
       "      <td>169.190002</td>\n",
       "      <td>171.789993</td>\n",
       "      <td>171.789993</td>\n",
       "      <td>112249400</td>\n",
       "    </tr>\n",
       "    <tr>\n",
       "      <th>2023-05-09</th>\n",
       "      <td>168.949997</td>\n",
       "      <td>169.820007</td>\n",
       "      <td>166.559998</td>\n",
       "      <td>169.149994</td>\n",
       "      <td>169.149994</td>\n",
       "      <td>88804100</td>\n",
       "    </tr>\n",
       "  </tbody>\n",
       "</table>\n",
       "</div>"
      ],
      "text/plain": [
       "                  Open        High         Low       Close   Adj Close  \\\n",
       "Date                                                                     \n",
       "2023-05-03  160.009995  165.000000  159.910004  160.610001  160.610001   \n",
       "2023-05-04  162.710007  162.949997  159.649994  161.199997  161.199997   \n",
       "2023-05-05  163.970001  170.789993  163.509995  170.059998  170.059998   \n",
       "2023-05-08  173.720001  173.800003  169.190002  171.789993  171.789993   \n",
       "2023-05-09  168.949997  169.820007  166.559998  169.149994  169.149994   \n",
       "\n",
       "               Volume  \n",
       "Date                   \n",
       "2023-05-03  119728000  \n",
       "2023-05-04   95108500  \n",
       "2023-05-05  107440900  \n",
       "2023-05-08  112249400  \n",
       "2023-05-09   88804100  "
      ]
     },
     "execution_count": 10,
     "metadata": {},
     "output_type": "execute_result"
    }
   ],
   "source": [
    "data.tail()"
   ]
  },
  {
   "cell_type": "code",
   "execution_count": null,
   "id": "94732c5e",
   "metadata": {},
   "outputs": [],
   "source": []
  },
  {
   "cell_type": "code",
   "execution_count": 11,
   "id": "7f624b83",
   "metadata": {},
   "outputs": [],
   "source": [
    "data['Close:100 days rolling']=data['Close'].rolling(window=100).mean()"
   ]
  },
  {
   "cell_type": "code",
   "execution_count": 12,
   "id": "85f265e1",
   "metadata": {
    "scrolled": true
   },
   "outputs": [
    {
     "data": {
      "text/plain": [
       "<Axes: xlabel='Date'>"
      ]
     },
     "execution_count": 12,
     "metadata": {},
     "output_type": "execute_result"
    },
    {
     "data": {
      "image/png": "[encoded data removed]",
      "text/plain": [
       "<Figure size 1000x400 with 1 Axes>"
      ]
     },
     "metadata": {},
     "output_type": "display_data"
    }
   ],
   "source": [
    "data[['Close','Close:100 days rolling']].plot(figsize=(10,4))"
   ]
  },
  {
   "cell_type": "code",
   "execution_count": 13,
   "id": "c8942489",
   "metadata": {},
   "outputs": [],
   "source": [
    "data['Close:200 days rolling']=data['Close'].rolling(window=200).mean()"
   ]
  },
  {
   "cell_type": "code",
   "execution_count": 14,
   "id": "67527eea",
   "metadata": {},
   "outputs": [
    {
     "data": {
      "text/plain": [
       "<Axes: xlabel='Date'>"
      ]
     },
     "execution_count": 14,
     "metadata": {},
     "output_type": "execute_result"
    },
    {
     "data": {
      "image/png": "[encoded data removed]",
      "text/plain": [
       "<Figure size 1000x400 with 1 Axes>"
      ]
     },
     "metadata": {},
     "output_type": "display_data"
    }
   ],
   "source": [
    "data[['Close','Close:200 days rolling']].plot(figsize=(10,4))"
   ]
  },
  {
   "cell_type": "code",
   "execution_count": 15,
   "id": "c29fc8de",
   "metadata": {},
   "outputs": [
    {
     "data": {
      "text/plain": [
       "<Axes: xlabel='Date'>"
      ]
     },
     "execution_count": 15,
     "metadata": {},
     "output_type": "execute_result"
    },
    {
     "data": {
      "image/png": "[encoded data removed]",
      "text/plain": [
       "<Figure size 1000x400 with 1 Axes>"
      ]
     },
     "metadata": {},
     "output_type": "display_data"
    }
   ],
   "source": [
    "data[['Close','Close:100 days rolling','Close:200 days rolling']].plot(figsize=(10,4))"
   ]
  },
  {
   "cell_type": "code",
   "execution_count": 16,
   "id": "e7a99e5b",
   "metadata": {},
   "outputs": [
    {
     "data": {
      "text/html": [
       "<div>\n",
       "<style scoped>\n",
       "    .dataframe tbody tr th:only-of-type {\n",
       "        vertical-align: middle;\n",
       "    }\n",
       "\n",
       "    .dataframe tbody tr th {\n",
       "        vertical-align: top;\n",
       "    }\n",
       "\n",
       "    .dataframe thead th {\n",
       "        text-align: right;\n",
       "    }\n",
       "</style>\n",
       "<table border=\"1\" class=\"dataframe\">\n",
       "  <thead>\n",
       "    <tr style=\"text-align: right;\">\n",
       "      <th></th>\n",
       "      <th>Open</th>\n",
       "      <th>High</th>\n",
       "      <th>Low</th>\n",
       "      <th>Close</th>\n",
       "      <th>Adj Close</th>\n",
       "      <th>Volume</th>\n",
       "      <th>Close:100 days rolling</th>\n",
       "      <th>Close:200 days rolling</th>\n",
       "    </tr>\n",
       "    <tr>\n",
       "      <th>Date</th>\n",
       "      <th></th>\n",
       "      <th></th>\n",
       "      <th></th>\n",
       "      <th></th>\n",
       "      <th></th>\n",
       "      <th></th>\n",
       "      <th></th>\n",
       "      <th></th>\n",
       "    </tr>\n",
       "  </thead>\n",
       "  <tbody>\n",
       "    <tr>\n",
       "      <th>2010-06-29</th>\n",
       "      <td>1.266667</td>\n",
       "      <td>1.666667</td>\n",
       "      <td>1.169333</td>\n",
       "      <td>1.592667</td>\n",
       "      <td>1.592667</td>\n",
       "      <td>281494500</td>\n",
       "      <td>NaN</td>\n",
       "      <td>NaN</td>\n",
       "    </tr>\n",
       "    <tr>\n",
       "      <th>2010-06-30</th>\n",
       "      <td>1.719333</td>\n",
       "      <td>2.028000</td>\n",
       "      <td>1.553333</td>\n",
       "      <td>1.588667</td>\n",
       "      <td>1.588667</td>\n",
       "      <td>257806500</td>\n",
       "      <td>NaN</td>\n",
       "      <td>NaN</td>\n",
       "    </tr>\n",
       "    <tr>\n",
       "      <th>2010-07-01</th>\n",
       "      <td>1.666667</td>\n",
       "      <td>1.728000</td>\n",
       "      <td>1.351333</td>\n",
       "      <td>1.464000</td>\n",
       "      <td>1.464000</td>\n",
       "      <td>123282000</td>\n",
       "      <td>NaN</td>\n",
       "      <td>NaN</td>\n",
       "    </tr>\n",
       "    <tr>\n",
       "      <th>2010-07-02</th>\n",
       "      <td>1.533333</td>\n",
       "      <td>1.540000</td>\n",
       "      <td>1.247333</td>\n",
       "      <td>1.280000</td>\n",
       "      <td>1.280000</td>\n",
       "      <td>77097000</td>\n",
       "      <td>NaN</td>\n",
       "      <td>NaN</td>\n",
       "    </tr>\n",
       "    <tr>\n",
       "      <th>2010-07-06</th>\n",
       "      <td>1.333333</td>\n",
       "      <td>1.333333</td>\n",
       "      <td>1.055333</td>\n",
       "      <td>1.074000</td>\n",
       "      <td>1.074000</td>\n",
       "      <td>103003500</td>\n",
       "      <td>NaN</td>\n",
       "      <td>NaN</td>\n",
       "    </tr>\n",
       "    <tr>\n",
       "      <th>...</th>\n",
       "      <td>...</td>\n",
       "      <td>...</td>\n",
       "      <td>...</td>\n",
       "      <td>...</td>\n",
       "      <td>...</td>\n",
       "      <td>...</td>\n",
       "      <td>...</td>\n",
       "      <td>...</td>\n",
       "    </tr>\n",
       "    <tr>\n",
       "      <th>2023-05-03</th>\n",
       "      <td>160.009995</td>\n",
       "      <td>165.000000</td>\n",
       "      <td>159.910004</td>\n",
       "      <td>160.610001</td>\n",
       "      <td>160.610001</td>\n",
       "      <td>119728000</td>\n",
       "      <td>169.4708</td>\n",
       "      <td>209.258650</td>\n",
       "    </tr>\n",
       "    <tr>\n",
       "      <th>2023-05-04</th>\n",
       "      <td>162.710007</td>\n",
       "      <td>162.949997</td>\n",
       "      <td>159.649994</td>\n",
       "      <td>161.199997</td>\n",
       "      <td>161.199997</td>\n",
       "      <td>95108500</td>\n",
       "      <td>169.3484</td>\n",
       "      <td>208.837000</td>\n",
       "    </tr>\n",
       "    <tr>\n",
       "      <th>2023-05-05</th>\n",
       "      <td>163.970001</td>\n",
       "      <td>170.789993</td>\n",
       "      <td>163.509995</td>\n",
       "      <td>170.059998</td>\n",
       "      <td>170.059998</td>\n",
       "      <td>107440900</td>\n",
       "      <td>169.2585</td>\n",
       "      <td>208.449800</td>\n",
       "    </tr>\n",
       "    <tr>\n",
       "      <th>2023-05-08</th>\n",
       "      <td>173.720001</td>\n",
       "      <td>173.800003</td>\n",
       "      <td>169.190002</td>\n",
       "      <td>171.789993</td>\n",
       "      <td>171.789993</td>\n",
       "      <td>112249400</td>\n",
       "      <td>169.2982</td>\n",
       "      <td>207.950217</td>\n",
       "    </tr>\n",
       "    <tr>\n",
       "      <th>2023-05-09</th>\n",
       "      <td>168.949997</td>\n",
       "      <td>169.820007</td>\n",
       "      <td>166.559998</td>\n",
       "      <td>169.149994</td>\n",
       "      <td>169.149994</td>\n",
       "      <td>88804100</td>\n",
       "      <td>169.3802</td>\n",
       "      <td>207.434750</td>\n",
       "    </tr>\n",
       "  </tbody>\n",
       "</table>\n",
       "<p>3238 rows × 8 columns</p>\n",
       "</div>"
      ],
      "text/plain": [
       "                  Open        High         Low       Close   Adj Close  \\\n",
       "Date                                                                     \n",
       "2010-06-29    1.266667    1.666667    1.169333    1.592667    1.592667   \n",
       "2010-06-30    1.719333    2.028000    1.553333    1.588667    1.588667   \n",
       "2010-07-01    1.666667    1.728000    1.351333    1.464000    1.464000   \n",
       "2010-07-02    1.533333    1.540000    1.247333    1.280000    1.280000   \n",
       "2010-07-06    1.333333    1.333333    1.055333    1.074000    1.074000   \n",
       "...                ...         ...         ...         ...         ...   \n",
       "2023-05-03  160.009995  165.000000  159.910004  160.610001  160.610001   \n",
       "2023-05-04  162.710007  162.949997  159.649994  161.199997  161.199997   \n",
       "2023-05-05  163.970001  170.789993  163.509995  170.059998  170.059998   \n",
       "2023-05-08  173.720001  173.800003  169.190002  171.789993  171.789993   \n",
       "2023-05-09  168.949997  169.820007  166.559998  169.149994  169.149994   \n",
       "\n",
       "               Volume  Close:100 days rolling  Close:200 days rolling  \n",
       "Date                                                                   \n",
       "2010-06-29  281494500                     NaN                     NaN  \n",
       "2010-06-30  257806500                     NaN                     NaN  \n",
       "2010-07-01  123282000                     NaN                     NaN  \n",
       "2010-07-02   77097000                     NaN                     NaN  \n",
       "2010-07-06  103003500                     NaN                     NaN  \n",
       "...               ...                     ...                     ...  \n",
       "2023-05-03  119728000                169.4708              209.258650  \n",
       "2023-05-04   95108500                169.3484              208.837000  \n",
       "2023-05-05  107440900                169.2585              208.449800  \n",
       "2023-05-08  112249400                169.2982              207.950217  \n",
       "2023-05-09   88804100                169.3802              207.434750  \n",
       "\n",
       "[3238 rows x 8 columns]"
      ]
     },
     "execution_count": 16,
     "metadata": {},
     "output_type": "execute_result"
    }
   ],
   "source": [
    "data\n"
   ]
  },
  {
   "cell_type": "code",
   "execution_count": null,
   "id": "83786b51",
   "metadata": {},
   "outputs": [],
   "source": []
  },
  {
   "cell_type": "code",
   "execution_count": 17,
   "id": "79432d3d",
   "metadata": {},
   "outputs": [
    {
     "data": {
      "text/plain": [
       "(3238, 8)"
      ]
     },
     "execution_count": 17,
     "metadata": {},
     "output_type": "execute_result"
    }
   ],
   "source": [
    "data.shape"
   ]
  },
  {
   "cell_type": "code",
   "execution_count": 18,
   "id": "54889833",
   "metadata": {},
   "outputs": [],
   "source": [
    "#To check whether data is stationary or not using ADF test"
   ]
  },
  {
   "cell_type": "code",
   "execution_count": 19,
   "id": "d55b822f",
   "metadata": {},
   "outputs": [],
   "source": [
    "from statsmodels.tsa.stattools import adfuller"
   ]
  },
  {
   "cell_type": "code",
   "execution_count": 20,
   "id": "60e09441",
   "metadata": {},
   "outputs": [],
   "source": [
    "def adf_test(series):\n",
    "    result=adfuller(series)\n",
    "    print(type(result))\n",
    "    print(result)\n",
    "    print(result[1])\n",
    "    print('ADF Statistics:{}'.format(result[0]))\n",
    "    print('p-value:{}'.format(result[1]))\n",
    "    if result[1]<=0.05:\n",
    "        print(\"Strong Evidence against Null Hypothesis,reject Null Hypothesis(unit root is greater than one) and the Data is Stationary\")\n",
    "    else:\n",
    "        print(\"Strong Evidence against alternate Hypothesis,reject alternate Hypothesis(Data has unit root) and the Data is Non Stationary\")"
   ]
  },
  {
   "cell_type": "code",
   "execution_count": 21,
   "id": "3e9b7051",
   "metadata": {},
   "outputs": [
    {
     "name": "stdout",
     "output_type": "stream",
     "text": [
      "<class 'tuple'>\n",
      "(-1.127958474944481, 0.7037946056278768, 28, 3209, {'1%': -3.4323894324171813, '5%': -2.8624410979440333, '10%': -2.567249674462629}, 18586.8941481402)\n",
      "0.7037946056278768\n",
      "ADF Statistics:-1.127958474944481\n",
      "p-value:0.7037946056278768\n",
      "Strong Evidence against alternate Hypothesis,reject alternate Hypothesis(Data has unit root) and the Data is Non Stationary\n"
     ]
    }
   ],
   "source": [
    "adf_test(data['Close'])"
   ]
  },
  {
   "cell_type": "code",
   "execution_count": 22,
   "id": "479c782c",
   "metadata": {},
   "outputs": [],
   "source": [
    "#Since Data is not Stationary so differencing will be Applied to data\n",
    "data['Close 1 difference']=data['Close']-data['Close'].shift(1)"
   ]
  },
  {
   "cell_type": "code",
   "execution_count": 23,
   "id": "b7432dea",
   "metadata": {},
   "outputs": [
    {
     "data": {
      "text/html": [
       "<div>\n",
       "<style scoped>\n",
       "    .dataframe tbody tr th:only-of-type {\n",
       "        vertical-align: middle;\n",
       "    }\n",
       "\n",
       "    .dataframe tbody tr th {\n",
       "        vertical-align: top;\n",
       "    }\n",
       "\n",
       "    .dataframe thead th {\n",
       "        text-align: right;\n",
       "    }\n",
       "</style>\n",
       "<table border=\"1\" class=\"dataframe\">\n",
       "  <thead>\n",
       "    <tr style=\"text-align: right;\">\n",
       "      <th></th>\n",
       "      <th>Open</th>\n",
       "      <th>High</th>\n",
       "      <th>Low</th>\n",
       "      <th>Close</th>\n",
       "      <th>Adj Close</th>\n",
       "      <th>Volume</th>\n",
       "      <th>Close:100 days rolling</th>\n",
       "      <th>Close:200 days rolling</th>\n",
       "      <th>Close 1 difference</th>\n",
       "    </tr>\n",
       "    <tr>\n",
       "      <th>Date</th>\n",
       "      <th></th>\n",
       "      <th></th>\n",
       "      <th></th>\n",
       "      <th></th>\n",
       "      <th></th>\n",
       "      <th></th>\n",
       "      <th></th>\n",
       "      <th></th>\n",
       "      <th></th>\n",
       "    </tr>\n",
       "  </thead>\n",
       "  <tbody>\n",
       "    <tr>\n",
       "      <th>2010-06-29</th>\n",
       "      <td>1.266667</td>\n",
       "      <td>1.666667</td>\n",
       "      <td>1.169333</td>\n",
       "      <td>1.592667</td>\n",
       "      <td>1.592667</td>\n",
       "      <td>281494500</td>\n",
       "      <td>NaN</td>\n",
       "      <td>NaN</td>\n",
       "      <td>NaN</td>\n",
       "    </tr>\n",
       "    <tr>\n",
       "      <th>2010-06-30</th>\n",
       "      <td>1.719333</td>\n",
       "      <td>2.028000</td>\n",
       "      <td>1.553333</td>\n",
       "      <td>1.588667</td>\n",
       "      <td>1.588667</td>\n",
       "      <td>257806500</td>\n",
       "      <td>NaN</td>\n",
       "      <td>NaN</td>\n",
       "      <td>-0.004000</td>\n",
       "    </tr>\n",
       "    <tr>\n",
       "      <th>2010-07-01</th>\n",
       "      <td>1.666667</td>\n",
       "      <td>1.728000</td>\n",
       "      <td>1.351333</td>\n",
       "      <td>1.464000</td>\n",
       "      <td>1.464000</td>\n",
       "      <td>123282000</td>\n",
       "      <td>NaN</td>\n",
       "      <td>NaN</td>\n",
       "      <td>-0.124667</td>\n",
       "    </tr>\n",
       "    <tr>\n",
       "      <th>2010-07-02</th>\n",
       "      <td>1.533333</td>\n",
       "      <td>1.540000</td>\n",
       "      <td>1.247333</td>\n",
       "      <td>1.280000</td>\n",
       "      <td>1.280000</td>\n",
       "      <td>77097000</td>\n",
       "      <td>NaN</td>\n",
       "      <td>NaN</td>\n",
       "      <td>-0.184000</td>\n",
       "    </tr>\n",
       "    <tr>\n",
       "      <th>2010-07-06</th>\n",
       "      <td>1.333333</td>\n",
       "      <td>1.333333</td>\n",
       "      <td>1.055333</td>\n",
       "      <td>1.074000</td>\n",
       "      <td>1.074000</td>\n",
       "      <td>103003500</td>\n",
       "      <td>NaN</td>\n",
       "      <td>NaN</td>\n",
       "      <td>-0.206000</td>\n",
       "    </tr>\n",
       "  </tbody>\n",
       "</table>\n",
       "</div>"
      ],
      "text/plain": [
       "                Open      High       Low     Close  Adj Close     Volume  \\\n",
       "Date                                                                       \n",
       "2010-06-29  1.266667  1.666667  1.169333  1.592667   1.592667  281494500   \n",
       "2010-06-30  1.719333  2.028000  1.553333  1.588667   1.588667  257806500   \n",
       "2010-07-01  1.666667  1.728000  1.351333  1.464000   1.464000  123282000   \n",
       "2010-07-02  1.533333  1.540000  1.247333  1.280000   1.280000   77097000   \n",
       "2010-07-06  1.333333  1.333333  1.055333  1.074000   1.074000  103003500   \n",
       "\n",
       "            Close:100 days rolling  Close:200 days rolling  Close 1 difference  \n",
       "Date                                                                            \n",
       "2010-06-29                     NaN                     NaN                 NaN  \n",
       "2010-06-30                     NaN                     NaN           -0.004000  \n",
       "2010-07-01                     NaN                     NaN           -0.124667  \n",
       "2010-07-02                     NaN                     NaN           -0.184000  \n",
       "2010-07-06                     NaN                     NaN           -0.206000  "
      ]
     },
     "execution_count": 23,
     "metadata": {},
     "output_type": "execute_result"
    }
   ],
   "source": [
    "data.head()"
   ]
  },
  {
   "cell_type": "code",
   "execution_count": 24,
   "id": "fbf675b7",
   "metadata": {},
   "outputs": [
    {
     "name": "stdout",
     "output_type": "stream",
     "text": [
      "<class 'tuple'>\n",
      "(-11.308749012785324, 1.2542049577337396e-20, 27, 3209, {'1%': -3.4323894324171813, '5%': -2.8624410979440333, '10%': -2.567249674462629}, 18581.40125667806)\n",
      "1.2542049577337396e-20\n",
      "ADF Statistics:-11.308749012785324\n",
      "p-value:1.2542049577337396e-20\n",
      "Strong Evidence against Null Hypothesis,reject Null Hypothesis(unit root is greater than one) and the Data is Stationary\n"
     ]
    }
   ],
   "source": [
    "adf_test(data['Close 1 difference'].dropna())"
   ]
  },
  {
   "cell_type": "code",
   "execution_count": 25,
   "id": "f0912026",
   "metadata": {},
   "outputs": [
    {
     "data": {
      "text/plain": [
       "[<matplotlib.lines.Line2D at 0x7fe82e6ea050>]"
      ]
     },
     "execution_count": 25,
     "metadata": {},
     "output_type": "execute_result"
    },
    {
     "data": {
      "image/png": "[encoded data removed]",
      "text/plain": [
       "<Figure size 640x480 with 1 Axes>"
      ]
     },
     "metadata": {},
     "output_type": "display_data"
    }
   ],
   "source": [
    "plt.plot(data['Close 1 difference'].dropna())"
   ]
  },
  {
   "cell_type": "code",
   "execution_count": 26,
   "id": "c7f4c51c",
   "metadata": {},
   "outputs": [],
   "source": [
    "#Since Data is not Stationary so differencing will be Applied to data\n",
    "data['Close 12 difference']=data['Close']-data['Close'].shift(12)"
   ]
  },
  {
   "cell_type": "code",
   "execution_count": 27,
   "id": "c47c70d4",
   "metadata": {},
   "outputs": [
    {
     "name": "stdout",
     "output_type": "stream",
     "text": [
      "<class 'tuple'>\n",
      "(-9.389007047994086, 6.638758524435549e-16, 25, 3200, {'1%': -3.432395172931915, '5%': -2.8624436334484864, '10%': -2.5672510243164064}, 19260.214984904404)\n",
      "6.638758524435549e-16\n",
      "ADF Statistics:-9.389007047994086\n",
      "p-value:6.638758524435549e-16\n",
      "Strong Evidence against Null Hypothesis,reject Null Hypothesis(unit root is greater than one) and the Data is Stationary\n"
     ]
    }
   ],
   "source": [
    "adf_test(data['Close 12 difference'].dropna())"
   ]
  },
  {
   "cell_type": "code",
   "execution_count": 28,
   "id": "002a289d",
   "metadata": {},
   "outputs": [],
   "source": [
    "from statsmodels.graphics.tsaplots import plot_acf,plot_pacf"
   ]
  },
  {
   "cell_type": "code",
   "execution_count": 29,
   "id": "9f96c3b4",
   "metadata": {},
   "outputs": [
    {
     "data": {
      "image/png": "[encoded data removed]",
      "text/plain": [
       "<Figure size 640x480 with 1 Axes>"
      ]
     },
     "metadata": {},
     "output_type": "display_data"
    }
   ],
   "source": [
    "ACF=plot_acf(data['Close 1 difference'].dropna())"
   ]
  },
  {
   "cell_type": "code",
   "execution_count": null,
   "id": "208ee4ae",
   "metadata": {},
   "outputs": [],
   "source": []
  },
  {
   "cell_type": "code",
   "execution_count": 30,
   "id": "03c5d6c7",
   "metadata": {},
   "outputs": [
    {
     "data": {
      "image/png": "[encoded data removed]",
      "text/plain": [
       "<Figure size 640x480 with 1 Axes>"
      ]
     },
     "metadata": {},
     "output_type": "display_data"
    }
   ],
   "source": [
    "ACF12=plot_acf(data['Close 12 difference'].dropna())\n",
    "#q=12 Lines which are above upper bound"
   ]
  },
  {
   "cell_type": "code",
   "execution_count": 31,
   "id": "cf0c305b",
   "metadata": {},
   "outputs": [
    {
     "name": "stderr",
     "output_type": "stream",
     "text": [
      "/home/newbie/anaconda3/lib/python3.10/site-packages/statsmodels/graphics/tsaplots.py:348: FutureWarning: The default method 'yw' can produce PACF values outside of the [-1,1] interval. After 0.13, the default will change tounadjusted Yule-Walker ('ywm'). You can use this method now by setting method='ywm'.\n",
      "  warnings.warn(\n"
     ]
    },
    {
     "data": {
      "image/png": "[encoded data removed]",
      "text/plain": [
       "<Figure size 640x480 with 1 Axes>"
      ]
     },
     "metadata": {},
     "output_type": "display_data"
    }
   ],
   "source": [
    "PACF=plot_pacf(data['Close 1 difference'].dropna())"
   ]
  },
  {
   "cell_type": "code",
   "execution_count": 32,
   "id": "9bc1f4a0",
   "metadata": {},
   "outputs": [
    {
     "data": {
      "image/png": "[encoded data removed]",
      "text/plain": [
       "<Figure size 640x480 with 1 Axes>"
      ]
     },
     "metadata": {},
     "output_type": "display_data"
    }
   ],
   "source": [
    "PACF12=plot_pacf(data['Close 12 difference'].dropna())\n",
    "#p=2 1 time differencing"
   ]
  },
  {
   "cell_type": "code",
   "execution_count": 33,
   "id": "e653489f",
   "metadata": {},
   "outputs": [],
   "source": [
    "train_data=pd.DataFrame(data['Close'][0:int(len(data)*(70/100))])\n",
    "test_data=pd.DataFrame(data['Close'][int (len(data)*(70/100)):int(len(data))])"
   ]
  },
  {
   "cell_type": "code",
   "execution_count": 34,
   "id": "0ce5dcae",
   "metadata": {},
   "outputs": [
    {
     "data": {
      "text/html": [
       "<div>\n",
       "<style scoped>\n",
       "    .dataframe tbody tr th:only-of-type {\n",
       "        vertical-align: middle;\n",
       "    }\n",
       "\n",
       "    .dataframe tbody tr th {\n",
       "        vertical-align: top;\n",
       "    }\n",
       "\n",
       "    .dataframe thead th {\n",
       "        text-align: right;\n",
       "    }\n",
       "</style>\n",
       "<table border=\"1\" class=\"dataframe\">\n",
       "  <thead>\n",
       "    <tr style=\"text-align: right;\">\n",
       "      <th></th>\n",
       "      <th>Close</th>\n",
       "    </tr>\n",
       "    <tr>\n",
       "      <th>Date</th>\n",
       "      <th></th>\n",
       "    </tr>\n",
       "  </thead>\n",
       "  <tbody>\n",
       "    <tr>\n",
       "      <th>2010-06-29</th>\n",
       "      <td>1.592667</td>\n",
       "    </tr>\n",
       "    <tr>\n",
       "      <th>2010-06-30</th>\n",
       "      <td>1.588667</td>\n",
       "    </tr>\n",
       "    <tr>\n",
       "      <th>2010-07-01</th>\n",
       "      <td>1.464000</td>\n",
       "    </tr>\n",
       "    <tr>\n",
       "      <th>2010-07-02</th>\n",
       "      <td>1.280000</td>\n",
       "    </tr>\n",
       "    <tr>\n",
       "      <th>2010-07-06</th>\n",
       "      <td>1.074000</td>\n",
       "    </tr>\n",
       "    <tr>\n",
       "      <th>...</th>\n",
       "      <td>...</td>\n",
       "    </tr>\n",
       "    <tr>\n",
       "      <th>2019-06-24</th>\n",
       "      <td>14.909333</td>\n",
       "    </tr>\n",
       "    <tr>\n",
       "      <th>2019-06-25</th>\n",
       "      <td>14.650667</td>\n",
       "    </tr>\n",
       "    <tr>\n",
       "      <th>2019-06-26</th>\n",
       "      <td>14.618000</td>\n",
       "    </tr>\n",
       "    <tr>\n",
       "      <th>2019-06-27</th>\n",
       "      <td>14.856000</td>\n",
       "    </tr>\n",
       "    <tr>\n",
       "      <th>2019-06-28</th>\n",
       "      <td>14.897333</td>\n",
       "    </tr>\n",
       "  </tbody>\n",
       "</table>\n",
       "<p>2266 rows × 1 columns</p>\n",
       "</div>"
      ],
      "text/plain": [
       "                Close\n",
       "Date                 \n",
       "2010-06-29   1.592667\n",
       "2010-06-30   1.588667\n",
       "2010-07-01   1.464000\n",
       "2010-07-02   1.280000\n",
       "2010-07-06   1.074000\n",
       "...               ...\n",
       "2019-06-24  14.909333\n",
       "2019-06-25  14.650667\n",
       "2019-06-26  14.618000\n",
       "2019-06-27  14.856000\n",
       "2019-06-28  14.897333\n",
       "\n",
       "[2266 rows x 1 columns]"
      ]
     },
     "execution_count": 34,
     "metadata": {},
     "output_type": "execute_result"
    }
   ],
   "source": [
    "train_data"
   ]
  },
  {
   "cell_type": "code",
   "execution_count": 35,
   "id": "2a2e23f2",
   "metadata": {},
   "outputs": [
    {
     "data": {
      "text/html": [
       "<div>\n",
       "<style scoped>\n",
       "    .dataframe tbody tr th:only-of-type {\n",
       "        vertical-align: middle;\n",
       "    }\n",
       "\n",
       "    .dataframe tbody tr th {\n",
       "        vertical-align: top;\n",
       "    }\n",
       "\n",
       "    .dataframe thead th {\n",
       "        text-align: right;\n",
       "    }\n",
       "</style>\n",
       "<table border=\"1\" class=\"dataframe\">\n",
       "  <thead>\n",
       "    <tr style=\"text-align: right;\">\n",
       "      <th></th>\n",
       "      <th>Close</th>\n",
       "    </tr>\n",
       "    <tr>\n",
       "      <th>Date</th>\n",
       "      <th></th>\n",
       "    </tr>\n",
       "  </thead>\n",
       "  <tbody>\n",
       "    <tr>\n",
       "      <th>2019-07-01</th>\n",
       "      <td>15.144667</td>\n",
       "    </tr>\n",
       "    <tr>\n",
       "      <th>2019-07-02</th>\n",
       "      <td>14.970000</td>\n",
       "    </tr>\n",
       "    <tr>\n",
       "      <th>2019-07-03</th>\n",
       "      <td>15.660000</td>\n",
       "    </tr>\n",
       "    <tr>\n",
       "      <th>2019-07-05</th>\n",
       "      <td>15.540000</td>\n",
       "    </tr>\n",
       "    <tr>\n",
       "      <th>2019-07-08</th>\n",
       "      <td>15.356000</td>\n",
       "    </tr>\n",
       "  </tbody>\n",
       "</table>\n",
       "</div>"
      ],
      "text/plain": [
       "                Close\n",
       "Date                 \n",
       "2019-07-01  15.144667\n",
       "2019-07-02  14.970000\n",
       "2019-07-03  15.660000\n",
       "2019-07-05  15.540000\n",
       "2019-07-08  15.356000"
      ]
     },
     "execution_count": 35,
     "metadata": {},
     "output_type": "execute_result"
    }
   ],
   "source": [
    "test_data.head()"
   ]
  },
  {
   "cell_type": "code",
   "execution_count": 36,
   "id": "1ba4dae6",
   "metadata": {},
   "outputs": [],
   "source": [
    "from statsmodels.tsa.statespace.sarimax import SARIMAX\n",
    "from sklearn.metrics import mean_squared_error"
   ]
  },
  {
   "cell_type": "code",
   "execution_count": 37,
   "id": "c36dfdff",
   "metadata": {},
   "outputs": [
    {
     "name": "stderr",
     "output_type": "stream",
     "text": [
      "/home/newbie/anaconda3/lib/python3.10/site-packages/statsmodels/tsa/base/tsa_model.py:471: ValueWarning: A date index has been provided, but it has no associated frequency information and so will be ignored when e.g. forecasting.\n",
      "  self._init_dates(dates, freq)\n",
      "/home/newbie/anaconda3/lib/python3.10/site-packages/statsmodels/tsa/base/tsa_model.py:471: ValueWarning: A date index has been provided, but it has no associated frequency information and so will be ignored when e.g. forecasting.\n",
      "  self._init_dates(dates, freq)\n"
     ]
    }
   ],
   "source": [
    "model_sarima=SARIMAX(train_data['Close'])"
   ]
  },
  {
   "cell_type": "code",
   "execution_count": 38,
   "id": "d17e3043",
   "metadata": {},
   "outputs": [
    {
     "name": "stdout",
     "output_type": "stream",
     "text": [
      "RUNNING THE L-BFGS-B CODE\n",
      "\n",
      "           * * *\n",
      "\n",
      "Machine precision = 2.220D-16\n",
      " N =            2     M =           10\n",
      "\n",
      "At X0         0 variables are exactly at the bounds\n",
      "\n",
      "At iterate    0    f=  5.22531D-01    |proj g|=  1.13765D-03\n",
      "\n",
      "           * * *\n",
      "\n",
      "Tit   = total number of iterations\n",
      "Tnf   = total number of function evaluations\n",
      "Tnint = total number of segments explored during Cauchy searches\n",
      "Skip  = number of BFGS updates skipped\n",
      "Nact  = number of active bounds at final generalized Cauchy point\n",
      "Projg = norm of the final projected gradient\n",
      "F     = final function value\n",
      "\n",
      "           * * *\n",
      "\n",
      "   N    Tit     Tnf  Tnint  Skip  Nact     Projg        F\n",
      "    2      2      7      1     0     0   6.581D-05   5.225D-01\n",
      "  F =  0.52253080132818486     \n",
      "\n",
      "CONVERGENCE: REL_REDUCTION_OF_F_<=_FACTR*EPSMCH             \n"
     ]
    },
    {
     "name": "stderr",
     "output_type": "stream",
     "text": [
      " This problem is unconstrained.\n"
     ]
    }
   ],
   "source": [
    "model_sarima_fit=model_sarima.fit()"
   ]
  },
  {
   "cell_type": "code",
   "execution_count": 39,
   "id": "a8219e06",
   "metadata": {},
   "outputs": [
    {
     "data": {
      "text/html": [
       "<table class=\"simpletable\">\n",
       "<caption>SARIMAX Results</caption>\n",
       "<tr>\n",
       "  <th>Dep. Variable:</th>         <td>Close</td>      <th>  No. Observations:  </th>   <td>2266</td>   \n",
       "</tr>\n",
       "<tr>\n",
       "  <th>Model:</th>           <td>SARIMAX(1, 0, 0)</td> <th>  Log Likelihood     </th> <td>-1184.055</td>\n",
       "</tr>\n",
       "<tr>\n",
       "  <th>Date:</th>            <td>Wed, 10 May 2023</td> <th>  AIC                </th> <td>2372.110</td> \n",
       "</tr>\n",
       "<tr>\n",
       "  <th>Time:</th>                <td>15:04:46</td>     <th>  BIC                </th> <td>2383.561</td> \n",
       "</tr>\n",
       "<tr>\n",
       "  <th>Sample:</th>                  <td>0</td>        <th>  HQIC               </th> <td>2376.288</td> \n",
       "</tr>\n",
       "<tr>\n",
       "  <th></th>                      <td> - 2266</td>     <th>                     </th>     <td> </td>    \n",
       "</tr>\n",
       "<tr>\n",
       "  <th>Covariance Type:</th>        <td>opg</td>       <th>                     </th>     <td> </td>    \n",
       "</tr>\n",
       "</table>\n",
       "<table class=\"simpletable\">\n",
       "<tr>\n",
       "     <td></td>       <th>coef</th>     <th>std err</th>      <th>z</th>      <th>P>|z|</th>  <th>[0.025</th>    <th>0.975]</th>  \n",
       "</tr>\n",
       "<tr>\n",
       "  <th>ar.L1</th>  <td>    0.9998</td> <td>    0.000</td> <td> 3585.379</td> <td> 0.000</td> <td>    0.999</td> <td>    1.000</td>\n",
       "</tr>\n",
       "<tr>\n",
       "  <th>sigma2</th> <td>    0.1659</td> <td>    0.002</td> <td>   80.446</td> <td> 0.000</td> <td>    0.162</td> <td>    0.170</td>\n",
       "</tr>\n",
       "</table>\n",
       "<table class=\"simpletable\">\n",
       "<tr>\n",
       "  <th>Ljung-Box (L1) (Q):</th>     <td>0.80</td>  <th>  Jarque-Bera (JB):  </th> <td>8389.52</td>\n",
       "</tr>\n",
       "<tr>\n",
       "  <th>Prob(Q):</th>                <td>0.37</td>  <th>  Prob(JB):          </th>  <td>0.00</td>  \n",
       "</tr>\n",
       "<tr>\n",
       "  <th>Heteroskedasticity (H):</th> <td>32.57</td> <th>  Skew:              </th>  <td>0.09</td>  \n",
       "</tr>\n",
       "<tr>\n",
       "  <th>Prob(H) (two-sided):</th>    <td>0.00</td>  <th>  Kurtosis:          </th>  <td>12.42</td> \n",
       "</tr>\n",
       "</table><br/><br/>Warnings:<br/>[1] Covariance matrix calculated using the outer product of gradients (complex-step)."
      ],
      "text/plain": [
       "<class 'statsmodels.iolib.summary.Summary'>\n",
       "\"\"\"\n",
       "                               SARIMAX Results                                \n",
       "==============================================================================\n",
       "Dep. Variable:                  Close   No. Observations:                 2266\n",
       "Model:               SARIMAX(1, 0, 0)   Log Likelihood               -1184.055\n",
       "Date:                Wed, 10 May 2023   AIC                           2372.110\n",
       "Time:                        15:04:46   BIC                           2383.561\n",
       "Sample:                             0   HQIC                          2376.288\n",
       "                               - 2266                                         \n",
       "Covariance Type:                  opg                                         \n",
       "==============================================================================\n",
       "                 coef    std err          z      P>|z|      [0.025      0.975]\n",
       "------------------------------------------------------------------------------\n",
       "ar.L1          0.9998      0.000   3585.379      0.000       0.999       1.000\n",
       "sigma2         0.1659      0.002     80.446      0.000       0.162       0.170\n",
       "===================================================================================\n",
       "Ljung-Box (L1) (Q):                   0.80   Jarque-Bera (JB):              8389.52\n",
       "Prob(Q):                              0.37   Prob(JB):                         0.00\n",
       "Heteroskedasticity (H):              32.57   Skew:                             0.09\n",
       "Prob(H) (two-sided):                  0.00   Kurtosis:                        12.42\n",
       "===================================================================================\n",
       "\n",
       "Warnings:\n",
       "[1] Covariance matrix calculated using the outer product of gradients (complex-step).\n",
       "\"\"\""
      ]
     },
     "execution_count": 39,
     "metadata": {},
     "output_type": "execute_result"
    }
   ],
   "source": [
    "model_sarima_fit.summary()"
   ]
  },
  {
   "cell_type": "code",
   "execution_count": 40,
   "id": "31710a93",
   "metadata": {},
   "outputs": [
    {
     "data": {
      "text/html": [
       "<div>\n",
       "<style scoped>\n",
       "    .dataframe tbody tr th:only-of-type {\n",
       "        vertical-align: middle;\n",
       "    }\n",
       "\n",
       "    .dataframe tbody tr th {\n",
       "        vertical-align: top;\n",
       "    }\n",
       "\n",
       "    .dataframe thead th {\n",
       "        text-align: right;\n",
       "    }\n",
       "</style>\n",
       "<table border=\"1\" class=\"dataframe\">\n",
       "  <thead>\n",
       "    <tr style=\"text-align: right;\">\n",
       "      <th></th>\n",
       "      <th>Close</th>\n",
       "    </tr>\n",
       "    <tr>\n",
       "      <th>Date</th>\n",
       "      <th></th>\n",
       "    </tr>\n",
       "  </thead>\n",
       "  <tbody>\n",
       "    <tr>\n",
       "      <th>2019-07-01</th>\n",
       "      <td>15.144667</td>\n",
       "    </tr>\n",
       "    <tr>\n",
       "      <th>2019-07-02</th>\n",
       "      <td>14.970000</td>\n",
       "    </tr>\n",
       "    <tr>\n",
       "      <th>2019-07-03</th>\n",
       "      <td>15.660000</td>\n",
       "    </tr>\n",
       "    <tr>\n",
       "      <th>2019-07-05</th>\n",
       "      <td>15.540000</td>\n",
       "    </tr>\n",
       "    <tr>\n",
       "      <th>2019-07-08</th>\n",
       "      <td>15.356000</td>\n",
       "    </tr>\n",
       "    <tr>\n",
       "      <th>...</th>\n",
       "      <td>...</td>\n",
       "    </tr>\n",
       "    <tr>\n",
       "      <th>2023-05-03</th>\n",
       "      <td>160.610001</td>\n",
       "    </tr>\n",
       "    <tr>\n",
       "      <th>2023-05-04</th>\n",
       "      <td>161.199997</td>\n",
       "    </tr>\n",
       "    <tr>\n",
       "      <th>2023-05-05</th>\n",
       "      <td>170.059998</td>\n",
       "    </tr>\n",
       "    <tr>\n",
       "      <th>2023-05-08</th>\n",
       "      <td>171.789993</td>\n",
       "    </tr>\n",
       "    <tr>\n",
       "      <th>2023-05-09</th>\n",
       "      <td>169.149994</td>\n",
       "    </tr>\n",
       "  </tbody>\n",
       "</table>\n",
       "<p>972 rows × 1 columns</p>\n",
       "</div>"
      ],
      "text/plain": [
       "                 Close\n",
       "Date                  \n",
       "2019-07-01   15.144667\n",
       "2019-07-02   14.970000\n",
       "2019-07-03   15.660000\n",
       "2019-07-05   15.540000\n",
       "2019-07-08   15.356000\n",
       "...                ...\n",
       "2023-05-03  160.610001\n",
       "2023-05-04  161.199997\n",
       "2023-05-05  170.059998\n",
       "2023-05-08  171.789993\n",
       "2023-05-09  169.149994\n",
       "\n",
       "[972 rows x 1 columns]"
      ]
     },
     "execution_count": 40,
     "metadata": {},
     "output_type": "execute_result"
    }
   ],
   "source": [
    "test_data"
   ]
  },
  {
   "cell_type": "code",
   "execution_count": 48,
   "id": "c0a5e4df",
   "metadata": {},
   "outputs": [
    {
     "data": {
      "text/html": [
       "<div>\n",
       "<style scoped>\n",
       "    .dataframe tbody tr th:only-of-type {\n",
       "        vertical-align: middle;\n",
       "    }\n",
       "\n",
       "    .dataframe tbody tr th {\n",
       "        vertical-align: top;\n",
       "    }\n",
       "\n",
       "    .dataframe thead th {\n",
       "        text-align: right;\n",
       "    }\n",
       "</style>\n",
       "<table border=\"1\" class=\"dataframe\">\n",
       "  <thead>\n",
       "    <tr style=\"text-align: right;\">\n",
       "      <th></th>\n",
       "      <th>Close</th>\n",
       "    </tr>\n",
       "    <tr>\n",
       "      <th>Date</th>\n",
       "      <th></th>\n",
       "    </tr>\n",
       "  </thead>\n",
       "  <tbody>\n",
       "    <tr>\n",
       "      <th>2019-07-01</th>\n",
       "      <td>15.144667</td>\n",
       "    </tr>\n",
       "    <tr>\n",
       "      <th>2019-07-02</th>\n",
       "      <td>14.970000</td>\n",
       "    </tr>\n",
       "    <tr>\n",
       "      <th>2019-07-03</th>\n",
       "      <td>15.660000</td>\n",
       "    </tr>\n",
       "    <tr>\n",
       "      <th>2019-07-05</th>\n",
       "      <td>15.540000</td>\n",
       "    </tr>\n",
       "    <tr>\n",
       "      <th>2019-07-08</th>\n",
       "      <td>15.356000</td>\n",
       "    </tr>\n",
       "  </tbody>\n",
       "</table>\n",
       "</div>"
      ],
      "text/plain": [
       "                Close\n",
       "Date                 \n",
       "2019-07-01  15.144667\n",
       "2019-07-02  14.970000\n",
       "2019-07-03  15.660000\n",
       "2019-07-05  15.540000\n",
       "2019-07-08  15.356000"
      ]
     },
     "execution_count": 48,
     "metadata": {},
     "output_type": "execute_result"
    }
   ],
   "source": [
    "test_data.head()"
   ]
  },
  {
   "cell_type": "markdown",
   "id": "1f23bfcc",
   "metadata": {},
   "source": [
    "## train_data"
   ]
  },
  {
   "cell_type": "code",
   "execution_count": 57,
   "id": "bb5e2045",
   "metadata": {},
   "outputs": [],
   "source": [
    "# start_index = test_data.index.get_loc(datetime(2010,6,29))\n",
    "# end_index = test_data.index.get_loc(datetime(2019,6,28))\n",
    "pred_sarima = model_sarima_fit.get_prediction(start = datetime(2015,6,29), end = datetime(2019,6,28))\n",
    "# end_index"
   ]
  },
  {
   "cell_type": "code",
   "execution_count": 50,
   "id": "e311cf49",
   "metadata": {},
   "outputs": [
    {
     "name": "stdout",
     "output_type": "stream",
     "text": [
      "Date\n",
      "2015-06-29    43.707721\n",
      "2015-06-30    42.878047\n",
      "2015-07-01    43.899187\n",
      "2015-07-02    44.044827\n",
      "2015-07-06    45.823639\n",
      "                ...    \n",
      "2019-06-24    36.306096\n",
      "2019-06-25    36.597382\n",
      "2019-06-26    35.962444\n",
      "2019-06-27    35.882258\n",
      "2019-06-28    36.466467\n",
      "Name: tvalues, Length: 1008, dtype: float64\n"
     ]
    }
   ],
   "source": [
    "print(pred_sarima.tvalues[0:])"
   ]
  },
  {
   "cell_type": "code",
   "execution_count": null,
   "id": "37dab68f",
   "metadata": {},
   "outputs": [],
   "source": [
    "test_data[\"Predicted_SARIMAX\"]=pred_sarima"
   ]
  },
  {
   "cell_type": "code",
   "execution_count": null,
   "id": "b8f16789",
   "metadata": {},
   "outputs": [],
   "source": [
    "data.sample(10)"
   ]
  },
  {
   "cell_type": "code",
   "execution_count": null,
   "id": "979d99a4",
   "metadata": {},
   "outputs": [],
   "source": [
    "test_data.sample(10)"
   ]
  },
  {
   "cell_type": "code",
   "execution_count": null,
   "id": "8ed5fd07",
   "metadata": {},
   "outputs": [],
   "source": [
    "# test_data[[\"Close\",\"Predicted_SARIMAX\"]].plot(xlim=['2020-06-01','2020-12-01'])"
   ]
  },
  {
   "cell_type": "code",
   "execution_count": null,
   "id": "7bb97cab",
   "metadata": {},
   "outputs": [],
   "source": []
  }
 ],
 "metadata": {
  "kernelspec": {
   "display_name": "Python 3 (ipykernel)",
   "language": "python",
   "name": "python3"
  },
  "language_info": {
   "codemirror_mode": {
    "name": "ipython",
    "version": 3
   },
   "file_extension": ".py",
   "mimetype": "text/x-python",
   "name": "python",
   "nbconvert_exporter": "python",
   "pygments_lexer": "ipython3",
   "version": "3.10.9"
  }
 },
 "nbformat": 4,
 "nbformat_minor": 5
}
