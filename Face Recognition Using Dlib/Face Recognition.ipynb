{
 "cells": [
  {
   "cell_type": "code",
   "execution_count": 1,
   "id": "10dd62d8",
   "metadata": {},
   "outputs": [
    {
     "name": "stdout",
     "output_type": "stream",
     "text": [
      "Requirement already satisfied: pillow in /home/newbie/anaconda3/lib/python3.10/site-packages (9.4.0)\r\n"
     ]
    }
   ],
   "source": [
    "!pip install pillow"
   ]
  },
  {
   "cell_type": "code",
   "execution_count": 2,
   "id": "7b03e10e",
   "metadata": {},
   "outputs": [
    {
     "ename": "ImportError",
     "evalue": "/home/newbie/anaconda3/lib/python3.10/site-packages/zmq/backend/cython/../../../../.././libstdc++.so.6: version `GLIBCXX_3.4.32' not found (required by /home/newbie/anaconda3/lib/python3.10/site-packages/_dlib_pybind11.cpython-310-x86_64-linux-gnu.so)",
     "output_type": "error",
     "traceback": [
      "\u001b[0;31m---------------------------------------------------------------------------\u001b[0m",
      "\u001b[0;31mImportError\u001b[0m                               Traceback (most recent call last)",
      "Cell \u001b[0;32mIn[2], line 4\u001b[0m\n\u001b[1;32m      2\u001b[0m \u001b[38;5;28;01mimport\u001b[39;00m \u001b[38;5;21;01mpandas\u001b[39;00m \u001b[38;5;28;01mas\u001b[39;00m \u001b[38;5;21;01mpd\u001b[39;00m\n\u001b[1;32m      3\u001b[0m \u001b[38;5;28;01mimport\u001b[39;00m \u001b[38;5;21;01mmatplotlib\u001b[39;00m\u001b[38;5;21;01m.\u001b[39;00m\u001b[38;5;21;01mpyplot\u001b[39;00m \u001b[38;5;28;01mas\u001b[39;00m \u001b[38;5;21;01mplt\u001b[39;00m\n\u001b[0;32m----> 4\u001b[0m \u001b[38;5;28;01mimport\u001b[39;00m \u001b[38;5;21;01mdlib\u001b[39;00m\n\u001b[1;32m      5\u001b[0m \u001b[38;5;28;01mimport\u001b[39;00m \u001b[38;5;21;01mcv2\u001b[39;00m\n\u001b[1;32m      6\u001b[0m \u001b[38;5;28;01mimport\u001b[39;00m \u001b[38;5;21;01mface_recognition\u001b[39;00m \u001b[38;5;28;01mas\u001b[39;00m \u001b[38;5;21;01mfr\u001b[39;00m\n",
      "File \u001b[0;32m~/anaconda3/lib/python3.10/site-packages/dlib/__init__.py:19\u001b[0m\n\u001b[1;32m     16\u001b[0m     add_lib_to_dll_path(\u001b[38;5;124m'\u001b[39m\u001b[38;5;124m'\u001b[39m)\n\u001b[1;32m     17\u001b[0m     add_lib_to_dll_path(\u001b[38;5;124m'\u001b[39m\u001b[38;5;124mCUDA_CUDART_LIBRARY-NOTFOUND\u001b[39m\u001b[38;5;124m'\u001b[39m)\n\u001b[0;32m---> 19\u001b[0m \u001b[38;5;28;01mfrom\u001b[39;00m \u001b[38;5;21;01m_dlib_pybind11\u001b[39;00m \u001b[38;5;28;01mimport\u001b[39;00m \u001b[38;5;241m*\u001b[39m\n\u001b[1;32m     20\u001b[0m \u001b[38;5;28;01mfrom\u001b[39;00m \u001b[38;5;21;01m_dlib_pybind11\u001b[39;00m \u001b[38;5;28;01mimport\u001b[39;00m __version__, __time_compiled__\n",
      "\u001b[0;31mImportError\u001b[0m: /home/newbie/anaconda3/lib/python3.10/site-packages/zmq/backend/cython/../../../../.././libstdc++.so.6: version `GLIBCXX_3.4.32' not found (required by /home/newbie/anaconda3/lib/python3.10/site-packages/_dlib_pybind11.cpython-310-x86_64-linux-gnu.so)"
     ]
    }
   ],
   "source": [
    "import numpy\n",
    "import pandas as pd\n",
    "import matplotlib.pyplot as plt\n",
    "import dlib\n",
    "import cv2\n",
    "import face_recognition as fr\n",
    "from PIL import Image, ImageDraw"
   ]
  },
  {
   "cell_type": "code",
   "execution_count": null,
   "id": "9f1460f9",
   "metadata": {},
   "outputs": [],
   "source": [
    "img1 = fr.load_image_file(\"Hazard1.jpeg\")\n",
    "img2 = fr.load_image_file(\"Hazard2.jpg\")\n",
    "# Gives output as an array"
   ]
  },
  {
   "cell_type": "code",
   "execution_count": null,
   "id": "817abc0e",
   "metadata": {},
   "outputs": [],
   "source": [
    "# # Converts image to rgb\n",
    "# img1 = cv2.cvtColor(img1, cv2.COLOR_BGR2RGB)\n",
    "# img2 = cv2.cvtColor(img2, cv2.COLOR_BGR2RGB)"
   ]
  },
  {
   "cell_type": "code",
   "execution_count": null,
   "id": "dd542e0f",
   "metadata": {},
   "outputs": [],
   "source": [
    "location = fr.face_locations(img1)[0]\n",
    "print(location)"
   ]
  },
  {
   "cell_type": "code",
   "execution_count": null,
   "id": "09ffc530",
   "metadata": {},
   "outputs": [],
   "source": [
    "landmarks = fr.face_landmarks(img1)[0]\n",
    "img_recreate = Image.fromarray(img1)\n",
    "img_draw = ImageDraw.Draw(img_recreate)\n",
    "img_draw.line(landmarks[\"left_eye\"])\n",
    "img_draw.line(landmarks['chin'])\n",
    "img_recreate.show()"
   ]
  },
  {
   "cell_type": "code",
   "execution_count": null,
   "id": "9eb595a4",
   "metadata": {},
   "outputs": [],
   "source": [
    "face = img1[201:387, 758: 944]\n",
    "cv2.imwrite(\"Hazard_face.jpeg\", face)\n",
    "plt.imshow(face)"
   ]
  },
  {
   "cell_type": "code",
   "execution_count": null,
   "id": "a90ef6cb",
   "metadata": {},
   "outputs": [],
   "source": [
    "enc1 = fr.face_encodings(img1)[0]\n",
    "enc2 = fr.face_encodings(img2)[0]"
   ]
  },
  {
   "cell_type": "code",
   "execution_count": null,
   "id": "69791fc9",
   "metadata": {},
   "outputs": [],
   "source": [
    "res = fr.compare_faces([enc1], enc2, tolerance = 0.5)\n",
    "print(res)"
   ]
  },
  {
   "cell_type": "code",
   "execution_count": null,
   "id": "8a0f5937",
   "metadata": {},
   "outputs": [],
   "source": [
    "# Returns a vool array of encoding showing which matches it"
   ]
  },
  {
   "cell_type": "code",
   "execution_count": null,
   "id": "b6d9d0be",
   "metadata": {},
   "outputs": [],
   "source": []
  }
 ],
 "metadata": {
  "kernelspec": {
   "display_name": "Python 3 (ipykernel)",
   "language": "python",
   "name": "python3"
  },
  "language_info": {
   "codemirror_mode": {
    "name": "ipython",
    "version": 3
   },
   "file_extension": ".py",
   "mimetype": "text/x-python",
   "name": "python",
   "nbconvert_exporter": "python",
   "pygments_lexer": "ipython3",
   "version": "3.10.9"
  }
 },
 "nbformat": 4,
 "nbformat_minor": 5
}
